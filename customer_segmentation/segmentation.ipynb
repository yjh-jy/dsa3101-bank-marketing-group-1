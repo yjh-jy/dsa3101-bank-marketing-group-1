{
 "cells": [
  {
   "cell_type": "markdown",
   "id": "2829b84a",
   "metadata": {},
   "source": [
    "# Preparing the Data\n",
    "## Importing packages"
   ]
  },
  {
   "cell_type": "code",
   "execution_count": null,
   "id": "d4f4996f",
   "metadata": {},
   "outputs": [],
   "source": [
    "import pandas as pd\n",
    "import numpy as np\n",
    "from sklearn.impute import KNNImputer\n",
    "from sklearn.preprocessing import MinMaxScaler, StandardScaler\n",
    "from sklearn.cluster import KMeans\n",
    "import matplotlib.pyplot as plt\n",
    "import seaborn as sns\n",
    "from sklearn.metrics import silhouette_score\n",
    "\n",
    "scaler = MinMaxScaler()"
   ]
  },
  {
   "cell_type": "markdown",
   "id": "54864dfe",
   "metadata": {},
   "source": [
    "## Reading in data"
   ]
  },
  {
   "cell_type": "code",
   "execution_count": null,
   "id": "e0fa2dcf",
   "metadata": {},
   "outputs": [],
   "source": [
    "customer_df = pd.read_csv(\"data/processed/customer.csv\")\n",
    "digital_usage_df = pd.read_csv(\"data/processed/digital_usage.csv\")\n",
    "transactions_df = pd.read_csv(\"data/processed/transactions.csv\")\n",
    "loans_df = pd.read_csv(\"data/processed/loans.csv\")\n",
    "products_df = pd.read_csv(\"data/processed/products_owned.csv\")"
   ]
  },
  {
   "cell_type": "markdown",
   "id": "5f83a11d",
   "metadata": {},
   "source": [
    "## Ensure dates are in the right format"
   ]
  },
  {
   "cell_type": "code",
   "execution_count": null,
   "id": "e32bcfab",
   "metadata": {},
   "outputs": [],
   "source": [
    "transactions_df[\"transaction_date\"] = pd.to_datetime(transactions_df[\"transaction_date\"])\n",
    "loans_df[\"due_date\"] = pd.to_datetime(loans_df[\"due_date\"])\n",
    "loans_df[\"paid_off_date\"] = pd.to_datetime(loans_df[\"paid_off_date\"])"
   ]
  },
  {
   "cell_type": "markdown",
   "id": "3e4e2f0b",
   "metadata": {},
   "source": [
    "## Creating interaction terms"
   ]
  },
  {
   "cell_type": "markdown",
   "id": "2a59e4a4",
   "metadata": {},
   "source": [
    "### Transaction Table"
   ]
  },
  {
   "cell_type": "code",
   "execution_count": null,
   "id": "24ca42b1",
   "metadata": {},
   "outputs": [],
   "source": [
    "# Calculate days_from_last_transaction\n",
    "latest_transaction = transactions_df.groupby(\"customer_id\")[\"transaction_date\"].max().reset_index()\n",
    "latest_transaction[\"days_from_last_transaction\"] = (pd.to_datetime(\"today\") - latest_transaction[\"transaction_date\"]).dt.days\n",
    "latest_transaction = latest_transaction[[\"customer_id\", \"days_from_last_transaction\"]]\n",
    "# Calculate avg_transaction_amt per customer\n",
    "transaction_summary = transactions_df.groupby(\"customer_id\").agg(total_transaction_amt=(\"transaction_amt\", \"sum\"),num_transactions=(\"transaction_id\", \"count\")).reset_index()\n",
    "transaction_summary[\"avg_transaction_amt\"] = transaction_summary[\"total_transaction_amt\"] / transaction_summary[\"num_transactions\"]\n",
    "transaction_summary = transaction_summary[[\"customer_id\", \"avg_transaction_amt\"]]"
   ]
  },
  {
   "cell_type": "markdown",
   "id": "aab418f0",
   "metadata": {},
   "source": [
    "### Digital Usage table"
   ]
  },
  {
   "cell_type": "code",
   "execution_count": null,
   "id": "b5e169c7",
   "metadata": {},
   "outputs": [],
   "source": [
    "# Calculate digital engagement score\n",
    "digital_usage_df[\"normalized_logins\"] = scaler.fit_transform(digital_usage_df[[\"mobile_logins_wk\", \"web_logins_wk\"]].sum(axis=1).values.reshape(-1, 1))\n",
    "digital_usage_df[\"normalized_session_time\"] = scaler.fit_transform(digital_usage_df[[\"avg_mobile_time\", \"avg_web_time\"]].sum(axis=1).values.reshape(-1, 1))\n",
    "digital_usage_df[\"digital_engagement_score\"] = (digital_usage_df[\"normalized_logins\"] * 0.7 +digital_usage_df[\"normalized_session_time\"] * 0.3)\n",
    "# Correct aggregation step\n",
    "digital_engagement = digital_usage_df.groupby(\"customer_id\", as_index=False)[\"digital_engagement_score\"].mean()"
   ]
  },
  {
   "cell_type": "markdown",
   "id": "074536ab",
   "metadata": {},
   "source": [
    "### Loans table"
   ]
  },
  {
   "cell_type": "code",
   "execution_count": null,
   "id": "12c93178",
   "metadata": {},
   "outputs": [],
   "source": [
    "# Median loan repayment time per customer\n",
    "loans_df[\"loan_repayment_time\"] = (loans_df[\"paid_off_date\"] - loans_df[\"due_date\"]).dt.days\n",
    "loan_summary = loans_df.groupby(\"customer_id\")[\"loan_repayment_time\"].median().reset_index()"
   ]
  },
  {
   "cell_type": "markdown",
   "id": "b09d1e91",
   "metadata": {},
   "source": [
    "### Products table"
   ]
  },
  {
   "cell_type": "code",
   "execution_count": null,
   "id": "c2f354c8",
   "metadata": {},
   "outputs": [],
   "source": [
    "# Total products owned\n",
    "products_df[\"total_products_owned\"] = products_df.iloc[:, 1:].sum(axis=1)\n",
    "products_summary = products_df[[\"customer_id\", \"total_products_owned\"]]"
   ]
  },
  {
   "cell_type": "markdown",
   "id": "0659e505",
   "metadata": {},
   "source": [
    "### Customer table"
   ]
  },
  {
   "cell_type": "code",
   "execution_count": null,
   "id": "58ed9a19",
   "metadata": {},
   "outputs": [],
   "source": [
    "# Extracting relevant columns from customer table\n",
    "customer_features = ['customer_id', 'income', 'balance', 'customer_lifetime_value', 'debt', 'tenure', 'default']\n",
    "customer_subset_df = customer_df[customer_features]"
   ]
  },
  {
   "cell_type": "markdown",
   "id": "cfd03be3",
   "metadata": {},
   "source": [
    "## Merging datasets"
   ]
  },
  {
   "cell_type": "code",
   "execution_count": null,
   "id": "1b6fe0ed",
   "metadata": {},
   "outputs": [],
   "source": [
    "df = customer_subset_df.merge(latest_transaction, on=\"customer_id\", how=\"left\")\n",
    "df = df.merge(transaction_summary[[\"customer_id\", \"avg_transaction_amt\"]], on=\"customer_id\", how=\"left\")\n",
    "df = df.merge(digital_engagement[[\"customer_id\", \"digital_engagement_score\"]], on=\"customer_id\", how=\"left\")\n",
    "df = df.merge(loan_summary, on=\"customer_id\", how=\"left\")\n",
    "df = df.merge(products_df[[\"customer_id\", \"total_products_owned\"]], on=\"customer_id\", how=\"left\")\n",
    "print(df.head())"
   ]
  },
  {
   "cell_type": "code",
   "execution_count": null,
   "id": "c5af67e1",
   "metadata": {},
   "outputs": [],
   "source": [
    "print(df.info())"
   ]
  },
  {
   "cell_type": "code",
   "execution_count": null,
   "id": "4b97f645",
   "metadata": {},
   "outputs": [],
   "source": [
    "print(df.isnull().sum())"
   ]
  },
  {
   "cell_type": "markdown",
   "id": "5bd1a318",
   "metadata": {},
   "source": [
    "## Handling missing values\n",
    "`digital_engagement_score` only has 19 missing values so we can use KNN Inputer\n",
    "`avg_transaction_amt` is NaN means no transaction data found so we set NaN to be 0\n",
    "`days_from_last_transaction` is NaN means no transaction data. We set last transaction number of days to be large but not too extreme. \n",
    "`has_loan` is NaN means no data on loans taken for that customer, We set NaN values to be 0. For those who has loaned before but but those with loans but no date of payment, we set the NaN values to be large but not too extreme\n"
   ]
  },
  {
   "cell_type": "code",
   "execution_count": null,
   "id": "c46d8514",
   "metadata": {},
   "outputs": [],
   "source": [
    "\n",
    "### engagement score only has 19 missing values\n",
    "df[\"digital_engagement_score\"] = KNNImputer(n_neighbors=5).fit_transform(df[[\"digital_engagement_score\"]])\n",
    "### no transaction record (we set transactions to be 0)\n",
    "df[\"avg_transaction_amt\"].fillna(0, inplace=True)\n",
    "### some did not do transactions. we set the days from last transaction to be a high but not too extreme value. We add 2 months of buffer\n",
    "df[\"days_from_last_transaction\"].fillna(df[\"days_from_last_transaction\"].max() + 30, inplace=True)\n",
    "### clients who did not loan before, we set has_loan variable to 0. for those that has loaned but hasnt repaid will have repayment time of max repayment time + buffer of a month\n",
    "df[\"has_loan\"] = df[\"customer_id\"].isin(loans_df[\"customer_id\"]).astype(int)\n",
    "loan_repay_max = df[\"loan_repayment_time\"].max()\n",
    "df[\"loan_repayment_time\"] = df.apply(lambda row: 0 if row[\"has_loan\"] == 0 else (loan_repay_max + 30 if np.isnan(row[\"loan_repayment_time\"]) else row[\"loan_repayment_time\"]),axis=1)"
   ]
  },
  {
   "cell_type": "code",
   "execution_count": null,
   "id": "c5416dda",
   "metadata": {},
   "outputs": [],
   "source": [
    "print(df.isnull().sum())"
   ]
  },
  {
   "cell_type": "markdown",
   "id": "0c685e77",
   "metadata": {},
   "source": [
    "# Standardizing"
   ]
  },
  {
   "cell_type": "code",
   "execution_count": null,
   "id": "cb3acd07",
   "metadata": {},
   "outputs": [],
   "source": [
    "scaler = StandardScaler()\n",
    "features_to_scale = [\"income\", \"balance\", \"customer_lifetime_value\", \"debt\", \"days_from_last_transaction\", \"avg_transaction_amt\", \"digital_engagement_score\", \"total_products_owned\", \"loan_repayment_time\"]\n",
    "df_scaled = scaler.fit_transform(df[features_to_scale])"
   ]
  },
  {
   "cell_type": "code",
   "execution_count": null,
   "id": "1fe05303",
   "metadata": {},
   "outputs": [],
   "source": [
    "features = df.columns\n",
    "print(features)"
   ]
  },
  {
   "cell_type": "markdown",
   "id": "ecd391db",
   "metadata": {},
   "source": [
    "# Modeling"
   ]
  },
  {
   "cell_type": "markdown",
   "id": "137c494d",
   "metadata": {},
   "source": [
    "## K-Means Clustering\n",
    "We use k = 4 to segment the customers into 4 categories \n",
    "1. High value\n",
    "2. Occasional\n",
    "3. Budget conscious\n",
    "4. At risk / inactive customers\n",
    "At risk / inactive customers"
   ]
  },
  {
   "cell_type": "code",
   "execution_count": null,
   "id": "0e9e1616",
   "metadata": {},
   "outputs": [],
   "source": [
    "k = 4\n",
    "kmeans = KMeans(n_clusters=k, random_state=42)\n",
    "df[\"Cluster\"] = kmeans.fit_predict(df_scaled)"
   ]
  },
  {
   "cell_type": "markdown",
   "id": "cf3577e3",
   "metadata": {},
   "source": [
    "### Number of clients in each cluster"
   ]
  },
  {
   "cell_type": "code",
   "execution_count": null,
   "id": "a9f72500",
   "metadata": {},
   "outputs": [],
   "source": [
    "print(df[\"Cluster\"].value_counts())"
   ]
  },
  {
   "cell_type": "markdown",
   "id": "79a25e44",
   "metadata": {},
   "source": [
    "### Getting information about each cluster's mean of features"
   ]
  },
  {
   "cell_type": "code",
   "execution_count": null,
   "id": "f53fb1ca",
   "metadata": {},
   "outputs": [],
   "source": [
    "print(df.groupby(\"Cluster\")[features].mean())"
   ]
  },
  {
   "cell_type": "markdown",
   "id": "7b491a6b",
   "metadata": {},
   "source": [
    "## What does each segment mean?\n",
    "Based on mean of features (1: \"High-value\", 2: \"At risk / inactive customers\", 3: \"Occasional\", 0: \"Budget-conscious\")"
   ]
  },
  {
   "cell_type": "code",
   "execution_count": null,
   "id": "fd60f01c",
   "metadata": {},
   "outputs": [],
   "source": [
    "segment_mapping = {\n",
    "    1: \"High-value\",\n",
    "    2: \"At risk / inactive customers\",\n",
    "    3: \"Occasional\",\n",
    "    0: \"Budget-conscious\"\n",
    "}"
   ]
  },
  {
   "cell_type": "markdown",
   "id": "fd86caa4",
   "metadata": {},
   "source": [
    "# Creating DF with the segments"
   ]
  },
  {
   "cell_type": "code",
   "execution_count": null,
   "id": "c3ad3194",
   "metadata": {},
   "outputs": [],
   "source": [
    "customer_segments = df[[\"customer_id\", \"Cluster\"]].copy()\n",
    "customer_segments[\"Segment\"] = customer_segments[\"Cluster\"].map(segment_mapping)"
   ]
  },
  {
   "cell_type": "code",
   "execution_count": null,
   "id": "e9e42f8d",
   "metadata": {},
   "outputs": [],
   "source": [
    "# Drop 'Cluster' column\n",
    "customer_segments.drop(columns=[\"Cluster\"], inplace=True)"
   ]
  },
  {
   "cell_type": "code",
   "execution_count": null,
   "id": "dd0e1342",
   "metadata": {},
   "outputs": [],
   "source": [
    "print(customer_segments.head())"
   ]
  },
  {
   "cell_type": "markdown",
   "id": "9ef0c7c1",
   "metadata": {},
   "source": [
    "## Creates csv table in under customer segmentation"
   ]
  },
  {
   "cell_type": "code",
   "execution_count": null,
   "id": "b727d781",
   "metadata": {},
   "outputs": [],
   "source": [
    "customer_segments.to_csv(\"customer_segmentation/customer_segments.csv\", index=False)\n",
    "print(\"Saved 'customer_segments.csv' with Customer ID & segment name\")"
   ]
  }
 ],
 "metadata": {
  "jupytext": {
   "cell_metadata_filter": "-all",
   "main_language": "python",
   "notebook_metadata_filter": "-all"
  },
  "language_info": {
   "name": "python"
  }
 },
 "nbformat": 4,
 "nbformat_minor": 5
}
