{
 "cells": [
  {
   "cell_type": "markdown",
   "id": "2829b84a",
   "metadata": {},
   "source": [
    "# Preparing the Data\n",
    "## Importing packages"
   ]
  },
  {
   "cell_type": "code",
   "execution_count": 31,
   "id": "d4f4996f",
   "metadata": {},
   "outputs": [],
   "source": [
    "import pandas as pd\n",
    "import numpy as np\n",
    "from sklearn.impute import KNNImputer\n",
    "from sklearn.preprocessing import MinMaxScaler, StandardScaler\n",
    "from sklearn.cluster import KMeans\n",
    "import matplotlib.pyplot as plt\n",
    "import seaborn as sns\n",
    "from sklearn.metrics import silhouette_score\n",
    "import os"
   ]
  },
  {
   "cell_type": "markdown",
   "id": "54864dfe",
   "metadata": {},
   "source": [
    "## Reading in data"
   ]
  },
  {
   "cell_type": "code",
   "execution_count": 32,
   "id": "e0fa2dcf",
   "metadata": {},
   "outputs": [],
   "source": [
    "project_root = os.getcwd()  # Assumes script runs from project root\n",
    "\n",
    "# Define the path to the processed data folder\n",
    "data_path = os.path.join(project_root, \"../data\", \"processed\")\n",
    "\n",
    "# Load the CSV files\n",
    "customer_df = pd.read_csv(os.path.join(data_path, \"customer.csv\"))\n",
    "digital_usage_df = pd.read_csv(os.path.join(data_path, \"digital_usage.csv\"))\n",
    "transactions_df = pd.read_csv(os.path.join(data_path, \"transactions.csv\"))\n",
    "loans_df = pd.read_csv(os.path.join(data_path, \"loans.csv\"))\n",
    "products_df = pd.read_csv(os.path.join(data_path, \"products_owned.csv\"))"
   ]
  },
  {
   "cell_type": "markdown",
   "id": "5f83a11d",
   "metadata": {},
   "source": [
    "## Ensure dates are in the right format"
   ]
  },
  {
   "cell_type": "code",
   "execution_count": 33,
   "id": "e32bcfab",
   "metadata": {},
   "outputs": [],
   "source": [
    "transactions_df[\"transaction_date\"] = pd.to_datetime(transactions_df[\"transaction_date\"])\n",
    "loans_df[\"due_date\"] = pd.to_datetime(loans_df[\"due_date\"])\n",
    "loans_df[\"paid_off_date\"] = pd.to_datetime(loans_df[\"paid_off_date\"])"
   ]
  },
  {
   "cell_type": "markdown",
   "id": "3e4e2f0b",
   "metadata": {},
   "source": [
    "## Creating interaction terms"
   ]
  },
  {
   "cell_type": "markdown",
   "id": "2a59e4a4",
   "metadata": {},
   "source": [
    "### Transaction Table\n",
    "Since days_from_last_transaction is calculated using the current date so this particular value will be changing everyday."
   ]
  },
  {
   "cell_type": "code",
   "execution_count": 34,
   "id": "24ca42b1",
   "metadata": {},
   "outputs": [],
   "source": [
    "# Calculate days_from_last_transaction\n",
    "latest_transaction = transactions_df.groupby(\"customer_id\")[\"transaction_date\"].max().reset_index()\n",
    "latest_transaction[\"days_from_last_transaction\"] = (pd.to_datetime(\"today\") - latest_transaction[\"transaction_date\"]).dt.days\n",
    "latest_transaction = latest_transaction[[\"customer_id\", \"days_from_last_transaction\"]]\n",
    "# Calculate avg_transaction_amt per customer\n",
    "transaction_summary = transactions_df.groupby(\"customer_id\").agg(total_transaction_amt=(\"transaction_amt\", \"sum\"),num_transactions=(\"transaction_id\", \"count\")).reset_index()\n",
    "transaction_summary[\"avg_transaction_amt\"] = transaction_summary[\"total_transaction_amt\"] / transaction_summary[\"num_transactions\"]\n",
    "transaction_summary = transaction_summary[[\"customer_id\", \"avg_transaction_amt\"]]"
   ]
  },
  {
   "cell_type": "markdown",
   "id": "aab418f0",
   "metadata": {},
   "source": [
    "### Digital Usage table"
   ]
  },
  {
   "cell_type": "code",
   "execution_count": 35,
   "id": "b5e169c7",
   "metadata": {},
   "outputs": [],
   "source": [
    "# Calculate digital engagement score\n",
    "scaler = MinMaxScaler()\n",
    "digital_usage_df[\"normalized_logins\"] = scaler.fit_transform(digital_usage_df[[\"mobile_logins_wk\", \"web_logins_wk\"]].sum(axis=1).values.reshape(-1, 1))\n",
    "digital_usage_df[\"normalized_session_time\"] = scaler.fit_transform(digital_usage_df[[\"avg_mobile_time\", \"avg_web_time\"]].sum(axis=1).values.reshape(-1, 1))\n",
    "digital_usage_df[\"digital_engagement_score\"] = (digital_usage_df[\"normalized_logins\"] * 0.7 +digital_usage_df[\"normalized_session_time\"] * 0.3)\n",
    "# Correct aggregation step\n",
    "digital_engagement = digital_usage_df.groupby(\"customer_id\", as_index=False)[\"digital_engagement_score\"].mean()"
   ]
  },
  {
   "cell_type": "markdown",
   "id": "074536ab",
   "metadata": {},
   "source": [
    "### Loans table"
   ]
  },
  {
   "cell_type": "code",
   "execution_count": 36,
   "id": "12c93178",
   "metadata": {},
   "outputs": [],
   "source": [
    "# Median loan repayment time per customer\n",
    "loans_df[\"loan_repayment_time\"] = (loans_df[\"paid_off_date\"] - loans_df[\"due_date\"]).dt.days\n",
    "loan_summary = loans_df.groupby(\"customer_id\")[\"loan_repayment_time\"].median().reset_index()"
   ]
  },
  {
   "cell_type": "markdown",
   "id": "b09d1e91",
   "metadata": {},
   "source": [
    "### Products table"
   ]
  },
  {
   "cell_type": "code",
   "execution_count": 37,
   "id": "c2f354c8",
   "metadata": {},
   "outputs": [],
   "source": [
    "# Total products owned\n",
    "products_df[\"total_products_owned\"] = products_df.iloc[:, 1:].sum(axis=1)\n",
    "products_summary = products_df[[\"customer_id\", \"total_products_owned\"]]"
   ]
  },
  {
   "cell_type": "markdown",
   "id": "0659e505",
   "metadata": {},
   "source": [
    "### Customer table"
   ]
  },
  {
   "cell_type": "code",
   "execution_count": 38,
   "id": "58ed9a19",
   "metadata": {},
   "outputs": [],
   "source": [
    "# Extracting relevant columns from customer table\n",
    "customer_features = ['customer_id', 'income', 'balance', 'customer_lifetime_value', 'debt', 'tenure', 'default']\n",
    "customer_subset_df = customer_df[customer_features]"
   ]
  },
  {
   "cell_type": "markdown",
   "id": "cfd03be3",
   "metadata": {},
   "source": [
    "## Merging datasets"
   ]
  },
  {
   "cell_type": "code",
   "execution_count": 39,
   "id": "1b6fe0ed",
   "metadata": {},
   "outputs": [
    {
     "name": "stdout",
     "output_type": "stream",
     "text": [
      "   customer_id   income   balance  customer_lifetime_value      debt  tenure  \\\n",
      "0          166  1456.22 -10837.70                   214.12  38473.44      31   \n",
      "1          139   597.64  -8163.90                   255.79  96402.54      20   \n",
      "2          484   822.64  -7492.65                   129.42   9731.79      36   \n",
      "3          508   340.44  -5520.04                   125.30  18799.09      29   \n",
      "4          119  1022.64  -5071.99                   347.16  19080.59      36   \n",
      "\n",
      "   default  days_from_last_transaction  avg_transaction_amt  \\\n",
      "0        1                         NaN                  NaN   \n",
      "1        1                         NaN                  NaN   \n",
      "2        1                         NaN                  NaN   \n",
      "3        1                       250.0              109.536   \n",
      "4        1                         NaN                  NaN   \n",
      "\n",
      "   digital_engagement_score  loan_repayment_time  total_products_owned  \n",
      "0                  0.417834               -627.5                     2  \n",
      "1                  0.361715                  NaN                     2  \n",
      "2                  0.258218               -771.0                     1  \n",
      "3                  0.220750                  NaN                     1  \n",
      "4                  0.000000                  NaN                     1  \n"
     ]
    }
   ],
   "source": [
    "df = customer_subset_df.merge(latest_transaction, on=\"customer_id\", how=\"left\")\n",
    "df = df.merge(transaction_summary[[\"customer_id\", \"avg_transaction_amt\"]], on=\"customer_id\", how=\"left\")\n",
    "df = df.merge(digital_engagement[[\"customer_id\", \"digital_engagement_score\"]], on=\"customer_id\", how=\"left\")\n",
    "df = df.merge(loan_summary, on=\"customer_id\", how=\"left\")\n",
    "df = df.merge(products_df[[\"customer_id\", \"total_products_owned\"]], on=\"customer_id\", how=\"left\")\n",
    "print(df.head())"
   ]
  },
  {
   "cell_type": "code",
   "execution_count": 40,
   "id": "c5af67e1",
   "metadata": {},
   "outputs": [
    {
     "name": "stdout",
     "output_type": "stream",
     "text": [
      "<class 'pandas.core.frame.DataFrame'>\n",
      "RangeIndex: 4000 entries, 0 to 3999\n",
      "Data columns (total 12 columns):\n",
      " #   Column                      Non-Null Count  Dtype  \n",
      "---  ------                      --------------  -----  \n",
      " 0   customer_id                 4000 non-null   int64  \n",
      " 1   income                      4000 non-null   float64\n",
      " 2   balance                     4000 non-null   float64\n",
      " 3   customer_lifetime_value     4000 non-null   float64\n",
      " 4   debt                        4000 non-null   float64\n",
      " 5   tenure                      4000 non-null   int64  \n",
      " 6   default                     4000 non-null   int64  \n",
      " 7   days_from_last_transaction  1844 non-null   float64\n",
      " 8   avg_transaction_amt         1844 non-null   float64\n",
      " 9   digital_engagement_score    3981 non-null   float64\n",
      " 10  loan_repayment_time         2629 non-null   float64\n",
      " 11  total_products_owned        4000 non-null   int64  \n",
      "dtypes: float64(8), int64(4)\n",
      "memory usage: 375.1 KB\n",
      "None\n"
     ]
    }
   ],
   "source": [
    "print(df.info())"
   ]
  },
  {
   "cell_type": "code",
   "execution_count": 41,
   "id": "4b97f645",
   "metadata": {},
   "outputs": [
    {
     "name": "stdout",
     "output_type": "stream",
     "text": [
      "customer_id                      0\n",
      "income                           0\n",
      "balance                          0\n",
      "customer_lifetime_value          0\n",
      "debt                             0\n",
      "tenure                           0\n",
      "default                          0\n",
      "days_from_last_transaction    2156\n",
      "avg_transaction_amt           2156\n",
      "digital_engagement_score        19\n",
      "loan_repayment_time           1371\n",
      "total_products_owned             0\n",
      "dtype: int64\n"
     ]
    }
   ],
   "source": [
    "print(df.isnull().sum())"
   ]
  },
  {
   "cell_type": "markdown",
   "id": "5bd1a318",
   "metadata": {},
   "source": [
    "## Handling missing values\n",
    "`digital_engagement_score` only has 19 missing values so we can use KNN Inputer\n",
    "`avg_transaction_amt` is NaN means no transaction data found so we set NaN to be 0\n",
    "`days_from_last_transaction` is NaN means no transaction data. We set last transaction number of days to be large but not too extreme. \n",
    "`has_loan` is NaN means no data on loans taken for that customer, We set NaN values to be 0. For those who has loaned before but but those with loans but no date of payment, we set the NaN values to be large but not too extreme\n"
   ]
  },
  {
   "cell_type": "code",
   "execution_count": 42,
   "id": "c46d8514",
   "metadata": {},
   "outputs": [
    {
     "name": "stderr",
     "output_type": "stream",
     "text": [
      "/var/folders/wc/5cwlt66x6d12kf_tz4qkd_580000gn/T/ipykernel_4895/337393323.py:4: FutureWarning: A value is trying to be set on a copy of a DataFrame or Series through chained assignment using an inplace method.\n",
      "The behavior will change in pandas 3.0. This inplace method will never work because the intermediate object on which we are setting values always behaves as a copy.\n",
      "\n",
      "For example, when doing 'df[col].method(value, inplace=True)', try using 'df.method({col: value}, inplace=True)' or df[col] = df[col].method(value) instead, to perform the operation inplace on the original object.\n",
      "\n",
      "\n",
      "  df[\"avg_transaction_amt\"].fillna(0, inplace=True)\n",
      "/var/folders/wc/5cwlt66x6d12kf_tz4qkd_580000gn/T/ipykernel_4895/337393323.py:6: FutureWarning: A value is trying to be set on a copy of a DataFrame or Series through chained assignment using an inplace method.\n",
      "The behavior will change in pandas 3.0. This inplace method will never work because the intermediate object on which we are setting values always behaves as a copy.\n",
      "\n",
      "For example, when doing 'df[col].method(value, inplace=True)', try using 'df.method({col: value}, inplace=True)' or df[col] = df[col].method(value) instead, to perform the operation inplace on the original object.\n",
      "\n",
      "\n",
      "  df[\"days_from_last_transaction\"].fillna(df[\"days_from_last_transaction\"].max() + 30, inplace=True)\n"
     ]
    }
   ],
   "source": [
    "\n",
    "### engagement score only has 19 missing values\n",
    "df[\"digital_engagement_score\"] = KNNImputer(n_neighbors=5).fit_transform(df[[\"digital_engagement_score\"]])\n",
    "### no transaction record (we set transactions to be 0)\n",
    "df[\"avg_transaction_amt\"].fillna(0, inplace=True)\n",
    "### some did not do transactions. we set the days from last transaction to be a high but not too extreme value. We add 2 months of buffer\n",
    "df[\"days_from_last_transaction\"].fillna(df[\"days_from_last_transaction\"].max() + 30, inplace=True)\n",
    "### clients who did not loan before, we set has_loan variable to 0. for those that has loaned but hasnt repaid will have repayment time of max repayment time + buffer of a month\n",
    "df[\"has_loan\"] = df[\"customer_id\"].isin(loans_df[\"customer_id\"]).astype(int)\n",
    "loan_repay_max = df[\"loan_repayment_time\"].max()\n",
    "df[\"loan_repayment_time\"] = df.apply(lambda row: 0 if row[\"has_loan\"] == 0 else (loan_repay_max + 30 if np.isnan(row[\"loan_repayment_time\"]) else row[\"loan_repayment_time\"]),axis=1)"
   ]
  },
  {
   "cell_type": "code",
   "execution_count": 43,
   "id": "c5416dda",
   "metadata": {},
   "outputs": [
    {
     "name": "stdout",
     "output_type": "stream",
     "text": [
      "customer_id                   0\n",
      "income                        0\n",
      "balance                       0\n",
      "customer_lifetime_value       0\n",
      "debt                          0\n",
      "tenure                        0\n",
      "default                       0\n",
      "days_from_last_transaction    0\n",
      "avg_transaction_amt           0\n",
      "digital_engagement_score      0\n",
      "loan_repayment_time           0\n",
      "total_products_owned          0\n",
      "has_loan                      0\n",
      "dtype: int64\n"
     ]
    }
   ],
   "source": [
    "print(df.isnull().sum())"
   ]
  },
  {
   "cell_type": "markdown",
   "id": "0c685e77",
   "metadata": {},
   "source": [
    "# Standardizing"
   ]
  },
  {
   "cell_type": "code",
   "execution_count": 44,
   "id": "cb3acd07",
   "metadata": {},
   "outputs": [],
   "source": [
    "scaler = StandardScaler()\n",
    "features_to_scale = [\"income\", \"balance\", \"customer_lifetime_value\", \"debt\", \"days_from_last_transaction\", \"avg_transaction_amt\", \"digital_engagement_score\", \"total_products_owned\", \"loan_repayment_time\"]\n",
    "df_scaled = scaler.fit_transform(df[features_to_scale])\n",
    "df_scaled = pd.DataFrame(df_scaled, columns=features_to_scale)"
   ]
  },
  {
   "cell_type": "code",
   "execution_count": 45,
   "id": "1fe05303",
   "metadata": {},
   "outputs": [
    {
     "name": "stdout",
     "output_type": "stream",
     "text": [
      "Index(['customer_id', 'income', 'balance', 'customer_lifetime_value', 'debt',\n",
      "       'tenure', 'default', 'days_from_last_transaction',\n",
      "       'avg_transaction_amt', 'digital_engagement_score',\n",
      "       'loan_repayment_time', 'total_products_owned', 'has_loan'],\n",
      "      dtype='object')\n"
     ]
    }
   ],
   "source": [
    "features = df.columns\n",
    "print(features)"
   ]
  },
  {
   "cell_type": "markdown",
   "id": "ecd391db",
   "metadata": {},
   "source": [
    "# Modeling"
   ]
  },
  {
   "cell_type": "markdown",
   "id": "137c494d",
   "metadata": {},
   "source": [
    "## K-Means Clustering\n",
    "We use k = 4 to segment the customers into 4 categories \n",
    "1. High value\n",
    "2. Occasional\n",
    "3. Budget conscious\n",
    "4. At risk / inactive customers\n",
    "At risk / inactive customers"
   ]
  },
  {
   "cell_type": "code",
   "execution_count": 46,
   "id": "0e9e1616",
   "metadata": {},
   "outputs": [],
   "source": [
    "optimal_k = 4\n",
    "df_scaled[\"Cluster\"] = KMeans(n_clusters= optimal_k, random_state=42).fit_predict(df_scaled)\n",
    "df[\"Cluster\"] = df_scaled[\"Cluster\"]"
   ]
  },
  {
   "cell_type": "markdown",
   "id": "cf3577e3",
   "metadata": {},
   "source": [
    "### Number of clients in each cluster"
   ]
  },
  {
   "cell_type": "code",
   "execution_count": 47,
   "id": "a9f72500",
   "metadata": {},
   "outputs": [
    {
     "name": "stdout",
     "output_type": "stream",
     "text": [
      "Cluster\n",
      "0    1534\n",
      "3    1365\n",
      "2     912\n",
      "1     189\n",
      "Name: count, dtype: int64\n"
     ]
    }
   ],
   "source": [
    "print(df[\"Cluster\"].value_counts())"
   ]
  },
  {
   "cell_type": "markdown",
   "id": "79a25e44",
   "metadata": {},
   "source": [
    "### Getting information about each cluster's mean of features"
   ]
  },
  {
   "cell_type": "code",
   "execution_count": 48,
   "id": "f53fb1ca",
   "metadata": {},
   "outputs": [
    {
     "name": "stdout",
     "output_type": "stream",
     "text": [
      "           income   balance  customer_lifetime_value      debt  \\\n",
      "Cluster                                                          \n",
      "0       -0.200312 -0.159079                -0.062185 -0.040794   \n",
      "1        3.031960  2.885331                 0.305981  0.027274   \n",
      "2       -0.210849 -0.160435                -0.087447  0.095988   \n",
      "3       -0.053822 -0.113541                 0.085944 -0.022064   \n",
      "\n",
      "         days_from_last_transaction  avg_transaction_amt  \\\n",
      "Cluster                                                    \n",
      "0                          0.722719            -0.563809   \n",
      "1                          0.138334            -0.042496   \n",
      "2                          0.547439            -0.456242   \n",
      "3                         -1.197113             0.944327   \n",
      "\n",
      "         digital_engagement_score  total_products_owned  loan_repayment_time  \n",
      "Cluster                                                                       \n",
      "0                        0.018448              0.089732            -0.701264  \n",
      "1                       -0.254477              0.693355            -0.039996  \n",
      "2                       -0.013198             -0.406309             1.302231  \n",
      "3                        0.023321              0.074624            -0.076437  \n"
     ]
    }
   ],
   "source": [
    "cluster_means = df_scaled.groupby(\"Cluster\")[features_to_scale].mean()\n",
    "print(cluster_means)"
   ]
  },
  {
   "cell_type": "markdown",
   "id": "7b491a6b",
   "metadata": {},
   "source": [
    "## Cluster Labels\n",
    "We assign weighted scores to each cluster\n",
    "\n",
    "- 40% Income\n",
    "- 20% Balance\n",
    "- 20% Digital Engagement\n",
    "- 10% Transactions\n",
    "- 10% Products Owned\n",
    "Then we rank clusters based on their total score\n",
    "\n",
    "Top cluster = High-Value\n",
    "2nd highest = Occasional\n",
    "3rd highest = Budget-Conscious\n",
    "Last = Inactive\n",
    "Assign segments dynamically based on rankings"
   ]
  },
  {
   "cell_type": "code",
   "execution_count": 49,
   "id": "fd60f01c",
   "metadata": {},
   "outputs": [
    {
     "name": "stdout",
     "output_type": "stream",
     "text": [
      "\n",
      "Cluster Ranking by Score (Best to Worst):\n",
      "Rank 1: Cluster 1 → High-value\n",
      "Rank 2: Cluster 3 → Occasional\n",
      "Rank 3: Cluster 0 → Budget-conscious\n",
      "Rank 4: Cluster 2 → At risk / inactive customers\n"
     ]
    }
   ],
   "source": [
    "# Compute Weighted Scores\n",
    "cluster_means[\"score\"] = (\n",
    "    cluster_means[\"income\"] * 0.4 + \n",
    "    cluster_means[\"balance\"] * 0.2 + \n",
    "    cluster_means[\"digital_engagement_score\"] * 0.2 + \n",
    "    cluster_means[\"avg_transaction_amt\"] * 0.1 + \n",
    "    cluster_means[\"total_products_owned\"] * 0.1\n",
    ")\n",
    "\n",
    "# Rank Clusters Based on Score (Descending)\n",
    "sorted_clusters = cluster_means[\"score\"].sort_values(ascending=False).index.tolist()\n",
    "\n",
    "# Assign Segments Based on Rank\n",
    "dynamic_segment_mapping = {\n",
    "    sorted_clusters[0]: \"High-value\",\n",
    "    sorted_clusters[1]: \"Occasional\",\n",
    "    sorted_clusters[2]: \"Budget-conscious\",\n",
    "    sorted_clusters[3]: \"At risk / inactive customers\"\n",
    "}\n",
    "\n",
    "# Print cluster rankings before applying\n",
    "print(\"\\nCluster Ranking by Score (Best to Worst):\")\n",
    "for i, cluster in enumerate(sorted_clusters):\n",
    "    print(f\"Rank {i+1}: Cluster {cluster} → {dynamic_segment_mapping[cluster]}\")"
   ]
  },
  {
   "cell_type": "markdown",
   "id": "fd86caa4",
   "metadata": {},
   "source": [
    "# Creating DF with the segments"
   ]
  },
  {
   "cell_type": "code",
   "execution_count": 50,
   "id": "c3ad3194",
   "metadata": {},
   "outputs": [
    {
     "name": "stdout",
     "output_type": "stream",
     "text": [
      "Segment\n",
      "Budget-conscious                1534\n",
      "Occasional                      1365\n",
      "At risk / inactive customers     912\n",
      "High-value                       189\n",
      "Name: count, dtype: int64\n"
     ]
    }
   ],
   "source": [
    "# Apply Mapping to DataFrame\n",
    "df[\"Segment\"] = df[\"Cluster\"].map(dynamic_segment_mapping)\n",
    "print(df[\"Segment\"].value_counts())"
   ]
  },
  {
   "cell_type": "code",
   "execution_count": 51,
   "id": "8eeb2511",
   "metadata": {},
   "outputs": [
    {
     "name": "stdout",
     "output_type": "stream",
     "text": [
      "   customer_id                       Segment\n",
      "0          166              Budget-conscious\n",
      "1          139  At risk / inactive customers\n",
      "2          484              Budget-conscious\n",
      "3          508  At risk / inactive customers\n",
      "4          119  At risk / inactive customers\n"
     ]
    }
   ],
   "source": [
    "df_final = df[[\"customer_id\", \"Segment\"]]\n",
    "print(df_final.head())"
   ]
  },
  {
   "cell_type": "code",
   "execution_count": 52,
   "id": "9de701eb",
   "metadata": {},
   "outputs": [
    {
     "name": "stdout",
     "output_type": "stream",
     "text": [
      "Mean of original features per segment:\n",
      "                                    income       balance  \\\n",
      "Segment                                                    \n",
      "At risk / inactive customers   4247.079221    784.099386   \n",
      "Budget-conscious               4280.716890    793.310398   \n",
      "High-value                    14600.033122  21477.896772   \n",
      "Occasional                     4748.399934   1102.706374   \n",
      "\n",
      "                              customer_lifetime_value          debt  \\\n",
      "Segment                                                               \n",
      "At risk / inactive customers               302.722292  27741.362818   \n",
      "Budget-conscious                           306.303911  24371.915913   \n",
      "High-value                                 358.503228  26048.675079   \n",
      "Occasional                                 327.305941  24833.304755   \n",
      "\n",
      "                              days_from_last_transaction  avg_transaction_amt  \\\n",
      "Segment                                                                         \n",
      "At risk / inactive customers                  755.194079            48.965315   \n",
      "Budget-conscious                              805.557366            20.507714   \n",
      "High-value                                    637.645503           158.424558   \n",
      "Occasional                                    253.930403           419.495096   \n",
      "\n",
      "                              digital_engagement_score  total_products_owned  \\\n",
      "Segment                                                                        \n",
      "At risk / inactive customers                  0.326915              1.368421   \n",
      "Budget-conscious                              0.332955              1.880052   \n",
      "High-value                                    0.280866              2.502646   \n",
      "Occasional                                    0.333885              1.864469   \n",
      "\n",
      "                              loan_repayment_time  \n",
      "Segment                                            \n",
      "At risk / inactive customers            -6.231360  \n",
      "Budget-conscious                      -919.934159  \n",
      "High-value                            -618.359788  \n",
      "Occasional                            -634.978755  \n"
     ]
    }
   ],
   "source": [
    "# Getting information of these segments\n",
    "segment_means = df.groupby(\"Segment\")[features_to_scale].mean()\n",
    "# Display the results\n",
    "print(\"Mean of original features per segment:\")\n",
    "print(segment_means)"
   ]
  },
  {
   "cell_type": "markdown",
   "id": "9ef0c7c1",
   "metadata": {},
   "source": [
    "## Creates csv table in under customer segmentation"
   ]
  },
  {
   "cell_type": "code",
   "execution_count": 55,
   "id": "b727d781",
   "metadata": {},
   "outputs": [
    {
     "name": "stdout",
     "output_type": "stream",
     "text": [
      "Saved 'customer_segments.csv' with Customer ID & segment name\n"
     ]
    }
   ],
   "source": [
    "df_final.to_csv(\"customer_segments.csv\", index=False)\n",
    "print(\"Saved 'customer_segments.csv' with Customer ID & segment name\")"
   ]
  }
 ],
 "metadata": {
  "jupytext": {
   "cell_metadata_filter": "-all",
   "main_language": "python",
   "notebook_metadata_filter": "-all"
  },
  "kernelspec": {
   "display_name": ".venv",
   "language": "python",
   "name": "python3"
  },
  "language_info": {
   "codemirror_mode": {
    "name": "ipython",
    "version": 3
   },
   "file_extension": ".py",
   "mimetype": "text/x-python",
   "name": "python",
   "nbconvert_exporter": "python",
   "pygments_lexer": "ipython3",
   "version": "3.10.6"
  }
 },
 "nbformat": 4,
 "nbformat_minor": 5
}
