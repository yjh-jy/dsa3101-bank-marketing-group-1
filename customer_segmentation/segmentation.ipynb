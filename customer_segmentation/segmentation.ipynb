{
 "cells": [
  {
   "cell_type": "markdown",
   "id": "2829b84a",
   "metadata": {},
   "source": [
    "# Preparing the Data\n",
    "## Importing packages"
   ]
  },
  {
   "cell_type": "code",
   "execution_count": 82,
   "id": "d4f4996f",
   "metadata": {},
   "outputs": [],
   "source": [
    "import pandas as pd\n",
    "import numpy as np\n",
    "from sklearn.impute import KNNImputer\n",
    "from sklearn.preprocessing import MinMaxScaler, StandardScaler, RobustScaler\n",
    "from sklearn.cluster import KMeans\n",
    "import matplotlib.pyplot as plt\n",
    "import seaborn as sns\n",
    "from sklearn.metrics import silhouette_score\n",
    "from sklearn.decomposition import PCA\n",
    "from scipy.stats.mstats import winsorize\n",
    "from scipy.stats import zscore\n",
    "\n",
    "import os"
   ]
  },
  {
   "cell_type": "markdown",
   "id": "54864dfe",
   "metadata": {},
   "source": [
    "## Reading in data"
   ]
  },
  {
   "cell_type": "code",
   "execution_count": 83,
   "id": "e0fa2dcf",
   "metadata": {},
   "outputs": [],
   "source": [
    "project_root = os.getcwd()  # Assumes script runs from project root\n",
    "\n",
    "# Define the path to the processed data folder\n",
    "data_path = os.path.join(project_root, \"..\", \"data\", \"processed\")\n",
    "\n",
    "# Load the CSV files\n",
    "customer_df = pd.read_csv(os.path.join(data_path, \"customer.csv\"))\n",
    "digital_usage_df = pd.read_csv(os.path.join(data_path, \"digital_usage.csv\"))\n",
    "transactions_df = pd.read_csv(os.path.join(data_path, \"transactions.csv\"))\n",
    "loans_df = pd.read_csv(os.path.join(data_path, \"loans.csv\"))\n",
    "products_df = pd.read_csv(os.path.join(data_path, \"products_owned.csv\"))"
   ]
  },
  {
   "cell_type": "markdown",
   "id": "5f83a11d",
   "metadata": {},
   "source": [
    "## Ensure dates are in the right format"
   ]
  },
  {
   "cell_type": "code",
   "execution_count": 84,
   "id": "e32bcfab",
   "metadata": {},
   "outputs": [],
   "source": [
    "transactions_df[\"transaction_date\"] = pd.to_datetime(transactions_df[\"transaction_date\"])\n",
    "loans_df[\"due_date\"] = pd.to_datetime(loans_df[\"due_date\"])\n",
    "loans_df[\"paid_off_date\"] = pd.to_datetime(loans_df[\"paid_off_date\"])"
   ]
  },
  {
   "cell_type": "markdown",
   "id": "3e4e2f0b",
   "metadata": {},
   "source": [
    "## Creating interaction terms"
   ]
  },
  {
   "cell_type": "markdown",
   "id": "2a59e4a4",
   "metadata": {},
   "source": [
    "### Transaction Table\n",
    "Since days_from_last_transaction is calculated using the current date so this particular value will be changing everyday. We calculate days_from_last_transaction and num_transactions from the transactions table"
   ]
  },
  {
   "cell_type": "code",
   "execution_count": 85,
   "id": "24ca42b1",
   "metadata": {},
   "outputs": [],
   "source": [
    "### Calculate days_from_last_transaction and num_transactions\n",
    "latest_transaction = transactions_df.groupby(\"customer_id\")[\"transaction_date\"].max().reset_index()\n",
    "latest_transaction[\"days_from_last_transaction\"] = (pd.to_datetime(\"today\") - latest_transaction[\"transaction_date\"]).dt.days\n",
    "latest_transaction = latest_transaction[[\"customer_id\", \"days_from_last_transaction\"]]\n",
    "### Calculate avg_transaction_amt per customer\n",
    "transaction_summary = transactions_df.groupby(\"customer_id\").agg(total_transaction_amt=(\"transaction_amt\", \"sum\"),num_transactions=(\"transaction_id\", \"count\")).reset_index()\n",
    "transaction_summary[\"avg_transaction_amt\"] = transaction_summary[\"total_transaction_amt\"] / transaction_summary[\"num_transactions\"]\n",
    "transaction_summary = transaction_summary[[\"customer_id\", \"avg_transaction_amt\", \"num_transactions\"]]"
   ]
  },
  {
   "cell_type": "markdown",
   "id": "aab418f0",
   "metadata": {},
   "source": [
    "### Digital Usage table"
   ]
  },
  {
   "cell_type": "markdown",
   "id": "7edd8fdc",
   "metadata": {},
   "source": [
    "This code computes a digital engagement score for each customer based on their online activity.\n",
    "    \n",
    "Combine both metrics into a weighted score:\n",
    "\n",
    "- Logins (70%) contribute more since frequent logins indicate active engagement.\n",
    "- Session time (30%) contributes less but still matters."
   ]
  },
  {
   "cell_type": "code",
   "execution_count": 86,
   "id": "b5e169c7",
   "metadata": {},
   "outputs": [],
   "source": [
    "# Calculate digital engagement score\n",
    "scaler = MinMaxScaler()\n",
    "digital_usage_df[\"normalized_logins\"] = scaler.fit_transform(digital_usage_df[[\"mobile_logins_wk\", \"web_logins_wk\"]].sum(axis=1).values.reshape(-1, 1))\n",
    "digital_usage_df[\"normalized_session_time\"] = scaler.fit_transform(digital_usage_df[[\"avg_mobile_time\", \"avg_web_time\"]].sum(axis=1).values.reshape(-1, 1))\n",
    "digital_usage_df[\"digital_engagement_score\"] = (digital_usage_df[\"normalized_logins\"] * 0.7 +digital_usage_df[\"normalized_session_time\"] * 0.3)\n",
    "# Correct aggregation step\n",
    "digital_engagement = digital_usage_df.groupby(\"customer_id\", as_index=False)[\"digital_engagement_score\"].mean()"
   ]
  },
  {
   "cell_type": "markdown",
   "id": "074536ab",
   "metadata": {},
   "source": [
    "### Loans table"
   ]
  },
  {
   "cell_type": "markdown",
   "id": "de58e52e",
   "metadata": {},
   "source": [
    "This code calculates the median loan repayment time for each customer, which helps identify financial reliability."
   ]
  },
  {
   "cell_type": "code",
   "execution_count": 87,
   "id": "12c93178",
   "metadata": {},
   "outputs": [],
   "source": [
    "# Median loan repayment time per customer\n",
    "loans_df[\"loan_repayment_time\"] = (loans_df[\"paid_off_date\"] - loans_df[\"due_date\"]).dt.days\n",
    "loan_summary = loans_df.groupby(\"customer_id\")[\"loan_repayment_time\"].median().reset_index()"
   ]
  },
  {
   "cell_type": "markdown",
   "id": "b09d1e91",
   "metadata": {},
   "source": [
    "### Products table"
   ]
  },
  {
   "cell_type": "markdown",
   "id": "4d6f8e6a",
   "metadata": {},
   "source": [
    "This code calculates the total number of financial products a customer owns from the bank, which helps measure their relationship with the bank."
   ]
  },
  {
   "cell_type": "code",
   "execution_count": 88,
   "id": "c2f354c8",
   "metadata": {},
   "outputs": [],
   "source": [
    "# Total products owned\n",
    "products_df[\"total_products_owned\"] = products_df.iloc[:, 1:].sum(axis=1)\n",
    "products_summary = products_df[[\"customer_id\", \"total_products_owned\"]]"
   ]
  },
  {
   "cell_type": "markdown",
   "id": "0659e505",
   "metadata": {},
   "source": [
    "### Customer table"
   ]
  },
  {
   "cell_type": "markdown",
   "id": "f9539239",
   "metadata": {},
   "source": [
    "This code selects relevant financial and behavioral attributes from the customer dataset to be used in segmentation."
   ]
  },
  {
   "cell_type": "code",
   "execution_count": 89,
   "id": "58ed9a19",
   "metadata": {},
   "outputs": [],
   "source": [
    "# Extracting relevant columns from customer table\n",
    "customer_features = ['customer_id', 'income', 'balance', 'customer_lifetime_value', 'debt', 'tenure', 'default']\n",
    "customer_subset_df = customer_df[customer_features]"
   ]
  },
  {
   "cell_type": "markdown",
   "id": "cfd03be3",
   "metadata": {},
   "source": [
    "## Merging datasets"
   ]
  },
  {
   "cell_type": "code",
   "execution_count": 90,
   "id": "1b6fe0ed",
   "metadata": {},
   "outputs": [
    {
     "name": "stdout",
     "output_type": "stream",
     "text": [
      "   customer_id   income   balance  customer_lifetime_value      debt  tenure  \\\n",
      "0          166  1456.22 -10837.70                   214.12  38473.44      31   \n",
      "1          139   597.64  -8163.90                   255.79  96402.54      20   \n",
      "2          484   822.64  -7492.65                   129.42   9731.79      36   \n",
      "3          508   340.44  -5520.04                   125.30  18799.09      29   \n",
      "4          119  1022.64  -5071.99                   347.16  19080.59      36   \n",
      "\n",
      "   default  days_from_last_transaction  avg_transaction_amt  num_transactions  \\\n",
      "0        1                         NaN                  NaN               NaN   \n",
      "1        1                         NaN                  NaN               NaN   \n",
      "2        1                         NaN                  NaN               NaN   \n",
      "3        1                       251.0              109.536               5.0   \n",
      "4        1                         NaN                  NaN               NaN   \n",
      "\n",
      "   digital_engagement_score  loan_repayment_time  total_products_owned  \n",
      "0                  0.417834               -627.5                     2  \n",
      "1                  0.361715                  NaN                     2  \n",
      "2                  0.258218               -771.0                     1  \n",
      "3                  0.220750                  NaN                     1  \n",
      "4                  0.000000                  NaN                     1  \n"
     ]
    }
   ],
   "source": [
    "df = customer_subset_df.merge(latest_transaction, on=\"customer_id\", how=\"left\")\n",
    "df = df.merge(transaction_summary[[\"customer_id\", \"avg_transaction_amt\", \"num_transactions\"]], on=\"customer_id\", how=\"left\")\n",
    "df = df.merge(digital_engagement[[\"customer_id\", \"digital_engagement_score\"]], on=\"customer_id\", how=\"left\")\n",
    "df = df.merge(loan_summary, on=\"customer_id\", how=\"left\")\n",
    "df = df.merge(products_df[[\"customer_id\", \"total_products_owned\"]], on=\"customer_id\", how=\"left\")\n",
    "print(df.head())"
   ]
  },
  {
   "cell_type": "code",
   "execution_count": 91,
   "id": "c5af67e1",
   "metadata": {},
   "outputs": [
    {
     "name": "stdout",
     "output_type": "stream",
     "text": [
      "<class 'pandas.core.frame.DataFrame'>\n",
      "RangeIndex: 4000 entries, 0 to 3999\n",
      "Data columns (total 13 columns):\n",
      " #   Column                      Non-Null Count  Dtype  \n",
      "---  ------                      --------------  -----  \n",
      " 0   customer_id                 4000 non-null   int64  \n",
      " 1   income                      4000 non-null   float64\n",
      " 2   balance                     4000 non-null   float64\n",
      " 3   customer_lifetime_value     4000 non-null   float64\n",
      " 4   debt                        4000 non-null   float64\n",
      " 5   tenure                      4000 non-null   int64  \n",
      " 6   default                     4000 non-null   int64  \n",
      " 7   days_from_last_transaction  1844 non-null   float64\n",
      " 8   avg_transaction_amt         1844 non-null   float64\n",
      " 9   num_transactions            1844 non-null   float64\n",
      " 10  digital_engagement_score    3981 non-null   float64\n",
      " 11  loan_repayment_time         2629 non-null   float64\n",
      " 12  total_products_owned        4000 non-null   int64  \n",
      "dtypes: float64(9), int64(4)\n",
      "memory usage: 406.4 KB\n",
      "None\n"
     ]
    }
   ],
   "source": [
    "print(df.info())"
   ]
  },
  {
   "cell_type": "code",
   "execution_count": 92,
   "id": "4b97f645",
   "metadata": {},
   "outputs": [
    {
     "name": "stdout",
     "output_type": "stream",
     "text": [
      "customer_id                      0\n",
      "income                           0\n",
      "balance                          0\n",
      "customer_lifetime_value          0\n",
      "debt                             0\n",
      "tenure                           0\n",
      "default                          0\n",
      "days_from_last_transaction    2156\n",
      "avg_transaction_amt           2156\n",
      "num_transactions              2156\n",
      "digital_engagement_score        19\n",
      "loan_repayment_time           1371\n",
      "total_products_owned             0\n",
      "dtype: int64\n"
     ]
    }
   ],
   "source": [
    "print(df.isnull().sum())"
   ]
  },
  {
   "cell_type": "markdown",
   "id": "5bd1a318",
   "metadata": {},
   "source": [
    "## Handling missing values\n",
    "`digital_engagement_score` only has 19 missing values so we can use KNN Inputer\n",
    "`avg_transaction_amt` is NaN means no transaction data found so we set NaN to be 0\n",
    "`days_from_last_transaction` is NaN means no transaction data. We set last transaction number of days to be large but not too extreme. \n",
    "`has_loan` is NaN means no data on loans taken for that customer, We set NaN values to be 0. For those who has loaned before but but those with loans but no date of payment, we set the NaN values to be large but not too extreme\n",
    "\n",
    "Warning due to potential issues in future version of pandas\n"
   ]
  },
  {
   "cell_type": "markdown",
   "id": "b356d9d8",
   "metadata": {},
   "source": [
    "This code helps handles missing values\n",
    "\n",
    "1. digital engagement scores: Uses KNN Imputer (k=5) to estimate missing values based on similar customers.\n",
    "2. Handle missing transaction-related data:\n",
    "- If no transaction records exist: \n",
    "    - avg_transaction_amt = 0 (customer hasn't spent anything); num_transactions = 0 (customer hasn't made any transactions).\n",
    "    - assume a long but reasonable inactivity period (set to the max inactivity + 30 days).\n",
    "3. Handle missing loan-related data:\n",
    "- Create a new variable has_loan:\n",
    "    - 1 if the customer has taken a loan.\n",
    "    - 0 if they have never taken a loan.\n",
    "    - If they had a loan but never repaid it, set loan_repayment_time to max repayment time + 30 days as a buffer.\n"
   ]
  },
  {
   "cell_type": "code",
   "execution_count": 93,
   "id": "c46d8514",
   "metadata": {},
   "outputs": [
    {
     "name": "stderr",
     "output_type": "stream",
     "text": [
      "/var/folders/wc/5cwlt66x6d12kf_tz4qkd_580000gn/T/ipykernel_25060/2937541440.py:4: FutureWarning: A value is trying to be set on a copy of a DataFrame or Series through chained assignment using an inplace method.\n",
      "The behavior will change in pandas 3.0. This inplace method will never work because the intermediate object on which we are setting values always behaves as a copy.\n",
      "\n",
      "For example, when doing 'df[col].method(value, inplace=True)', try using 'df.method({col: value}, inplace=True)' or df[col] = df[col].method(value) instead, to perform the operation inplace on the original object.\n",
      "\n",
      "\n",
      "  df[\"avg_transaction_amt\"].fillna(0, inplace=True)\n",
      "/var/folders/wc/5cwlt66x6d12kf_tz4qkd_580000gn/T/ipykernel_25060/2937541440.py:5: FutureWarning: A value is trying to be set on a copy of a DataFrame or Series through chained assignment using an inplace method.\n",
      "The behavior will change in pandas 3.0. This inplace method will never work because the intermediate object on which we are setting values always behaves as a copy.\n",
      "\n",
      "For example, when doing 'df[col].method(value, inplace=True)', try using 'df.method({col: value}, inplace=True)' or df[col] = df[col].method(value) instead, to perform the operation inplace on the original object.\n",
      "\n",
      "\n",
      "  df[\"num_transactions\"].fillna(0, inplace=True)\n",
      "/var/folders/wc/5cwlt66x6d12kf_tz4qkd_580000gn/T/ipykernel_25060/2937541440.py:7: FutureWarning: A value is trying to be set on a copy of a DataFrame or Series through chained assignment using an inplace method.\n",
      "The behavior will change in pandas 3.0. This inplace method will never work because the intermediate object on which we are setting values always behaves as a copy.\n",
      "\n",
      "For example, when doing 'df[col].method(value, inplace=True)', try using 'df.method({col: value}, inplace=True)' or df[col] = df[col].method(value) instead, to perform the operation inplace on the original object.\n",
      "\n",
      "\n",
      "  df[\"days_from_last_transaction\"].fillna(df[\"days_from_last_transaction\"].max() + 30, inplace=True)\n"
     ]
    }
   ],
   "source": [
    "### engagement score only has 19 missing values\n",
    "df[\"digital_engagement_score\"] = KNNImputer(n_neighbors=5).fit_transform(df[[\"digital_engagement_score\"]])\n",
    "### no transaction record (we set transactions to be 0)\n",
    "df[\"avg_transaction_amt\"].fillna(0, inplace=True)\n",
    "df[\"num_transactions\"].fillna(0, inplace=True)\n",
    "### some did not do transactions. we set the days from last transaction to be a high but not too extreme value. We add 2 months of buffer\n",
    "df[\"days_from_last_transaction\"].fillna(df[\"days_from_last_transaction\"].max() + 30, inplace=True)\n",
    "### clients who did not loan before, we set has_loan variable to 0. for those that has loaned but hasnt repaid will have repayment time of max repayment time + buffer of a month\n",
    "df[\"has_loan\"] = df[\"customer_id\"].isin(loans_df[\"customer_id\"]).astype(int)\n",
    "loan_repay_max = df[\"loan_repayment_time\"].max()\n",
    "df[\"loan_repayment_time\"] = df.apply(lambda row: 0 if row[\"has_loan\"] == 0 else (loan_repay_max + 30 if np.isnan(row[\"loan_repayment_time\"]) else row[\"loan_repayment_time\"]),axis=1)\n"
   ]
  },
  {
   "cell_type": "code",
   "execution_count": 94,
   "id": "c5416dda",
   "metadata": {},
   "outputs": [
    {
     "name": "stdout",
     "output_type": "stream",
     "text": [
      "customer_id                   0\n",
      "income                        0\n",
      "balance                       0\n",
      "customer_lifetime_value       0\n",
      "debt                          0\n",
      "tenure                        0\n",
      "default                       0\n",
      "days_from_last_transaction    0\n",
      "avg_transaction_amt           0\n",
      "num_transactions              0\n",
      "digital_engagement_score      0\n",
      "loan_repayment_time           0\n",
      "total_products_owned          0\n",
      "has_loan                      0\n",
      "dtype: int64\n"
     ]
    }
   ],
   "source": [
    "print(df.isnull().sum())"
   ]
  },
  {
   "cell_type": "markdown",
   "id": "6343eb69",
   "metadata": {},
   "source": [
    "# Check for outliers"
   ]
  },
  {
   "cell_type": "code",
   "execution_count": 95,
   "id": "37c0fa55",
   "metadata": {},
   "outputs": [
    {
     "data": {
      "image/png": "[encoded data removed]",
      "text/plain": [
       "<Figure size 1800x1000 with 10 Axes>"
      ]
     },
     "metadata": {},
     "output_type": "display_data"
    }
   ],
   "source": [
    "# Check for outliers\n",
    "features_to_scale = [\"income\", \"balance\", \"debt\", \"customer_lifetime_value\", \n",
    "                    \"days_from_last_transaction\", \"avg_transaction_amt\", \n",
    "                    \"digital_engagement_score\", \"total_products_owned\", \n",
    "                    \"loan_repayment_time\", \"num_transactions\"]\n",
    "\n",
    "# Individual boxplots for better clarity\n",
    "fig, axes = plt.subplots(nrows=2, ncols=5, figsize=(18, 10))\n",
    "fig.suptitle(\"Feature-Wise Outlier Visualization\")\n",
    "\n",
    "for i, feature in enumerate(features_to_scale):\n",
    "    row, col = divmod(i, 5)\n",
    "    sns.boxplot(y=df[feature], ax=axes[row][col])\n",
    "    axes[row][col].set_title(feature)\n",
    "\n",
    "plt.tight_layout(rect=[0, 0, 1, 0.96])\n",
    "plt.show()"
   ]
  },
  {
   "cell_type": "code",
   "execution_count": 96,
   "id": "03c62fbf",
   "metadata": {},
   "outputs": [
    {
     "name": "stdout",
     "output_type": "stream",
     "text": [
      "                            Outlier Count\n",
      "customer_id                             0\n",
      "income                                 70\n",
      "balance                                50\n",
      "customer_lifetime_value                49\n",
      "debt                                   68\n",
      "tenure                                 17\n",
      "default                                 0\n",
      "days_from_last_transaction              0\n",
      "avg_transaction_amt                    70\n",
      "num_transactions                       53\n",
      "digital_engagement_score                0\n",
      "loan_repayment_time                     0\n",
      "total_products_owned                   30\n",
      "has_loan                                0\n"
     ]
    }
   ],
   "source": [
    "# Define function to count outliers using Z-score method\n",
    "def count_outliers_zscore(df, threshold=3):\n",
    "    outlier_counts = {}\n",
    "\n",
    "    for col in df.select_dtypes(include=[np.number]): \n",
    "        z_scores = np.abs(zscore(df[col])) \n",
    "        num_outliers = (z_scores > threshold).sum()\n",
    "        outlier_counts[col] = num_outliers\n",
    "\n",
    "    return pd.DataFrame.from_dict(outlier_counts, orient=\"index\", columns=[\"Outlier Count\"])\n",
    "\n",
    "\n",
    "# Apply to dataset\n",
    "outliers_zscore_df = count_outliers_zscore(df)\n",
    "print(outliers_zscore_df)\n"
   ]
  },
  {
   "cell_type": "markdown",
   "id": "0c685e77",
   "metadata": {},
   "source": [
    "# Standardizing"
   ]
  },
  {
   "cell_type": "markdown",
   "id": "c169bd1b",
   "metadata": {},
   "source": [
    "We apply Winsorization (limits=[0.05, 0.05]) to cap extreme values at the 5st and 95th percentiles as outliers for in the `robust_features` column are very extreme. To standardize these columns, we use\n",
    "\n",
    "RobustScaler(), which:\n",
    "- Centers the median at 0 and scales data based on the interquartile range (IQR).\n",
    "- Less sensitive to outliers than StandardScaler or MinMaxScaler.\n",
    "\n",
    "For the other features, we use:\n",
    "\n",
    "StandardScaler(), which:\n",
    "Centers mean at 0 and scales variance to 1.\n",
    "Works well for features without extreme outliers."
   ]
  },
  {
   "cell_type": "code",
   "execution_count": 97,
   "id": "cb3acd07",
   "metadata": {},
   "outputs": [],
   "source": [
    "## STANDARDIZING FOR K-MEANS CLUSTERING\n",
    "# Features that need Robust scaling \n",
    "robust_features = [\"income\", \"balance\", \"debt\", \"customer_lifetime_value\",  \"avg_transaction_amt\"]\n",
    "for col in robust_features:\n",
    "    df[col] = pd.Series(winsorize(df[col].to_numpy(), limits=[0.05, 0.05]))\n",
    "\n",
    "\n",
    "# Features that need Standard scaling (normally distributed)\n",
    "standard_features = [\"days_from_last_transaction\", \"digital_engagement_score\", \"total_products_owned\", \"loan_repayment_time\", \"num_transactions\"]\n",
    "\n",
    "# Apply RobustScaler\n",
    "scalerrobust =  RobustScaler()\n",
    "df_scaled = df.copy()\n",
    "df_scaled[robust_features] = scalerrobust.fit_transform(df[robust_features])\n",
    "\n",
    "# Apply StandardScaler\n",
    "scaler_standard = StandardScaler()\n",
    "df_scaled[standard_features] = scaler_standard.fit_transform(df[standard_features])"
   ]
  },
  {
   "cell_type": "markdown",
   "id": "ec13297d",
   "metadata": {},
   "source": [
    "# PCA Analysis"
   ]
  },
  {
   "cell_type": "markdown",
   "id": "a0c9672b",
   "metadata": {},
   "source": [
    "This code performs Principal Component Analysis (PCA) to analyze how much variance each feature contributes to the dataset. explained_variance_ratio_: Measures how much variance each principal component captures."
   ]
  },
  {
   "cell_type": "code",
   "execution_count": 98,
   "id": "4e5bf1b3",
   "metadata": {},
   "outputs": [
    {
     "name": "stdout",
     "output_type": "stream",
     "text": [
      "\n",
      "PCA Explained Variance:\n",
      "                             Explained Variance\n",
      "income                                0.341577\n",
      "balance                               0.209314\n",
      "debt                                  0.115268\n",
      "customer_lifetime_value               0.097747\n",
      "days_from_last_transaction            0.076951\n",
      "avg_transaction_amt                   0.067203\n",
      "digital_engagement_score              0.044457\n",
      "total_products_owned                  0.024302\n",
      "loan_repayment_time                   0.017096\n",
      "num_transactions                      0.006085\n"
     ]
    }
   ],
   "source": [
    "# Apply PCA\n",
    "pca = PCA(n_components=len(features_to_scale))  # Keep all components\n",
    "df_pca = pca.fit_transform(df_scaled[features_to_scale])\n",
    "\n",
    "# Convert to DataFrame\n",
    "explained_variance = pd.DataFrame(\n",
    "    pca.explained_variance_ratio_,\n",
    "    index=features_to_scale,\n",
    "    columns=[\"Explained Variance\"]\n",
    ")\n",
    "\n",
    "# Print explained variance of each feature\n",
    "print(\"\\nPCA Explained Variance:\\n\", explained_variance.sort_values(by=\"Explained Variance\", ascending=False))"
   ]
  },
  {
   "cell_type": "code",
   "execution_count": 99,
   "id": "1fe05303",
   "metadata": {},
   "outputs": [
    {
     "name": "stdout",
     "output_type": "stream",
     "text": [
      "Index(['customer_id', 'income', 'balance', 'customer_lifetime_value', 'debt',\n",
      "       'tenure', 'default', 'days_from_last_transaction',\n",
      "       'avg_transaction_amt', 'num_transactions', 'digital_engagement_score',\n",
      "       'loan_repayment_time', 'total_products_owned', 'has_loan'],\n",
      "      dtype='object')\n"
     ]
    }
   ],
   "source": [
    "features = df.columns\n",
    "print(features)"
   ]
  },
  {
   "cell_type": "markdown",
   "id": "ecd391db",
   "metadata": {},
   "source": [
    "# Modeling"
   ]
  },
  {
   "cell_type": "markdown",
   "id": "137c494d",
   "metadata": {},
   "source": [
    "## K-Means Clustering\n",
    "We use k = 3 to segment the customers into 3 categories \n",
    "1. High value\n",
    "2. Budget conscious\n",
    "3. At risk / inactive customers"
   ]
  },
  {
   "cell_type": "code",
   "execution_count": 100,
   "id": "0e9e1616",
   "metadata": {},
   "outputs": [],
   "source": [
    "## K-MEANS CLUSTERING\n",
    "optimal_k = 3\n",
    "df_scaled[\"Cluster\"] = KMeans(n_clusters= optimal_k,  init=\"k-means++\", n_init=20, random_state=42).fit_predict(df_scaled[features_to_scale])\n",
    "df[\"Cluster\"] = df_scaled[\"Cluster\"]"
   ]
  },
  {
   "cell_type": "markdown",
   "id": "cf3577e3",
   "metadata": {},
   "source": [
    "### Number of clients in each cluster"
   ]
  },
  {
   "cell_type": "code",
   "execution_count": 101,
   "id": "a9f72500",
   "metadata": {},
   "outputs": [
    {
     "name": "stdout",
     "output_type": "stream",
     "text": [
      "Cluster\n",
      "1    2106\n",
      "2    1440\n",
      "0     454\n",
      "Name: count, dtype: int64\n"
     ]
    }
   ],
   "source": [
    "print(df[\"Cluster\"].value_counts())"
   ]
  },
  {
   "cell_type": "markdown",
   "id": "030b51f4",
   "metadata": {},
   "source": [
    "# Evaluation: Silhouette Score\n",
    " This score shows how similar an object is to its own cluster (cohesion) compared to other clusters (separation)."
   ]
  },
  {
   "cell_type": "code",
   "execution_count": 102,
   "id": "ba2ca563",
   "metadata": {},
   "outputs": [
    {
     "name": "stdout",
     "output_type": "stream",
     "text": [
      "Silhouette Score = 0.2401\n"
     ]
    }
   ],
   "source": [
    "# Silhouette Score\n",
    "silhouette_avg = silhouette_score(df_scaled[features_to_scale], df[\"Cluster\"])\n",
    "print(f\"Silhouette Score = {silhouette_avg:.4f}\")"
   ]
  },
  {
   "cell_type": "markdown",
   "id": "79f31304",
   "metadata": {},
   "source": [
    "Silhouette Score = 0.2401, indicating that while the segments have meaningful distinctions, there is moderate overlap between customer groups. Customer data typically includes heterogeneous characteristics (e.g., behavioral, transactional, demographic attributes) that naturally reduce clear separations between segments. The segments are designed based on business logic (engagement, spending, product usage),even if silhouette metrics aren't exceptionally high."
   ]
  },
  {
   "cell_type": "markdown",
   "id": "79a25e44",
   "metadata": {},
   "source": [
    "### Getting information about each cluster's mean of features"
   ]
  },
  {
   "cell_type": "code",
   "execution_count": 103,
   "id": "f53fb1ca",
   "metadata": {},
   "outputs": [
    {
     "name": "stdout",
     "output_type": "stream",
     "text": [
      "           income   balance      debt  customer_lifetime_value  \\\n",
      "Cluster                                                          \n",
      "0        1.808443  4.916250  0.313674                 0.338305   \n",
      "1       -0.059192  0.122906  0.260786                 0.070790   \n",
      "2        0.015168  0.216871  0.237387                 0.115215   \n",
      "\n",
      "         days_from_last_transaction  avg_transaction_amt  \\\n",
      "Cluster                                                    \n",
      "0                          0.065377             0.555509   \n",
      "1                          0.758580             0.065163   \n",
      "2                         -1.130035             1.260182   \n",
      "\n",
      "         digital_engagement_score  total_products_owned  loan_repayment_time  \\\n",
      "Cluster                                                                        \n",
      "0                       -0.116567              0.398223             0.045314   \n",
      "1                        0.025407             -0.084005            -0.011844   \n",
      "2                       -0.000407             -0.002693             0.003035   \n",
      "\n",
      "         num_transactions  \n",
      "Cluster                    \n",
      "0               -0.062879  \n",
      "1               -0.587863  \n",
      "2                0.879574  \n"
     ]
    }
   ],
   "source": [
    "cluster_means = df_scaled.groupby(\"Cluster\")[features_to_scale].mean()\n",
    "print(cluster_means)"
   ]
  },
  {
   "cell_type": "markdown",
   "id": "7b491a6b",
   "metadata": {},
   "source": [
    "## Cluster Labels\n",
    "We assign higher weights for critical factors that define customer value:\n",
    "- income (10%) → High value customers likely to be more financially healthy\n",
    "- balance (10%) → Same reason as above\n",
    "- customer_lifetime_value (15%) → Long-term revenue predictor.\n",
    "- avg_transaction_amt (20%) → High-value customers spend more per transaction.\n",
    "- digital_engagement_score (20%) → Engaged customers are more valuable.\n",
    "- total_products_owned (20%) → Owning multiple products strengthens customer loyalty.\n",
    "- num_transactions (20%) → Frequent transactions signal active customers.\n",
    "\n",
    "\n",
    "\n",
    "Penalty for inactivity:\n",
    "- days_from_last_transaction (- 20%) → Longer inactivity lowers score.\n",
    "Slight penalty for financial distress:\n",
    "- debt (-5%) → High debt can indicate financial risk.\n",
    "\n",
    "We assign segments dynamically based on rankings\n",
    "- Top cluster = High-Value\n",
    "- 2rd highest = Budget-Conscious\n",
    "- Last = Inactive\n"
   ]
  },
  {
   "cell_type": "code",
   "execution_count": 104,
   "id": "fd60f01c",
   "metadata": {},
   "outputs": [
    {
     "name": "stdout",
     "output_type": "stream",
     "text": [
      "\n",
      "Cluster Ranking by Score (Best to Worst):\n",
      "Rank 1: Cluster 0 → High-value\n",
      "Rank 2: Cluster 2 → Budget-conscious\n",
      "Rank 3: Cluster 1 → At risk / inactive customers\n"
     ]
    }
   ],
   "source": [
    "cluster_means[\"score\"] = (\n",
    "    cluster_means[\"income\"] * 0.1 + \n",
    "    cluster_means[\"balance\"] * 0.1 + \n",
    "    cluster_means[\"debt\"] * (-0.05) +  # Negative weight for financial distress\n",
    "    cluster_means[\"customer_lifetime_value\"] * 0.15 +  # Increased because CLV predicts revenue\n",
    "    cluster_means[\"days_from_last_transaction\"] * (-0.20) +  # Increased penalty for inactivity\n",
    "    cluster_means[\"avg_transaction_amt\"] * 0.20 +  # High-value customers spend more per transaction\n",
    "    cluster_means[\"digital_engagement_score\"] * 0.20 +  # More engagement means higher retention\n",
    "    cluster_means[\"total_products_owned\"] * 0.20 +  # Owning more products = stronger banking relationship\n",
    "    cluster_means[\"num_transactions\"] * 0.20  # Higher impact because frequent usage matters\n",
    ")\n",
    "\n",
    "\n",
    "# Rank Clusters Based on Score (Descending)\n",
    "sorted_clusters = cluster_means[\"score\"].sort_values(ascending=False).index.tolist()\n",
    "\n",
    "# Assign Segments Based on Rank\n",
    "dynamic_segment_mapping = {\n",
    "    sorted_clusters[0]: \"High-value\",\n",
    "    sorted_clusters[1]: \"Budget-conscious\",\n",
    "    sorted_clusters[2]: \"At risk / inactive customers\"\n",
    "}\n",
    "\n",
    "# Print cluster rankings before applying\n",
    "print(\"\\nCluster Ranking by Score (Best to Worst):\")\n",
    "for i, cluster in enumerate(sorted_clusters):\n",
    "    print(f\"Rank {i+1}: Cluster {cluster} → {dynamic_segment_mapping[cluster]}\")"
   ]
  },
  {
   "cell_type": "markdown",
   "id": "fd86caa4",
   "metadata": {},
   "source": [
    "# Creating DF with the segments"
   ]
  },
  {
   "cell_type": "code",
   "execution_count": 105,
   "id": "c3ad3194",
   "metadata": {},
   "outputs": [
    {
     "name": "stdout",
     "output_type": "stream",
     "text": [
      "Segment\n",
      "At risk / inactive customers    2106\n",
      "Budget-conscious                1440\n",
      "High-value                       454\n",
      "Name: count, dtype: int64\n"
     ]
    }
   ],
   "source": [
    "# Apply Mapping to DataFrame\n",
    "df[\"Segment\"] = df[\"Cluster\"].map(dynamic_segment_mapping)\n",
    "print(df[\"Segment\"].value_counts())"
   ]
  },
  {
   "cell_type": "code",
   "execution_count": 106,
   "id": "8eeb2511",
   "metadata": {},
   "outputs": [
    {
     "name": "stdout",
     "output_type": "stream",
     "text": [
      "   customer_id                       Segment\n",
      "0          166  At risk / inactive customers\n",
      "1          139  At risk / inactive customers\n",
      "2          484  At risk / inactive customers\n",
      "3          508              Budget-conscious\n",
      "4          119  At risk / inactive customers\n"
     ]
    }
   ],
   "source": [
    "df_final = df[[\"customer_id\", \"Segment\"]]\n",
    "print(df_final.head())"
   ]
  },
  {
   "cell_type": "code",
   "execution_count": 107,
   "id": "9de701eb",
   "metadata": {},
   "outputs": [
    {
     "name": "stdout",
     "output_type": "stream",
     "text": [
      "Mean of original features per segment:\n",
      "                                    income      balance          debt  \\\n",
      "Segment                                                                 \n",
      "At risk / inactive customers   3967.144316   542.816249  23809.712061   \n",
      "Budget-conscious               4218.300743   663.819493  23310.792896   \n",
      "High-value                    10275.203106  6715.409604  24937.428590   \n",
      "\n",
      "                              customer_lifetime_value  \\\n",
      "Segment                                                 \n",
      "At risk / inactive customers               301.993324   \n",
      "Budget-conscious                           309.821257   \n",
      "High-value                                 349.130176   \n",
      "\n",
      "                              days_from_last_transaction  avg_transaction_amt  \\\n",
      "Segment                                                                         \n",
      "At risk / inactive customers                  817.808167            18.344129   \n",
      "Budget-conscious                              274.768056           354.757991   \n",
      "High-value                                    618.488987           156.383265   \n",
      "\n",
      "                              digital_engagement_score  total_products_owned  \\\n",
      "Segment                                                                        \n",
      "At risk / inactive customers                  0.334283              1.700855   \n",
      "Budget-conscious                              0.329357              1.784722   \n",
      "High-value                                    0.307187              2.198238   \n",
      "\n",
      "                              loan_repayment_time  num_transactions  \n",
      "Segment                                                              \n",
      "At risk / inactive customers          -605.520893          0.118234  \n",
      "Budget-conscious                      -598.735417          2.970833  \n",
      "High-value                            -579.453744          1.138767  \n"
     ]
    }
   ],
   "source": [
    "# Getting information of these segments\n",
    "segment_means = df.groupby(\"Segment\")[features_to_scale].mean()\n",
    "# Display the results\n",
    "print(\"Mean of original features per segment:\")\n",
    "print(segment_means)"
   ]
  },
  {
   "cell_type": "markdown",
   "id": "9ef0c7c1",
   "metadata": {},
   "source": [
    "## Creates csv table in under customer segmentation"
   ]
  },
  {
   "cell_type": "code",
   "execution_count": 108,
   "id": "b727d781",
   "metadata": {},
   "outputs": [
    {
     "name": "stdout",
     "output_type": "stream",
     "text": [
      "Saved 'customer_segments.csv' with Customer ID & segment name\n"
     ]
    }
   ],
   "source": [
    "df_final.to_csv(\"customer_segments.csv\", index=False)\n",
    "print(\"Saved 'customer_segments.csv' with Customer ID & segment name\")"
   ]
  }
 ],
 "metadata": {
  "jupytext": {
   "cell_metadata_filter": "-all",
   "main_language": "python",
   "notebook_metadata_filter": "-all"
  },
  "kernelspec": {
   "display_name": ".venv",
   "language": "python",
   "name": "python3"
  },
  "language_info": {
   "codemirror_mode": {
    "name": "ipython",
    "version": 3
   },
   "file_extension": ".py",
   "mimetype": "text/x-python",
   "name": "python",
   "nbconvert_exporter": "python",
   "pygments_lexer": "ipython3",
   "version": "3.10.6"
  }
 },
 "nbformat": 4,
 "nbformat_minor": 5
}
