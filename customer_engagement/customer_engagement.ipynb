{
 "cells": [
  {
   "cell_type": "markdown",
   "metadata": {},
   "source": [
    "## Customer-Level EDA\n",
    "This notebook analyses customer demographics, digital usage, product ownership, and transaction behavior in relation to whether the customer has engaged (`has_engaged`) in any campaign."
   ]
  },
  {
   "cell_type": "code",
   "execution_count": null,
   "metadata": {},
   "outputs": [],
   "source": [
    "# Load packages\n",
    "import pandas as pd\n",
    "import matplotlib.pyplot as plt\n",
    "import seaborn as sns\n",
    "import importlib\n",
    "import eda_functions\n",
    "importlib.reload(eda_functions)\n",
    "import eda_functions as eda"
   ]
  },
  {
   "cell_type": "code",
   "execution_count": null,
   "metadata": {},
   "outputs": [],
   "source": [
    "# Load datasets\n",
    "engagement_details = pd.read_csv(\"../data/processed/engagement_details.csv\")\n",
    "customers = pd.read_csv(\"../data/processed/customer.csv\")\n",
    "digital_usage = pd.read_csv(\"../data/processed/digital_usage.csv\")\n",
    "products_owned = pd.read_csv(\"../data/processed/products_owned.csv\")\n",
    "transactions = pd.read_csv(\"../data/processed/transactions.csv\")"
   ]
  },
  {
   "cell_type": "code",
   "execution_count": null,
   "metadata": {},
   "outputs": [],
   "source": [
    "# Univariate EDA for key numeric features in customers\n",
    "numeric_cols = ['age', 'income', 'balance', 'debt', 'tenure', 'nps', 'customer_lifetime_value']\n",
    "for col in numeric_cols:\n",
    "    plt.figure(figsize=(6, 4))\n",
    "    sns.histplot(customers[col], bins=30, kde=True)\n",
    "    plt.title(f'Distribution of {col}')\n",
    "    plt.show()"
   ]
  },
  {
   "cell_type": "code",
   "execution_count": null,
   "metadata": {},
   "outputs": [],
   "source": [
    "# Digital usage histograms\n",
    "usage_cols = ['mobile_logins_wk', 'web_logins_wk', 'avg_mobile_time', 'avg_web_time']\n",
    "for col in usage_cols:\n",
    "    plt.figure(figsize=(6, 4))\n",
    "    sns.histplot(digital_usage[col].dropna(), bins=30, kde=True)\n",
    "    plt.title(f'Distribution of {col}')\n",
    "    plt.show()"
   ]
  },
  {
   "cell_type": "code",
   "execution_count": null,
   "metadata": {},
   "outputs": [],
   "source": [
    "# Product ownership (bar plot per product)\n",
    "product_cols = [col for col in products_owned.columns if col != 'customer_id']\n",
    "products_owned[product_cols].mean().sort_values(ascending=False).plot(kind='bar')\n",
    "plt.title(\"Proportion of Customers Owning Each Product\")\n",
    "plt.ylabel(\"Proportion\")\n",
    "plt.show()"
   ]
  },
  {
   "cell_type": "code",
   "execution_count": null,
   "metadata": {},
   "outputs": [],
   "source": [
    "# Create customer-level has_engaged flag (1 if engaged in any campaign)\n",
    "customer_engagement = (\n",
    "    engagement_details\n",
    "    .groupby(\"customer_id\")[\"has_engaged\"]\n",
    "    .max()\n",
    "    .reset_index()\n",
    ")\n",
    "\n",
    "# Check for nulls in 'has_engaged'\n",
    "null_count = customer_engagement[\"has_engaged\"].isnull().sum()\n",
    "print(f\"Number of nulls in 'has_engaged': {null_count}\")\n",
    "\n",
    "print(f\"\\nShape of customer_engagement: {customer_engagement.shape}\")\n",
    "print(f\"\\nFirst few rows of customer_engagement:\\n{customer_engagement.head()}\")"
   ]
  },
  {
   "cell_type": "code",
   "execution_count": null,
   "metadata": {},
   "outputs": [],
   "source": [
    "# Aggregate transactions \n",
    "transaction_summary = (\n",
    "    transactions\n",
    "    .groupby(\"customer_id\")\n",
    "    .agg(\n",
    "        total_transaction_amt=(\"transaction_amt\", \"sum\"),\n",
    "        transaction_count=(\"transaction_id\", \"count\"),\n",
    "        last_transaction_date=(\"transaction_date\", \"max\")\n",
    "    )\n",
    "    .reset_index()\n",
    ")\n",
    "\n",
    "# Get percentage of null values in column last_transaction_date\n",
    "test_df = customer_engagement.merge(transaction_summary, on='customer_id', how='left')\n",
    "null_percentages_test= test_df.isnull().mean().round(4) * 100\n",
    "null_percentages_test = null_percentages_test.sort_values(ascending=False)\n",
    "print(f\"Percentage of nulls in transaction columns after merge:\\n{null_percentages_test}\")\n",
    "\n",
    "#~54% of customers have never transacted\n",
    "#This may include inactive, new, or digitally engaged but not monetized customers"
   ]
  },
  {
   "cell_type": "code",
   "execution_count": null,
   "metadata": {},
   "outputs": [],
   "source": [
    "# Feature engineering on digital usage\n",
    "\n",
    "# Convert to datetime format\n",
    "digital_usage['last_mobile_use'] = pd.to_datetime( digital_usage['last_mobile_use'], format=\"%Y-%m-%d\")\n",
    "digital_usage['last_web_use'] = pd.to_datetime( digital_usage['last_web_use'], format=\"%Y-%m-%d\")\n",
    "# Convert date fields to days since xxx format\n",
    "reference_date = pd.to_datetime('2025-01-01')\n",
    "digital_usage['days_since_mobile_use'] = (reference_date - digital_usage['last_mobile_use']).dt.days\n",
    "digital_usage['days_since_web_use'] = (reference_date - digital_usage['last_web_use']).dt.days\n",
    "\n",
    "digital_usage[\"total_logins_per_week\"] = digital_usage[[\"mobile_logins_wk\", \"web_logins_wk\"]].sum(axis=1)\n",
    "digital_usage[\"avg_total_time_per_session\"] = digital_usage[[\"avg_mobile_time\", \"avg_web_time\"]].sum(axis=1)\n",
    "\n",
    "# Drop original columns\n",
    "digital_usage = digital_usage.drop(columns=[\"last_mobile_use\", \"last_web_use\", \n",
    "                                               \"mobile_logins_wk\", \"web_logins_wk\",\n",
    "                                               \"avg_mobile_time\", \"avg_web_time\"])\n",
    "\n",
    "print(f\"Null counts per column: \\n {digital_usage.isnull().sum()}\")\n",
    "print(f\"\\nShape of digital_usage: {digital_usage.shape}\")\n",
    "print(f\"\\nFirst few rows of digital_usage:\\n{digital_usage.head()}\")"
   ]
  },
  {
   "cell_type": "code",
   "execution_count": null,
   "metadata": {},
   "outputs": [],
   "source": [
    "# Check missing days_since_mobile_use correlation with has_mobile_app\n",
    "check = eda.check_missing_correlation(digital_usage, \"days_since_mobile_use\", \"has_mobile_app\")\n",
    "\n",
    "# Check missing days_since_web_use correlation with has_web_account\n",
    "check = eda.check_missing_correlation(digital_usage, \"days_since_web_use\", \"has_web_account\")\n",
    "\n",
    "# Results interpretation: The customers who are missing days_since_mobile_use or days_since_web_use are those who never had access to the respective platforms\n",
    "\n",
    "# Fill the missing values by assigning a large number to indicate extreme inactivity\n",
    "digital_usage[\"days_since_mobile_use\"] = digital_usage[\"days_since_mobile_use\"].fillna(999)\n",
    "digital_usage[\"days_since_web_use\"] = digital_usage[\"days_since_web_use\"].fillna(999)"
   ]
  },
  {
   "cell_type": "code",
   "execution_count": null,
   "metadata": {},
   "outputs": [],
   "source": [
    "# Feature engineering on products owned\n",
    "products_owned[\"num_products_owned\"] = products_owned.drop(columns=\"customer_id\").sum(axis=1)\n",
    "\n",
    "# Check for nulls in 'num_products_owned'\n",
    "null_count = products_owned[\"num_products_owned\"].isnull().sum()\n",
    "print(f\"Number of nulls in 'num_products_owned': {null_count}\")\n",
    "\n",
    "print(f\"\\nShape of products_owned: {products_owned.shape}\")\n",
    "print(f\"\\nFirst few rows of products_owned:\\n{products_owned.head()}\")"
   ]
  },
  {
   "cell_type": "code",
   "execution_count": null,
   "metadata": {},
   "outputs": [],
   "source": [
    "# Merge all features into combined_df\n",
    "combined_df = (\n",
    "    customers\n",
    "    .merge(customer_engagement, on=\"customer_id\", how=\"left\")\n",
    "    .merge(digital_usage, on=\"customer_id\", how=\"left\")\n",
    "    .merge(transaction_summary, on=\"customer_id\", how=\"left\")\n",
    "    .merge(products_owned[[\"customer_id\", \"num_products_owned\"]], on=\"customer_id\", how=\"left\")\n",
    ")"
   ]
  },
  {
   "cell_type": "code",
   "execution_count": null,
   "metadata": {},
   "outputs": [],
   "source": [
    "\n",
    "# Create high-value user flag based on median thresholds\n",
    "login_median = combined_df[\"total_logins_per_week\"].median()\n",
    "spend_median = combined_df[\"total_transaction_amt\"].median()\n",
    "combined_df[\"is_high_value_user\"] = (\n",
    "    (combined_df[\"total_logins_per_week\"] > login_median) &\n",
    "    (combined_df[\"total_transaction_amt\"] > spend_median)\n",
    ").astype(int)\n",
    "\n",
    "# Feature: transaction frequency\n",
    "combined_df[\"transaction_frequency\"] = combined_df[\"transaction_count\"] / combined_df[\"tenure\"]\n",
    "combined_df[[\"total_transaction_amt\", \"transaction_count\", \"transaction_frequency\"]] = combined_df[[\n",
    "    \"total_transaction_amt\", \"transaction_count\", \"transaction_frequency\"]].fillna(0)\n",
    "\n",
    "combined_df = combined_df.drop(columns=[\"last_transaction_date\"])"
   ]
  },
  {
   "cell_type": "code",
   "execution_count": null,
   "metadata": {},
   "outputs": [],
   "source": [
    "# Check nulls\n",
    "null_counts = combined_df.isnull().sum()\n",
    "null_percentages = (combined_df.isnull().mean() * 100).round(2)\n",
    "null_summary = pd.DataFrame({\n",
    "    \"Null Count\": null_counts,\n",
    "    \"Null %\": null_percentages}).sort_values(\"Null %\", ascending=False)\n",
    "print(\"Null summary:\\n\", null_summary)\n",
    "\n",
    "print(f\"\\nFirst few rows:\\n {combined_df.head()}\")\n",
    "print(\"\\nShape of combined_df:\", combined_df.shape)"
   ]
  },
  {
   "cell_type": "code",
   "execution_count": null,
   "metadata": {},
   "outputs": [],
   "source": [
    "# Drop rows with null values in any column in combined_df\n",
    "before = combined_df.shape[0]\n",
    "combined_df = combined_df.dropna()\n",
    "after = combined_df.shape[0]\n",
    "\n",
    "print(f\"Dropped {before - after} rows with nulls. Remaining rows: {after}\")"
   ]
  },
  {
   "cell_type": "code",
   "execution_count": null,
   "metadata": {},
   "outputs": [],
   "source": [
    "# Set df and target column\n",
    "df = combined_df.copy()\n",
    "target_col = 'has_engaged'"
   ]
  },
  {
   "cell_type": "code",
   "execution_count": null,
   "metadata": {},
   "outputs": [],
   "source": [
    "# 1. Boxplots for numerical variables by engagement\n",
    "eda.get_boxplot(df, target_col)"
   ]
  },
  {
   "cell_type": "code",
   "execution_count": null,
   "metadata": {},
   "outputs": [],
   "source": [
    "# 2. T-tests for numerical variables\n",
    "ttest_results = eda.get_ttest(df, target_col)\n",
    "print(\"T-test Results:\\n\", ttest_results)"
   ]
  },
  {
   "cell_type": "code",
   "execution_count": null,
   "metadata": {},
   "outputs": [],
   "source": [
    "# 3. Proportion tables & bar plots for categorical columns against `has_engaged`\n",
    "tables = eda.get_proportion_table(df, target_col)\n",
    "    \n",
    "barplots = eda.get_barplot(df, target_col)"
   ]
  },
  {
   "cell_type": "code",
   "execution_count": null,
   "metadata": {},
   "outputs": [],
   "source": [
    "# 4. Chi-square test results\n",
    "chi2_results = eda.get_chi_square(df, target_col)\n",
    "print(\"\\nChi-Square Test Results:\\n\", chi2_results)"
   ]
  }
 ],
 "metadata": {
  "kernelspec": {
   "display_name": ".venv",
   "language": "python",
   "name": "python3"
  },
  "language_info": {
   "codemirror_mode": {
    "name": "ipython",
    "version": 3
   },
   "file_extension": ".py",
   "mimetype": "text/x-python",
   "name": "python",
   "nbconvert_exporter": "python",
   "pygments_lexer": "ipython3",
   "version": "3.10.6"
  }
 },
 "nbformat": 4,
 "nbformat_minor": 2
}
