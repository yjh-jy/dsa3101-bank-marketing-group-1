{
 "cells": [
  {
   "cell_type": "markdown",
   "metadata": {},
   "source": [
    "## Customer-Level EDA\n",
    "This notebook analyses customer demographics, digital usage, product ownership, and transaction behavior in relation to whether the customer has engaged (`has_engaged`) in any campaign."
   ]
  },
  {
   "cell_type": "code",
   "execution_count": 1,
   "metadata": {},
   "outputs": [],
   "source": [
    "# Load packages\n",
    "import pandas as pd\n",
    "import eda_functions as eda\n",
    "from load_data import load_customer_data\n",
    "from feature_engineering import (create_customer_engagement_flag,\n",
    "                                 summarize_transactions,\n",
    "                                 engineer_digital_usage,\n",
    "                                 count_products_owned\n",
    "                                 )\n",
    "from business_rules import define_high_value_user, is_recently_active, is_multichannel_user\n",
    "from data_quality import print_null_summary, print_shape_and_preview, check_post_merge_nulls, impute_missing_values"
   ]
  },
  {
   "cell_type": "code",
   "execution_count": null,
   "metadata": {},
   "outputs": [],
   "source": [
    "# Load data\n",
    "engagement_details, customers, digital_usage, products_owned, transactions = load_customer_data()\n",
    "target_col = \"has_engaged\""
   ]
  },
  {
   "cell_type": "markdown",
   "metadata": {},
   "source": [
    "### Preliminary EDA"
   ]
  },
  {
   "cell_type": "code",
   "execution_count": null,
   "metadata": {},
   "outputs": [],
   "source": [
    "# EDA plots\n",
    "eda.plot_numeric_distributions(customers, prefix=\"customers\")\n",
    "eda.plot_numeric_distributions(digital_usage, prefix=\"customers\")\n",
    "eda.plot_product_ownership_barplot(products_owned, \"customer_id\")"
   ]
  },
  {
   "cell_type": "markdown",
   "metadata": {},
   "source": [
    "### Feature Engineering"
   ]
  },
  {
   "cell_type": "code",
   "execution_count": null,
   "metadata": {},
   "outputs": [],
   "source": [
    "customer_engagement = create_customer_engagement_flag(engagement_details)\n",
    "print_null_summary(customer_engagement, \"customer_engagement\")\n",
    "print_shape_and_preview(customer_engagement, \"customer_engagement\")"
   ]
  },
  {
   "cell_type": "code",
   "execution_count": null,
   "metadata": {},
   "outputs": [],
   "source": [
    "transaction_summary = summarize_transactions(transactions)\n",
    "test_df = customer_engagement.merge(transaction_summary, on='customer_id', how='left')\n",
    "check_post_merge_nulls(test_df, [\"last_transaction_date\"], \"Engagement + Transactions\")"
   ]
  },
  {
   "cell_type": "code",
   "execution_count": null,
   "metadata": {},
   "outputs": [],
   "source": [
    "# Digital usage transformation\n",
    "digital_usage = engineer_digital_usage(digital_usage)\n",
    "print_null_summary(digital_usage, \"digital_usage\")\n",
    "print_shape_and_preview(digital_usage, \"digital_usage\")\n",
    "\n",
    "eda.check_missing_correlation(digital_usage, \"days_since_mobile_use\", \"has_mobile_app\")\n",
    "eda.check_missing_correlation(digital_usage, \"days_since_web_use\", \"has_web_account\")"
   ]
  },
  {
   "cell_type": "code",
   "execution_count": null,
   "metadata": {},
   "outputs": [],
   "source": [
    "# Products owned\n",
    "products_owned = count_products_owned(products_owned)\n",
    "print_null_summary(products_owned, \"products_owned\")\n",
    "print_shape_and_preview(products_owned, \"products_owned\")"
   ]
  },
  {
   "cell_type": "code",
   "execution_count": null,
   "metadata": {},
   "outputs": [],
   "source": [
    "# Merge all features\n",
    "combined_df = (\n",
    "    customers\n",
    "    .merge(customer_engagement, on=\"customer_id\", how=\"left\")\n",
    "    .merge(digital_usage, on=\"customer_id\", how=\"left\")\n",
    "    .merge(transaction_summary, on=\"customer_id\", how=\"left\")\n",
    "    .merge(products_owned[[\"customer_id\", \"num_products_owned\"]], on=\"customer_id\", how=\"left\")\n",
    ")"
   ]
  },
  {
   "cell_type": "code",
   "execution_count": null,
   "metadata": {},
   "outputs": [],
   "source": [
    "# High-value user flag\n",
    "combined_df[\"is_high_value_user\"] = define_high_value_user(combined_df)\n",
    "# Active in the last 30 days flag\n",
    "combined_df[\"is_recently_active\"] = is_recently_active(combined_df, days=30)\n",
    "# Customers with both mobile and web usage flag\n",
    "combined_df[\"is_multichannel_user\"] = is_multichannel_user(combined_df)\n",
    "# Transaction frequency\n",
    "combined_df[\"transaction_frequency\"] = combined_df[\"transaction_count\"] / combined_df[\"tenure\"]\n",
    "combined_df[[\"total_transaction_amt\", \"transaction_count\", \"transaction_frequency\"]] = combined_df[[\n",
    "    \"total_transaction_amt\", \"transaction_count\", \"transaction_frequency\"]].fillna(0)\n",
    "combined_df.drop(columns=[\"last_transaction_date\"], inplace=True)"
   ]
  },
  {
   "cell_type": "code",
   "execution_count": null,
   "metadata": {},
   "outputs": [],
   "source": [
    "# Final checks\n",
    "print_null_summary(combined_df, \"combined_df\")\n",
    "print_shape_and_preview(combined_df, \"combined_df\")"
   ]
  },
  {
   "cell_type": "code",
   "execution_count": null,
   "metadata": {},
   "outputs": [],
   "source": [
    "# Impute missing values\n",
    "combined_df = impute_missing_values(combined_df)"
   ]
  },
  {
   "cell_type": "code",
   "execution_count": null,
   "metadata": {},
   "outputs": [],
   "source": [
    "# Value counts for categorical variables\n",
    "categorical_cols = eda.get_categorical_columns(combined_df)\n",
    "for col in categorical_cols:\n",
    "    print(f\"Value counts for {col}:\\n{combined_df[col].value_counts()}\")"
   ]
  },
  {
   "cell_type": "markdown",
   "metadata": {},
   "source": [
    "### Relationship Analysis"
   ]
  },
  {
   "cell_type": "code",
   "execution_count": null,
   "metadata": {},
   "outputs": [],
   "source": [
    "# Set df and target column\n",
    "df = combined_df.copy()\n",
    "target_col = \"has_engaged\""
   ]
  },
  {
   "cell_type": "code",
   "execution_count": null,
   "metadata": {},
   "outputs": [],
   "source": [
    "# 1. Boxplots for numerical variables by engagement\n",
    "eda.get_boxplot(df, target_col)"
   ]
  },
  {
   "cell_type": "code",
   "execution_count": null,
   "metadata": {},
   "outputs": [],
   "source": [
    "# 2. T-tests for numerical variables\n",
    "ttest_results = eda.get_ttest(df, target_col)\n",
    "print(\"T-test Results:\\n\", ttest_results)"
   ]
  },
  {
   "cell_type": "code",
   "execution_count": null,
   "metadata": {},
   "outputs": [],
   "source": [
    "# 3. Proportion tables & bar plots for categorical columns against `has_engaged`\n",
    "tables = eda.get_proportion_table(df, target_col)\n",
    "    \n",
    "barplots = eda.get_barplot(df, target_col)"
   ]
  },
  {
   "cell_type": "code",
   "execution_count": null,
   "metadata": {},
   "outputs": [],
   "source": [
    "# 4. Chi-square test results\n",
    "chi2_results = eda.get_chi_square(df, target_col)\n",
    "print(\"\\nChi-Square Test Results:\\n\", chi2_results)"
   ]
  }
 ],
 "metadata": {
  "kernelspec": {
   "display_name": ".venv",
   "language": "python",
   "name": "python3"
  },
  "language_info": {
   "codemirror_mode": {
    "name": "ipython",
    "version": 3
   },
   "file_extension": ".py",
   "mimetype": "text/x-python",
   "name": "python",
   "nbconvert_exporter": "python",
   "pygments_lexer": "ipython3",
   "version": "3.10.6"
  }
 },
 "nbformat": 4,
 "nbformat_minor": 2
}
