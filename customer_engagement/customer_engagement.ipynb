{
 "cells": [
  {
   "cell_type": "markdown",
   "metadata": {},
   "source": [
    "## Customer-Level EDA\n",
    "This notebook analyses customer demographics, digital usage, product ownership, and transaction behavior in relation to whether the customer has engaged (`has_engaged`) in any campaign."
   ]
  },
  {
   "cell_type": "code",
   "execution_count": 18,
   "metadata": {},
   "outputs": [],
   "source": [
    "# Load packages\n",
    "import pandas as pd\n",
    "import matplotlib.pyplot as plt\n",
    "import seaborn as sns\n",
    "import importlib\n",
    "import eda_functions\n",
    "importlib.reload(eda_functions)\n",
    "import eda_functions as eda"
   ]
  },
  {
   "cell_type": "code",
   "execution_count": 19,
   "metadata": {},
   "outputs": [],
   "source": [
    "# Load datasets\n",
    "engagement_details = pd.read_csv(\"../data/processed/engagement_details.csv\")\n",
    "customers = pd.read_csv(\"../data/processed/customer.csv\")\n",
    "digital_usage = pd.read_csv(\"../data/processed/digital_usage.csv\")\n",
    "products_owned = pd.read_csv(\"../data/processed/products_owned.csv\")\n",
    "transactions = pd.read_csv(\"../data/processed/transactions.csv\")"
   ]
  },
  {
   "cell_type": "code",
   "execution_count": 20,
   "metadata": {},
   "outputs": [],
   "source": [
    "# Plot numeric distributions for customer demographics\n",
    "eda.plot_numeric_distributions(customers, prefix=\"customers\")\n",
    "\n",
    "# Plot numeric distributions for digital usage\n",
    "eda.plot_numeric_distributions(digital_usage, prefix=\"customers\")"
   ]
  },
  {
   "cell_type": "code",
   "execution_count": 21,
   "metadata": {},
   "outputs": [],
   "source": [
    "# Product ownership (bar plot per product)\n",
    "eda.plot_product_ownership_barplot(products_owned, \"customer_id\")"
   ]
  },
  {
   "cell_type": "code",
   "execution_count": 22,
   "metadata": {},
   "outputs": [
    {
     "name": "stdout",
     "output_type": "stream",
     "text": [
      "Number of nulls in 'has_engaged': 0\n",
      "\n",
      "Shape of customer_engagement: (4000, 2)\n",
      "\n",
      "First few rows of customer_engagement:\n",
      "   customer_id  has_engaged\n",
      "0            1            0\n",
      "1            2            1\n",
      "2            3            1\n",
      "3            4            1\n",
      "4            5            1\n"
     ]
    }
   ],
   "source": [
    "# Create customer-level has_engaged flag (1 if engaged in any campaign)\n",
    "customer_engagement = (\n",
    "    engagement_details\n",
    "    .groupby(\"customer_id\")[\"has_engaged\"]\n",
    "    .max()\n",
    "    .reset_index()\n",
    ")\n",
    "\n",
    "# Check for nulls in 'has_engaged'\n",
    "null_count = customer_engagement[\"has_engaged\"].isnull().sum()\n",
    "print(f\"Number of nulls in 'has_engaged': {null_count}\")\n",
    "\n",
    "print(f\"\\nShape of customer_engagement: {customer_engagement.shape}\")\n",
    "print(f\"\\nFirst few rows of customer_engagement:\\n{customer_engagement.head()}\")"
   ]
  },
  {
   "cell_type": "code",
   "execution_count": 23,
   "metadata": {},
   "outputs": [
    {
     "name": "stdout",
     "output_type": "stream",
     "text": [
      "Percentage of nulls in transaction columns after merge:\n",
      "total_transaction_amt    53.67\n",
      "transaction_count        53.67\n",
      "last_transaction_date    53.67\n",
      "customer_id               0.00\n",
      "has_engaged               0.00\n",
      "dtype: float64\n"
     ]
    }
   ],
   "source": [
    "# Aggregate transactions \n",
    "transaction_summary = (\n",
    "    transactions\n",
    "    .groupby(\"customer_id\")\n",
    "    .agg(\n",
    "        total_transaction_amt=(\"transaction_amt\", \"sum\"),\n",
    "        transaction_count=(\"transaction_id\", \"count\"),\n",
    "        last_transaction_date=(\"transaction_date\", \"max\")\n",
    "    )\n",
    "    .reset_index()\n",
    ")\n",
    "\n",
    "# Get percentage of null values in column last_transaction_date\n",
    "test_df = customer_engagement.merge(transaction_summary, on='customer_id', how='left')\n",
    "null_percentages_test= test_df.isnull().mean().round(4) * 100\n",
    "null_percentages_test = null_percentages_test.sort_values(ascending=False)\n",
    "print(f\"Percentage of nulls in transaction columns after merge:\\n{null_percentages_test}\")\n",
    "\n",
    "#~54% of customers have never transacted\n",
    "#This may include inactive, new, or digitally engaged but not monetized customers"
   ]
  },
  {
   "cell_type": "code",
   "execution_count": 24,
   "metadata": {},
   "outputs": [
    {
     "name": "stdout",
     "output_type": "stream",
     "text": [
      "Null counts per column: \n",
      " customer_id                      0\n",
      "has_mobile_app                   0\n",
      "has_web_account                  0\n",
      "days_since_mobile_use         1080\n",
      "days_since_web_use             480\n",
      "total_logins_per_week            0\n",
      "avg_total_time_per_session       0\n",
      "dtype: int64\n",
      "\n",
      "Shape of digital_usage: (4000, 7)\n",
      "\n",
      "First few rows of digital_usage:\n",
      "   customer_id  has_mobile_app  has_web_account  days_since_mobile_use  \\\n",
      "0         1987               1                1                   54.0   \n",
      "1            2               0                1                    NaN   \n",
      "2            3               1                1                  529.0   \n",
      "3            4               1                1                  108.0   \n",
      "4            5               1                1                   75.0   \n",
      "\n",
      "   days_since_web_use  total_logins_per_week  avg_total_time_per_session  \n",
      "0                52.0                    3.0                       22.91  \n",
      "1               301.0                    6.0                        2.32  \n",
      "2               281.0                   21.0                        3.49  \n",
      "3                98.0                   15.0                        9.74  \n",
      "4               684.0                    4.0                        5.78  \n"
     ]
    }
   ],
   "source": [
    "# Feature engineering on digital usage\n",
    "\n",
    "# Convert to datetime format\n",
    "digital_usage['last_mobile_use'] = pd.to_datetime( digital_usage['last_mobile_use'], format=\"%Y-%m-%d\")\n",
    "digital_usage['last_web_use'] = pd.to_datetime( digital_usage['last_web_use'], format=\"%Y-%m-%d\")\n",
    "# Convert date fields to days since xxx format\n",
    "reference_date = pd.to_datetime('2025-01-01')\n",
    "digital_usage['days_since_mobile_use'] = (reference_date - digital_usage['last_mobile_use']).dt.days\n",
    "digital_usage['days_since_web_use'] = (reference_date - digital_usage['last_web_use']).dt.days\n",
    "\n",
    "digital_usage[\"total_logins_per_week\"] = digital_usage[[\"mobile_logins_wk\", \"web_logins_wk\"]].sum(axis=1)\n",
    "digital_usage[\"avg_total_time_per_session\"] = digital_usage[[\"avg_mobile_time\", \"avg_web_time\"]].sum(axis=1)\n",
    "\n",
    "# Drop original columns\n",
    "digital_usage = digital_usage.drop(columns=[\"last_mobile_use\", \"last_web_use\", \n",
    "                                               \"mobile_logins_wk\", \"web_logins_wk\",\n",
    "                                               \"avg_mobile_time\", \"avg_web_time\"])\n",
    "\n",
    "print(f\"Null counts per column: \\n {digital_usage.isnull().sum()}\")\n",
    "print(f\"\\nShape of digital_usage: {digital_usage.shape}\")\n",
    "print(f\"\\nFirst few rows of digital_usage:\\n{digital_usage.head()}\")"
   ]
  },
  {
   "cell_type": "code",
   "execution_count": 25,
   "metadata": {},
   "outputs": [
    {
     "name": "stdout",
     "output_type": "stream",
     "text": [
      "Total missing values in \"days_since_mobile_use\": 1080\n",
      "\n",
      "Value counts of \"has_mobile_app\" where \"days_since_mobile_use\" is missing:\n",
      "has_mobile_app\n",
      "0    1080\n",
      "Name: count, dtype: int64\n",
      "Total missing values in \"days_since_web_use\": 480\n",
      "\n",
      "Value counts of \"has_web_account\" where \"days_since_web_use\" is missing:\n",
      "has_web_account\n",
      "0    480\n",
      "Name: count, dtype: int64\n"
     ]
    }
   ],
   "source": [
    "# Check missing days_since_mobile_use correlation with has_mobile_app\n",
    "check = eda.check_missing_correlation(digital_usage, \"days_since_mobile_use\", \"has_mobile_app\")\n",
    "\n",
    "# Check missing days_since_web_use correlation with has_web_account\n",
    "check = eda.check_missing_correlation(digital_usage, \"days_since_web_use\", \"has_web_account\")\n",
    "\n",
    "# Results interpretation: The customers who are missing days_since_mobile_use or days_since_web_use are those who never had access to the respective platforms\n",
    "\n",
    "# Fill the missing values by assigning a large number to indicate extreme inactivity\n",
    "digital_usage[\"days_since_mobile_use\"] = digital_usage[\"days_since_mobile_use\"].fillna(999)\n",
    "digital_usage[\"days_since_web_use\"] = digital_usage[\"days_since_web_use\"].fillna(999)"
   ]
  },
  {
   "cell_type": "code",
   "execution_count": 26,
   "metadata": {},
   "outputs": [
    {
     "name": "stdout",
     "output_type": "stream",
     "text": [
      "Number of nulls in 'num_products_owned': 0\n",
      "\n",
      "Shape of products_owned: (4000, 8)\n",
      "\n",
      "First few rows of products_owned:\n",
      "   customer_id  has_investment_product  has_credit_card  has_home_loan  \\\n",
      "0          166                       0                1              1   \n",
      "1          139                       1                1              0   \n",
      "2          484                       0                1              0   \n",
      "3          508                       0                0              0   \n",
      "4          119                       0                1              0   \n",
      "\n",
      "   has_personal_loan  has_fixed_deposit  has_insurance  num_products_owned  \n",
      "0                  0                  0              0                   2  \n",
      "1                  0                  0              0                   2  \n",
      "2                  0                  0              0                   1  \n",
      "3                  0                  1              0                   1  \n",
      "4                  0                  0              0                   1  \n"
     ]
    }
   ],
   "source": [
    "# Feature engineering on products owned\n",
    "products_owned[\"num_products_owned\"] = products_owned.drop(columns=\"customer_id\").sum(axis=1)\n",
    "\n",
    "# Check for nulls in 'num_products_owned'\n",
    "null_count = products_owned[\"num_products_owned\"].isnull().sum()\n",
    "print(f\"Number of nulls in 'num_products_owned': {null_count}\")\n",
    "\n",
    "print(f\"\\nShape of products_owned: {products_owned.shape}\")\n",
    "print(f\"\\nFirst few rows of products_owned:\\n{products_owned.head()}\")"
   ]
  },
  {
   "cell_type": "code",
   "execution_count": 27,
   "metadata": {},
   "outputs": [],
   "source": [
    "# Merge all features into combined_df\n",
    "combined_df = (\n",
    "    customers\n",
    "    .merge(customer_engagement, on=\"customer_id\", how=\"left\")\n",
    "    .merge(digital_usage, on=\"customer_id\", how=\"left\")\n",
    "    .merge(transaction_summary, on=\"customer_id\", how=\"left\")\n",
    "    .merge(products_owned[[\"customer_id\", \"num_products_owned\"]], on=\"customer_id\", how=\"left\")\n",
    ")"
   ]
  },
  {
   "cell_type": "code",
   "execution_count": 28,
   "metadata": {},
   "outputs": [],
   "source": [
    "\n",
    "# Create high-value user flag based on median thresholds\n",
    "login_median = combined_df[\"total_logins_per_week\"].median()\n",
    "spend_median = combined_df[\"total_transaction_amt\"].median()\n",
    "combined_df[\"is_high_value_user\"] = (\n",
    "    (combined_df[\"total_logins_per_week\"] > login_median) &\n",
    "    (combined_df[\"total_transaction_amt\"] > spend_median)\n",
    ").astype(int)\n",
    "\n",
    "# Feature: transaction frequency\n",
    "combined_df[\"transaction_frequency\"] = combined_df[\"transaction_count\"] / combined_df[\"tenure\"]\n",
    "combined_df[[\"total_transaction_amt\", \"transaction_count\", \"transaction_frequency\"]] = combined_df[[\n",
    "    \"total_transaction_amt\", \"transaction_count\", \"transaction_frequency\"]].fillna(0)\n",
    "\n",
    "combined_df = combined_df.drop(columns=[\"last_transaction_date\"])"
   ]
  },
  {
   "cell_type": "code",
   "execution_count": 29,
   "metadata": {},
   "outputs": [
    {
     "name": "stdout",
     "output_type": "stream",
     "text": [
      "Null summary:\n",
      "                             Null Count  Null %\n",
      "avg_total_time_per_session          19    0.47\n",
      "total_logins_per_week               19    0.47\n",
      "days_since_web_use                  19    0.47\n",
      "days_since_mobile_use               19    0.47\n",
      "has_web_account                     19    0.47\n",
      "has_mobile_app                      19    0.47\n",
      "customer_id                          0    0.00\n",
      "has_engaged                          0    0.00\n",
      "is_high_value_user                   0    0.00\n",
      "num_products_owned                   0    0.00\n",
      "transaction_count                    0    0.00\n",
      "total_transaction_amt                0    0.00\n",
      "customer_lifetime_value              0    0.00\n",
      "age                                  0    0.00\n",
      "dependents                           0    0.00\n",
      "nps                                  0    0.00\n",
      "tenure                               0    0.00\n",
      "income                               0    0.00\n",
      "debt                                 0    0.00\n",
      "balance                              0    0.00\n",
      "default                              0    0.00\n",
      "education                            0    0.00\n",
      "marital                              0    0.00\n",
      "job                                  0    0.00\n",
      "transaction_frequency                0    0.00\n",
      "\n",
      "First few rows:\n",
      "    customer_id  age         job  marital  education  default   balance  \\\n",
      "0          496   47  unemployed   single  secondary        1 -23782.71   \n",
      "1          540   32  unemployed   single    primary        1  -7812.19   \n",
      "2          244   32  unemployed   single   tertiary        1  -7725.79   \n",
      "3          286   35  unemployed  married  secondary        1  -6873.81   \n",
      "4          311   27     student  married   tertiary        1  -6695.05   \n",
      "\n",
      "       debt   income  tenure  ...  has_web_account  days_since_mobile_use  \\\n",
      "0  18829.82   228.34      33  ...              1.0                  999.0   \n",
      "1   5838.78   140.17      24  ...              1.0                  235.0   \n",
      "2  25796.13   454.52      33  ...              1.0                  453.0   \n",
      "3   5796.03  1292.46      29  ...              1.0                   58.0   \n",
      "4   5394.01   661.52      17  ...              1.0                  716.0   \n",
      "\n",
      "   days_since_web_use  total_logins_per_week  avg_total_time_per_session  \\\n",
      "0                73.0                    0.0                        0.00   \n",
      "1               292.0                   12.0                        1.50   \n",
      "2                 7.0                    1.0                       18.64   \n",
      "3                11.0                    5.0                       21.27   \n",
      "4                72.0                   15.0                       10.69   \n",
      "\n",
      "   total_transaction_amt  transaction_count  num_products_owned  \\\n",
      "0                  87.68                1.0                   2   \n",
      "1                 293.66                2.0                   0   \n",
      "2                 251.26                1.0                   2   \n",
      "3                 220.41                2.0                   1   \n",
      "4                   0.00                0.0                   1   \n",
      "\n",
      "   is_high_value_user  transaction_frequency  \n",
      "0                   0               0.030303  \n",
      "1                   0               0.083333  \n",
      "2                   0               0.030303  \n",
      "3                   0               0.068966  \n",
      "4                   0               0.000000  \n",
      "\n",
      "[5 rows x 25 columns]\n",
      "\n",
      "Shape of combined_df: (4019, 25)\n"
     ]
    }
   ],
   "source": [
    "# Check nulls\n",
    "null_counts = combined_df.isnull().sum()\n",
    "null_percentages = (combined_df.isnull().mean() * 100).round(2)\n",
    "null_summary = pd.DataFrame({\n",
    "    \"Null Count\": null_counts,\n",
    "    \"Null %\": null_percentages}).sort_values(\"Null %\", ascending=False)\n",
    "print(\"Null summary:\\n\", null_summary)\n",
    "\n",
    "print(f\"\\nFirst few rows:\\n {combined_df.head()}\")\n",
    "print(\"\\nShape of combined_df:\", combined_df.shape)"
   ]
  },
  {
   "cell_type": "code",
   "execution_count": 30,
   "metadata": {},
   "outputs": [
    {
     "name": "stdout",
     "output_type": "stream",
     "text": [
      "Dropped 19 rows with nulls. Remaining rows: 4000\n"
     ]
    }
   ],
   "source": [
    "# Drop rows with null values in any column in combined_df\n",
    "before = combined_df.shape[0]\n",
    "combined_df = combined_df.dropna()\n",
    "after = combined_df.shape[0]\n",
    "\n",
    "print(f\"Dropped {before - after} rows with nulls. Remaining rows: {after}\")"
   ]
  },
  {
   "cell_type": "code",
   "execution_count": 31,
   "metadata": {},
   "outputs": [],
   "source": [
    "# Set df and target column\n",
    "df = combined_df.copy()\n",
    "target_col = 'has_engaged'"
   ]
  },
  {
   "cell_type": "code",
   "execution_count": 32,
   "metadata": {},
   "outputs": [],
   "source": [
    "# 1. Boxplots for numerical variables by engagement\n",
    "eda.get_boxplot(df, target_col)"
   ]
  },
  {
   "cell_type": "code",
   "execution_count": 33,
   "metadata": {},
   "outputs": [
    {
     "name": "stdout",
     "output_type": "stream",
     "text": [
      "T-test Results:\n",
      "                        Feature  T-Statistic   P-Value\n",
      "9                       income     1.314039  0.188918\n",
      "16           transaction_count     1.212980  0.225219\n",
      "8                   dependents     1.189183  0.234446\n",
      "17       transaction_frequency     1.050199  0.293697\n",
      "12          num_products_owned    -0.865083  0.387051\n",
      "10          is_high_value_user    -0.737522  0.460853\n",
      "7                         debt     0.501469  0.616072\n",
      "3                  customer_id     0.474403  0.635242\n",
      "11                         nps    -0.325732  0.744647\n",
      "6           days_since_web_use    -0.308811  0.757484\n",
      "14       total_logins_per_week    -0.292076  0.770245\n",
      "4      customer_lifetime_value     0.280930  0.778780\n",
      "0                          age     0.215197  0.829626\n",
      "5        days_since_mobile_use     0.168906  0.865880\n",
      "15       total_transaction_amt     0.132746  0.894402\n",
      "2                      balance     0.116553  0.907220\n",
      "13                      tenure     0.106208  0.915423\n",
      "1   avg_total_time_per_session     0.062079  0.950503\n"
     ]
    }
   ],
   "source": [
    "# 2. T-tests for numerical variables\n",
    "ttest_results = eda.get_ttest(df, target_col)\n",
    "print(\"T-test Results:\\n\", ttest_results)"
   ]
  },
  {
   "cell_type": "code",
   "execution_count": 34,
   "metadata": {},
   "outputs": [
    {
     "name": "stdout",
     "output_type": "stream",
     "text": [
      "\n",
      "Proportion Table for default:\n",
      "has_engaged         0         1\n",
      "default                        \n",
      "0            0.418279  0.581721\n",
      "1            0.396256  0.603744\n",
      "\n",
      "Proportion Table for has_mobile_app:\n",
      "has_engaged            0         1\n",
      "has_mobile_app                    \n",
      "0.0             0.414815  0.585185\n",
      "1.0             0.414726  0.585274\n",
      "\n",
      "Proportion Table for has_web_account:\n",
      "has_engaged            0        1\n",
      "has_web_account                  \n",
      "0.0              0.43125  0.56875\n",
      "1.0              0.41250  0.58750\n",
      "\n",
      "Proportion Table for marital:\n",
      "has_engaged         0         1\n",
      "marital                        \n",
      "divorced     0.446224  0.553776\n",
      "married      0.416200  0.583800\n",
      "single       0.400966  0.599034\n",
      "\n",
      "Proportion Table for job:\n",
      "has_engaged           0         1\n",
      "job                              \n",
      "admin.         0.381766  0.618234\n",
      "blue-collar    0.438953  0.561047\n",
      "entrepreneur   0.396460  0.603540\n",
      "housemaid      0.387500  0.612500\n",
      "management     0.414365  0.585635\n",
      "retired        0.460000  0.540000\n",
      "self-employed  0.454988  0.545012\n",
      "services       0.423977  0.576023\n",
      "student        0.351515  0.648485\n",
      "technician     0.429003  0.570997\n",
      "unemployed     0.308943  0.691057\n",
      "unknown        0.438073  0.561927\n",
      "\n",
      "Proportion Table for education:\n",
      "has_engaged         0         1\n",
      "education                      \n",
      "primary      0.380488  0.619512\n",
      "secondary    0.415392  0.584608\n",
      "tertiary     0.425801  0.574199\n",
      "unknown      0.453488  0.546512\n"
     ]
    }
   ],
   "source": [
    "# 3. Proportion tables & bar plots for categorical columns against `has_engaged`\n",
    "tables = eda.get_proportion_table(df, target_col)\n",
    "    \n",
    "barplots = eda.get_barplot(df, target_col)"
   ]
  },
  {
   "cell_type": "code",
   "execution_count": 35,
   "metadata": {},
   "outputs": [
    {
     "name": "stdout",
     "output_type": "stream",
     "text": [
      "\n",
      "Chi-Square Test Results:\n",
      "            Feature  Chi-Square   P-Value\n",
      "4              job   18.776619  0.065223\n",
      "5        education    4.637770  0.200326\n",
      "3          marital    2.775715  0.249609\n",
      "0          default    0.986778  0.320531\n",
      "2  has_web_account    0.536977  0.463688\n",
      "1   has_mobile_app    0.000000  1.000000\n"
     ]
    }
   ],
   "source": [
    "# 4. Chi-square test results\n",
    "chi2_results = eda.get_chi_square(df, target_col)\n",
    "print(\"\\nChi-Square Test Results:\\n\", chi2_results)"
   ]
  }
 ],
 "metadata": {
  "kernelspec": {
   "display_name": ".venv",
   "language": "python",
   "name": "python3"
  },
  "language_info": {
   "codemirror_mode": {
    "name": "ipython",
    "version": 3
   },
   "file_extension": ".py",
   "mimetype": "text/x-python",
   "name": "python",
   "nbconvert_exporter": "python",
   "pygments_lexer": "ipython3",
   "version": "3.10.6"
  }
 },
 "nbformat": 4,
 "nbformat_minor": 2
}
