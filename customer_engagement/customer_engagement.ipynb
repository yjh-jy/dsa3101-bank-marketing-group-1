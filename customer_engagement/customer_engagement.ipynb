{
 "cells": [
  {
   "cell_type": "markdown",
   "metadata": {},
   "source": [
    "## Customer-Level EDA\n",
    "This notebook analyses customer demographics, digital usage, product ownership, and transaction behavior in relation to whether the customer has engaged (`has_engaged`) in any campaign."
   ]
  },
  {
   "cell_type": "code",
   "execution_count": 1,
   "metadata": {},
   "outputs": [],
   "source": [
    "# Load packages\n",
    "import pandas as pd\n",
    "import eda_functions as eda\n",
    "from load_data import load_customer_data\n",
    "from feature_engineering import (create_customer_engagement_flag,\n",
    "                                 summarize_transactions,\n",
    "                                 engineer_digital_usage,\n",
    "                                 count_products_owned\n",
    "                                 )\n",
    "from business_rules import define_high_value_user, is_recently_active, is_multichannel_user\n",
    "from data_quality import print_null_summary, print_shape_and_preview, check_post_merge_nulls, impute_missing_values"
   ]
  },
  {
   "cell_type": "code",
   "execution_count": 2,
   "metadata": {},
   "outputs": [],
   "source": [
    "# Load data\n",
    "engagement_details, customers, digital_usage, products_owned, transactions = load_customer_data()\n",
    "target_col = \"has_engaged\""
   ]
  },
  {
   "cell_type": "markdown",
   "metadata": {},
   "source": [
    "### Preliminary EDA"
   ]
  },
  {
   "cell_type": "code",
   "execution_count": 3,
   "metadata": {},
   "outputs": [],
   "source": [
    "# EDA plots\n",
    "eda.plot_numeric_distributions(customers, prefix=\"customers\")\n",
    "eda.plot_numeric_distributions(digital_usage, prefix=\"customers\")\n",
    "eda.plot_product_ownership_barplot(products_owned, \"customer_id\")"
   ]
  },
  {
   "cell_type": "markdown",
   "metadata": {},
   "source": [
    "### Feature Engineering"
   ]
  },
  {
   "cell_type": "code",
   "execution_count": 4,
   "metadata": {},
   "outputs": [
    {
     "name": "stdout",
     "output_type": "stream",
     "text": [
      "\n",
      "Null Summary for customer_engagement:\n",
      "              Null Count  Null %\n",
      "customer_id           0     0.0\n",
      "has_engaged           0     0.0\n",
      "\n",
      "customer_engagement shape: (4000, 2)\n",
      "\n",
      "customer_engagement preview:\n",
      "   customer_id  has_engaged\n",
      "0            1            0\n",
      "1            2            1\n",
      "2            3            1\n",
      "3            4            1\n",
      "4            5            1\n"
     ]
    }
   ],
   "source": [
    "customer_engagement = create_customer_engagement_flag(engagement_details)\n",
    "print_null_summary(customer_engagement, \"customer_engagement\")\n",
    "print_shape_and_preview(customer_engagement, \"customer_engagement\")"
   ]
  },
  {
   "cell_type": "code",
   "execution_count": 5,
   "metadata": {},
   "outputs": [
    {
     "name": "stdout",
     "output_type": "stream",
     "text": [
      "\n",
      "Engagement + Transactions - Null % in columns:\n",
      "last_transaction_date    53.45\n",
      "dtype: float64\n"
     ]
    }
   ],
   "source": [
    "transaction_summary = summarize_transactions(transactions)\n",
    "test_df = customer_engagement.merge(transaction_summary, on='customer_id', how='left')\n",
    "check_post_merge_nulls(test_df, [\"last_transaction_date\"], \"Engagement + Transactions\")"
   ]
  },
  {
   "cell_type": "code",
   "execution_count": 6,
   "metadata": {},
   "outputs": [
    {
     "name": "stdout",
     "output_type": "stream",
     "text": [
      "\n",
      "Null Summary for digital_usage:\n",
      "                             Null Count  Null %\n",
      "customer_id                          0     0.0\n",
      "has_mobile_app                       0     0.0\n",
      "has_web_account                      0     0.0\n",
      "days_since_mobile_use                0     0.0\n",
      "days_since_web_use                   0     0.0\n",
      "total_logins_per_week                0     0.0\n",
      "avg_total_time_per_session           0     0.0\n",
      "\n",
      "digital_usage shape: (4000, 7)\n",
      "\n",
      "digital_usage preview:\n",
      "   customer_id  has_mobile_app  has_web_account  days_since_mobile_use  \\\n",
      "0          959               1                1                   54.0   \n",
      "1            2               0                1                  999.0   \n",
      "2            3               1                1                  529.0   \n",
      "3            4               1                1                  108.0   \n",
      "4            5               1                1                   75.0   \n",
      "\n",
      "   days_since_web_use  total_logins_per_week  avg_total_time_per_session  \n",
      "0                52.0                    3.0                       22.91  \n",
      "1               301.0                    6.0                        2.32  \n",
      "2               281.0                   21.0                        3.49  \n",
      "3                98.0                   15.0                        9.74  \n",
      "4               684.0                    4.0                        5.78  \n",
      "Total missing values in \"days_since_mobile_use\": 0\n",
      "No missing values in \"days_since_mobile_use\".\n",
      "Total missing values in \"days_since_web_use\": 0\n",
      "No missing values in \"days_since_web_use\".\n"
     ]
    },
    {
     "data": {
      "text/plain": [
       "Series([], Name: count, dtype: int64)"
      ]
     },
     "execution_count": 6,
     "metadata": {},
     "output_type": "execute_result"
    }
   ],
   "source": [
    "# Digital usage transformation\n",
    "digital_usage = engineer_digital_usage(digital_usage)\n",
    "print_null_summary(digital_usage, \"digital_usage\")\n",
    "print_shape_and_preview(digital_usage, \"digital_usage\")\n",
    "\n",
    "eda.check_missing_correlation(digital_usage, \"days_since_mobile_use\", \"has_mobile_app\")\n",
    "eda.check_missing_correlation(digital_usage, \"days_since_web_use\", \"has_web_account\")"
   ]
  },
  {
   "cell_type": "code",
   "execution_count": 7,
   "metadata": {},
   "outputs": [
    {
     "name": "stdout",
     "output_type": "stream",
     "text": [
      "\n",
      "Null Summary for products_owned:\n",
      "                         Null Count  Null %\n",
      "customer_id                      0     0.0\n",
      "has_investment_product           0     0.0\n",
      "has_credit_card                  0     0.0\n",
      "has_personal_loan                0     0.0\n",
      "has_fixed_deposit                0     0.0\n",
      "has_insurance                    0     0.0\n",
      "num_products_owned               0     0.0\n",
      "\n",
      "products_owned shape: (4000, 7)\n",
      "\n",
      "products_owned preview:\n",
      "   customer_id  has_investment_product  has_credit_card  has_personal_loan  \\\n",
      "0          217                       1                0                  1   \n",
      "1          179                       0                1                  1   \n",
      "2           81                       0                0                  1   \n",
      "3           50                       0                0                  0   \n",
      "4           13                       1                0                  1   \n",
      "\n",
      "   has_fixed_deposit  has_insurance  num_products_owned  \n",
      "0                  0              0                   2  \n",
      "1                  0              0                   2  \n",
      "2                  1              0                   2  \n",
      "3                  1              1                   2  \n",
      "4                  0              0                   2  \n"
     ]
    }
   ],
   "source": [
    "# Products owned\n",
    "products_owned = count_products_owned(products_owned)\n",
    "print_null_summary(products_owned, \"products_owned\")\n",
    "print_shape_and_preview(products_owned, \"products_owned\")"
   ]
  },
  {
   "cell_type": "code",
   "execution_count": 8,
   "metadata": {},
   "outputs": [],
   "source": [
    "# Merge all features\n",
    "combined_df = (\n",
    "    customers\n",
    "    .merge(customer_engagement, on=\"customer_id\", how=\"left\")\n",
    "    .merge(digital_usage, on=\"customer_id\", how=\"left\")\n",
    "    .merge(transaction_summary, on=\"customer_id\", how=\"left\")\n",
    "    .merge(products_owned[[\"customer_id\", \"num_products_owned\"]], on=\"customer_id\", how=\"left\")\n",
    ")"
   ]
  },
  {
   "cell_type": "code",
   "execution_count": 10,
   "metadata": {},
   "outputs": [
    {
     "data": {
      "text/plain": [
       "Index(['customer_id', 'age', 'job', 'marital', 'education', 'default',\n",
       "       'balance', 'debt', 'income', 'tenure', 'nps', 'dependents',\n",
       "       'customer_lifetime_value', 'has_engaged', 'has_mobile_app',\n",
       "       'has_web_account', 'days_since_mobile_use', 'days_since_web_use',\n",
       "       'total_logins_per_week', 'avg_total_time_per_session',\n",
       "       'total_transaction_amt', 'transaction_count', 'last_transaction_date',\n",
       "       'num_products_owned', 'is_high_value_user'],\n",
       "      dtype='object')"
      ]
     },
     "execution_count": 10,
     "metadata": {},
     "output_type": "execute_result"
    }
   ],
   "source": [
    "combined_df.columns"
   ]
  },
  {
   "cell_type": "code",
   "execution_count": 11,
   "metadata": {},
   "outputs": [],
   "source": [
    "# High-value user flag\n",
    "combined_df[\"is_high_value_user\"] = define_high_value_user(combined_df)\n",
    "# Transaction frequency\n",
    "combined_df[\"transaction_frequency\"] = combined_df[\"transaction_count\"] / combined_df[\"tenure\"]\n",
    "combined_df[[\"total_transaction_amt\", \"transaction_count\", \"transaction_frequency\"]] = combined_df[[\n",
    "    \"total_transaction_amt\", \"transaction_count\", \"transaction_frequency\"]].fillna(0)\n",
    "combined_df.drop(columns=[\"last_transaction_date\"], inplace=True)\n",
    "# Active in the last 30 days flag\n",
    "combined_df[\"is_recently_active\"] = is_recently_active(combined_df, days=30)\n",
    "# Customers with both mobile and web usage flag\n",
    "combined_df[\"is_multichannel_user\"] = is_multichannel_user(combined_df)"
   ]
  },
  {
   "cell_type": "code",
   "execution_count": 12,
   "metadata": {},
   "outputs": [
    {
     "name": "stdout",
     "output_type": "stream",
     "text": [
      "\n",
      "Null Summary for combined_df:\n",
      "                             Null Count  Null %\n",
      "has_mobile_app                      19    0.47\n",
      "avg_total_time_per_session          19    0.47\n",
      "total_logins_per_week               19    0.47\n",
      "days_since_web_use                  19    0.47\n",
      "days_since_mobile_use               19    0.47\n",
      "has_web_account                     19    0.47\n",
      "customer_id                          0    0.00\n",
      "is_recently_active                   0    0.00\n",
      "transaction_frequency                0    0.00\n",
      "is_high_value_user                   0    0.00\n",
      "num_products_owned                   0    0.00\n",
      "transaction_count                    0    0.00\n",
      "total_transaction_amt                0    0.00\n",
      "has_engaged                          0    0.00\n",
      "age                                  0    0.00\n",
      "customer_lifetime_value              0    0.00\n",
      "dependents                           0    0.00\n",
      "nps                                  0    0.00\n",
      "tenure                               0    0.00\n",
      "income                               0    0.00\n",
      "debt                                 0    0.00\n",
      "balance                              0    0.00\n",
      "default                              0    0.00\n",
      "education                            0    0.00\n",
      "marital                              0    0.00\n",
      "job                                  0    0.00\n",
      "is_multichannel_user                 0    0.00\n",
      "\n",
      "combined_df shape: (4019, 27)\n",
      "\n",
      "combined_df preview:\n",
      "   customer_id  age         job marital  education  default   balance  \\\n",
      "0          217   33  unemployed  single    primary        1 -23869.04   \n",
      "1          179   32     retired  single  secondary        1 -16434.66   \n",
      "2           81   20  unemployed  single  secondary        1 -11910.44   \n",
      "3           50   35  unemployed  single   tertiary        1 -10332.25   \n",
      "4           13   35     student  single  secondary        1  -8003.47   \n",
      "\n",
      "       debt  income  tenure  ...  days_since_web_use  total_logins_per_week  \\\n",
      "0  15283.08  277.46      26  ...               137.0                    3.0   \n",
      "1  12630.49  716.15      24  ...                 4.0                   13.0   \n",
      "2  21609.58  539.38      10  ...               182.0                    9.0   \n",
      "3  47532.55  269.77      27  ...               390.0                   10.0   \n",
      "4  36324.75  522.33      27  ...                84.0                    6.0   \n",
      "\n",
      "   avg_total_time_per_session  total_transaction_amt  transaction_count  \\\n",
      "0                        7.27                  23.58                1.0   \n",
      "1                       17.79                  50.20                1.0   \n",
      "2                       13.64                  42.39                1.0   \n",
      "3                        6.52                   0.00                0.0   \n",
      "4                       13.50                  29.01                1.0   \n",
      "\n",
      "   num_products_owned  is_high_value_user  transaction_frequency  \\\n",
      "0                   2                   0               0.038462   \n",
      "1                   2                   0               0.041667   \n",
      "2                   2                   0               0.100000   \n",
      "3                   2                   0               0.000000   \n",
      "4                   2                   0               0.037037   \n",
      "\n",
      "   is_recently_active  is_multichannel_user  \n",
      "0                   1                     0  \n",
      "1                   1                     1  \n",
      "2                   1                     1  \n",
      "3                   0                     1  \n",
      "4                   1                     1  \n",
      "\n",
      "[5 rows x 27 columns]\n"
     ]
    }
   ],
   "source": [
    "# Final checks\n",
    "print_null_summary(combined_df, \"combined_df\")\n",
    "print_shape_and_preview(combined_df, \"combined_df\")"
   ]
  },
  {
   "cell_type": "code",
   "execution_count": 13,
   "metadata": {},
   "outputs": [],
   "source": [
    "# Impute missing values\n",
    "combined_df = impute_missing_values(combined_df)"
   ]
  },
  {
   "cell_type": "code",
   "execution_count": 14,
   "metadata": {},
   "outputs": [
    {
     "name": "stdout",
     "output_type": "stream",
     "text": [
      "Value counts for marital:\n",
      "marital\n",
      "married     2298\n",
      "single      1275\n",
      "divorced     446\n",
      "Name: count, dtype: int64\n",
      "Value counts for has_mobile_app:\n",
      "has_mobile_app\n",
      "1.0    2939\n",
      "0.0    1080\n",
      "Name: count, dtype: int64\n",
      "Value counts for dependents:\n",
      "dependents\n",
      "3    1067\n",
      "2    1040\n",
      "1     752\n",
      "4     645\n",
      "0     357\n",
      "5     158\n",
      "Name: count, dtype: int64\n",
      "Value counts for default:\n",
      "default\n",
      "0    3374\n",
      "1     645\n",
      "Name: count, dtype: int64\n",
      "Value counts for has_web_account:\n",
      "has_web_account\n",
      "1.0    3539\n",
      "0.0     480\n",
      "Name: count, dtype: int64\n",
      "Value counts for is_high_value_user:\n",
      "is_high_value_user\n",
      "0    3595\n",
      "1     424\n",
      "Name: count, dtype: int64\n",
      "Value counts for job:\n",
      "job\n",
      "entrepreneur     534\n",
      "unknown          445\n",
      "self-employed    437\n",
      "management       383\n",
      "blue-collar      356\n",
      "technician       355\n",
      "services         324\n",
      "admin.           308\n",
      "housemaid        296\n",
      "retired          274\n",
      "student          166\n",
      "unemployed       141\n",
      "Name: count, dtype: int64\n",
      "Value counts for is_multichannel_user:\n",
      "is_multichannel_user\n",
      "1    2920\n",
      "0    1099\n",
      "Name: count, dtype: int64\n",
      "Value counts for has_engaged:\n",
      "has_engaged\n",
      "1    2351\n",
      "0    1668\n",
      "Name: count, dtype: int64\n",
      "Value counts for num_products_owned:\n",
      "num_products_owned\n",
      "3    1416\n",
      "2    1098\n",
      "4     797\n",
      "1     491\n",
      "5     148\n",
      "0      69\n",
      "Name: count, dtype: int64\n",
      "Value counts for is_recently_active:\n",
      "is_recently_active\n",
      "1    2044\n",
      "0    1975\n",
      "Name: count, dtype: int64\n",
      "Value counts for education:\n",
      "education\n",
      "secondary    2097\n",
      "tertiary     1143\n",
      "primary       609\n",
      "unknown       170\n",
      "Name: count, dtype: int64\n"
     ]
    }
   ],
   "source": [
    "# Value counts for categorical variables\n",
    "categorical_cols = eda.get_categorical_columns(combined_df)\n",
    "for col in categorical_cols:\n",
    "    print(f\"Value counts for {col}:\\n{combined_df[col].value_counts()}\")"
   ]
  },
  {
   "cell_type": "markdown",
   "metadata": {},
   "source": [
    "### Relationship Analysis"
   ]
  },
  {
   "cell_type": "code",
   "execution_count": 15,
   "metadata": {},
   "outputs": [],
   "source": [
    "# Set df and target column\n",
    "df = combined_df.copy()\n",
    "target_col = \"has_engaged\""
   ]
  },
  {
   "cell_type": "code",
   "execution_count": 16,
   "metadata": {},
   "outputs": [],
   "source": [
    "# 1. Boxplots for numerical variables by engagement\n",
    "eda.get_boxplot(df, target_col)"
   ]
  },
  {
   "cell_type": "code",
   "execution_count": 17,
   "metadata": {},
   "outputs": [
    {
     "name": "stdout",
     "output_type": "stream",
     "text": [
      "T-test Results:\n",
      "                        Feature  T-Statistic   P-Value\n",
      "14       transaction_frequency     1.167632  0.243035\n",
      "12       total_transaction_amt     0.917487  0.358953\n",
      "13           transaction_count     0.840294  0.400801\n",
      "8                       income     0.723748  0.469268\n",
      "10                      tenure    -0.645341  0.518747\n",
      "7                         debt     0.524332  0.600078\n",
      "4      customer_lifetime_value     0.508185  0.611354\n",
      "3                  customer_id     0.496427  0.619623\n",
      "9                          nps     0.482224  0.629676\n",
      "11       total_logins_per_week    -0.477696  0.632895\n",
      "2                      balance     0.375547  0.707277\n",
      "5        days_since_mobile_use     0.358095  0.720293\n",
      "6           days_since_web_use    -0.317237  0.751083\n",
      "0                          age    -0.246405  0.805383\n",
      "1   avg_total_time_per_session     0.001399  0.998883\n"
     ]
    }
   ],
   "source": [
    "# 2. T-tests for numerical variables\n",
    "ttest_results = eda.get_ttest(df, target_col)\n",
    "print(\"T-test Results:\\n\", ttest_results)"
   ]
  },
  {
   "cell_type": "code",
   "execution_count": 18,
   "metadata": {},
   "outputs": [
    {
     "name": "stdout",
     "output_type": "stream",
     "text": [
      "\n",
      "Proportion Table for marital:\n",
      "has_engaged         0         1\n",
      "marital                        \n",
      "divorced     0.408072  0.591928\n",
      "married      0.412968  0.587032\n",
      "single       0.421176  0.578824\n",
      "\n",
      "Proportion Table for has_mobile_app:\n",
      "has_engaged            0         1\n",
      "has_mobile_app                    \n",
      "0.0             0.417593  0.582407\n",
      "1.0             0.414086  0.585914\n",
      "\n",
      "Proportion Table for dependents:\n",
      "has_engaged         0         1\n",
      "dependents                     \n",
      "0            0.400560  0.599440\n",
      "1            0.405585  0.594415\n",
      "2            0.390385  0.609615\n",
      "3            0.448922  0.551078\n",
      "4            0.421705  0.578295\n",
      "5            0.398734  0.601266\n",
      "\n",
      "Proportion Table for default:\n",
      "has_engaged         0         1\n",
      "default                        \n",
      "0            0.418494  0.581506\n",
      "1            0.396899  0.603101\n",
      "\n",
      "Proportion Table for has_web_account:\n",
      "has_engaged             0         1\n",
      "has_web_account                    \n",
      "0.0              0.429167  0.570833\n",
      "1.0              0.413111  0.586889\n",
      "\n",
      "Proportion Table for is_high_value_user:\n",
      "has_engaged                0         1\n",
      "is_high_value_user                    \n",
      "0                   0.416968  0.583032\n",
      "1                   0.398585  0.601415\n",
      "\n",
      "Proportion Table for job:\n",
      "has_engaged           0         1\n",
      "job                              \n",
      "admin.         0.415584  0.584416\n",
      "blue-collar    0.463483  0.536517\n",
      "entrepreneur   0.426966  0.573034\n",
      "housemaid      0.415541  0.584459\n",
      "management     0.425587  0.574413\n",
      "retired        0.423358  0.576642\n",
      "self-employed  0.389016  0.610984\n",
      "services       0.404321  0.595679\n",
      "student        0.385542  0.614458\n",
      "technician     0.433803  0.566197\n",
      "unemployed     0.361702  0.638298\n",
      "unknown        0.393258  0.606742\n",
      "\n",
      "Proportion Table for is_multichannel_user:\n",
      "has_engaged                  0         1\n",
      "is_multichannel_user                    \n",
      "0                     0.419472  0.580528\n",
      "1                     0.413356  0.586644\n",
      "\n",
      "Proportion Table for num_products_owned:\n",
      "has_engaged                0         1\n",
      "num_products_owned                    \n",
      "0                   0.405797  0.594203\n",
      "1                   0.413442  0.586558\n",
      "2                   0.418033  0.581967\n",
      "3                   0.417373  0.582627\n",
      "4                   0.404015  0.595985\n",
      "5                   0.439189  0.560811\n",
      "\n",
      "Proportion Table for is_recently_active:\n",
      "has_engaged                0         1\n",
      "is_recently_active                    \n",
      "0                   0.404557  0.595443\n",
      "1                   0.425147  0.574853\n",
      "\n",
      "Proportion Table for education:\n",
      "has_engaged         0         1\n",
      "education                      \n",
      "primary      0.433498  0.566502\n",
      "secondary    0.409156  0.590844\n",
      "tertiary     0.422572  0.577428\n",
      "unknown      0.370588  0.629412\n"
     ]
    }
   ],
   "source": [
    "# 3. Proportion tables & bar plots for categorical columns against `has_engaged`\n",
    "tables = eda.get_proportion_table(df, target_col)\n",
    "    \n",
    "barplots = eda.get_barplot(df, target_col)"
   ]
  },
  {
   "cell_type": "code",
   "execution_count": 19,
   "metadata": {},
   "outputs": [
    {
     "name": "stdout",
     "output_type": "stream",
     "text": [
      "\n",
      "Chi-Square Test Results:\n",
      "                  Feature  Chi-Square   P-Value\n",
      "2             dependents    8.525681  0.129546\n",
      "9     is_recently_active    1.670186  0.196234\n",
      "3                default    0.953079  0.328937\n",
      "10             education    2.804337  0.422787\n",
      "5     is_high_value_user    0.454920  0.500008\n",
      "4        has_web_account    0.385096  0.534889\n",
      "6                    job    9.012204  0.620766\n",
      "7   is_multichannel_user    0.099124  0.752884\n",
      "0                marital    0.327602  0.848911\n",
      "1         has_mobile_app    0.026853  0.869835\n",
      "8     num_products_owned    0.856228  0.973309\n"
     ]
    }
   ],
   "source": [
    "# 4. Chi-square test results\n",
    "chi2_results = eda.get_chi_square(df, target_col)\n",
    "print(\"\\nChi-Square Test Results:\\n\", chi2_results)"
   ]
  }
 ],
 "metadata": {
  "kernelspec": {
   "display_name": ".venv",
   "language": "python",
   "name": "python3"
  },
  "language_info": {
   "codemirror_mode": {
    "name": "ipython",
    "version": 3
   },
   "file_extension": ".py",
   "mimetype": "text/x-python",
   "name": "python",
   "nbconvert_exporter": "python",
   "pygments_lexer": "ipython3",
   "version": "3.10.6"
  }
 },
 "nbformat": 4,
 "nbformat_minor": 2
}
