{
 "cells": [
  {
   "cell_type": "markdown",
   "metadata": {},
   "source": [
    "## Campaign-Level EDA\n",
    "This notebook analyses campaign characteristics in relation to customer engagement outcomes, focusing on potential drivers like campaign type, impressions, and click-through rate."
   ]
  },
  {
   "cell_type": "code",
   "execution_count": 3,
   "metadata": {},
   "outputs": [],
   "source": [
    "# Load packages\n",
    "import pandas as pd\n",
    "import eda_functions as eda\n",
    "from load_data import load_campaign_data\n",
    "from feature_engineering import prepare_campaign_features\n",
    "from data_quality import print_null_summary, print_shape_and_preview"
   ]
  },
  {
   "cell_type": "code",
   "execution_count": 4,
   "metadata": {},
   "outputs": [],
   "source": [
    "# Load data\n",
    "engagement_details, campaigns = load_campaign_data()\n",
    "merged = engagement_details.merge(campaigns, on='campaign_id', how='left')"
   ]
  },
  {
   "cell_type": "markdown",
   "metadata": {},
   "source": [
    "### Preliminary EDA"
   ]
  },
  {
   "cell_type": "code",
   "execution_count": 5,
   "metadata": {},
   "outputs": [
    {
     "name": "stdout",
     "output_type": "stream",
     "text": [
      "\n",
      "Null Summary for merged:\n",
      "                    Null Count  Null %\n",
      "duration                13186   82.41\n",
      "clicks                   2657   16.61\n",
      "target_audience             0    0.00\n",
      "impressions                 0    0.00\n",
      "campaign_language           0    0.00\n",
      "roi                         0    0.00\n",
      "acquisition_cost            0    0.00\n",
      "conversion_rate             0    0.00\n",
      "campaign_duration           0    0.00\n",
      "engagement_id               0    0.00\n",
      "customer_id                 0    0.00\n",
      "month                       0    0.00\n",
      "day                         0    0.00\n",
      "has_engaged                 0    0.00\n",
      "channel_used                0    0.00\n",
      "campaign_id                 0    0.00\n",
      "campaign_type               0    0.00\n",
      "\n",
      "merged shape: (16000, 17)\n",
      "\n",
      "merged preview:\n",
      "   engagement_id  customer_id  campaign_id channel_used  has_engaged  day  \\\n",
      "0              1            1           31   Google Ads            0   12   \n",
      "1              2            2           96    Telephone            0   20   \n",
      "2              3            3           81      Website            0    9   \n",
      "3              4         1004           11        Email            1   12   \n",
      "4              5            4            7        Email            0    3   \n",
      "\n",
      "    month  duration               campaign_type target_audience  \\\n",
      "0   March       NaN  Search Engine Optimization           45-54   \n",
      "1    June       NaN               Telemarketing           18-24   \n",
      "2  August       NaN         Display Advertising           35-44   \n",
      "3   March       NaN             Email Marketing           45-54   \n",
      "4   March       NaN             Email Marketing           45-54   \n",
      "\n",
      "   campaign_duration  conversion_rate  acquisition_cost       roi  \\\n",
      "0                 15           0.1282             89.26  3.473648   \n",
      "1                 45           0.1527            118.41  2.283011   \n",
      "2                 15           0.0951             58.31  2.081617   \n",
      "3                 45           0.0469             12.59  1.072701   \n",
      "4                 15           0.0120              2.24  0.809573   \n",
      "\n",
      "  campaign_language  impressions  clicks  \n",
      "0           English        12548  1609.0  \n",
      "1            German         7433     NaN  \n",
      "2            German        22579  2147.0  \n",
      "3           Spanish        34301  1609.0  \n",
      "4            French        34535   414.0  \n"
     ]
    }
   ],
   "source": [
    "# Initial null check\n",
    "print_null_summary(merged, \"merged\")\n",
    "print_shape_and_preview(merged, \"merged\")"
   ]
  },
  {
   "cell_type": "code",
   "execution_count": 6,
   "metadata": {},
   "outputs": [
    {
     "name": "stdout",
     "output_type": "stream",
     "text": [
      "Total missing values in \"clicks\": 2657\n",
      "\n",
      "Value counts of \"channel_used\" where \"clicks\" is missing:\n",
      "channel_used\n",
      "Telephone    1344\n",
      "Landline     1313\n",
      "Name: count, dtype: int64\n",
      "Total missing values in \"clicks\": 2657\n",
      "\n",
      "Value counts of \"campaign_type\" where \"clicks\" is missing:\n",
      "campaign_type\n",
      "Telemarketing    2657\n",
      "Name: count, dtype: int64\n"
     ]
    },
    {
     "data": {
      "text/plain": [
       "campaign_type\n",
       "Telemarketing    2657\n",
       "Name: count, dtype: int64"
      ]
     },
     "execution_count": 6,
     "metadata": {},
     "output_type": "execute_result"
    }
   ],
   "source": [
    "# Missing correlation diagnosis\n",
    "eda.check_missing_correlation(merged, \"clicks\", \"channel_used\")\n",
    "eda.check_missing_correlation(merged, \"clicks\", \"campaign_type\")"
   ]
  },
  {
   "cell_type": "markdown",
   "metadata": {},
   "source": [
    "### Feature Engineering"
   ]
  },
  {
   "cell_type": "code",
   "execution_count": 7,
   "metadata": {},
   "outputs": [],
   "source": [
    "# Feature engineering\n",
    "campaign_grouped = prepare_campaign_features(merged)"
   ]
  },
  {
   "cell_type": "code",
   "execution_count": 8,
   "metadata": {},
   "outputs": [
    {
     "name": "stdout",
     "output_type": "stream",
     "text": [
      "\n",
      "Null Summary for campaign_grouped:\n",
      "                      Null Count  Null %\n",
      "channel_used                  0     0.0\n",
      "impressions                   0     0.0\n",
      "clicks                        0     0.0\n",
      "campaign_duration             0     0.0\n",
      "campaign_language             0     0.0\n",
      "target_audience               0     0.0\n",
      "campaign_type                 0     0.0\n",
      "quarter                       0     0.0\n",
      "engagement_rate               0     0.0\n",
      "click_through_rate            0     0.0\n",
      "impressions_per_day           0     0.0\n",
      "targets_per_day               0     0.0\n",
      "clicks_per_day                0     0.0\n",
      "\n",
      "campaign_grouped shape: (153, 13)\n",
      "\n",
      "campaign_grouped preview:\n",
      "  channel_used  impressions  clicks  campaign_duration campaign_language  \\\n",
      "0        Email      33339.0   523.0               30.0            German   \n",
      "1        Email       8034.0   142.0               15.0           Spanish   \n",
      "2        Email      25833.0   628.0               30.0           English   \n",
      "3        Email      29051.0  1679.0               15.0           English   \n",
      "4        Email      26425.0   727.0               30.0          Mandarin   \n",
      "\n",
      "  target_audience    campaign_type quarter  engagement_rate  \\\n",
      "0           25-34  Email Marketing      Q2         0.237500   \n",
      "1           45-54  Email Marketing      Q4         0.182320   \n",
      "2           45-54  Email Marketing      Q2         0.184713   \n",
      "3           35-44  Email Marketing      Q3         0.172185   \n",
      "4           25-34  Email Marketing      Q3         0.152941   \n",
      "\n",
      "   click_through_rate  impressions_per_day  targets_per_day  clicks_per_day  \n",
      "0            0.015687          1111.300000         5.333333       17.433333  \n",
      "1            0.017675           535.600000        12.066667        9.466667  \n",
      "2            0.024310           861.100000         5.233333       20.933333  \n",
      "3            0.057795          1936.733333        10.066667      111.933333  \n",
      "4            0.027512           880.833333         5.666667       24.233333  \n",
      "\n",
      "Summary statistics:\n",
      "        channel_used   impressions       clicks  campaign_duration  \\\n",
      "count           153    153.000000   153.000000         153.000000   \n",
      "unique            7           NaN          NaN                NaN   \n",
      "top       Instagram           NaN          NaN                NaN   \n",
      "freq             38           NaN          NaN                NaN   \n",
      "mean            NaN  21653.058824  1757.862745          38.725490   \n",
      "std             NaN  13830.397384  2064.811910          20.475671   \n",
      "min             NaN   1031.000000     0.000000          15.000000   \n",
      "25%             NaN   9837.000000   224.000000          15.000000   \n",
      "50%             NaN  19137.000000  1043.000000          30.000000   \n",
      "75%             NaN  33947.000000  2361.000000          60.000000   \n",
      "max             NaN  49674.000000  9882.000000          75.000000   \n",
      "\n",
      "       campaign_language target_audience        campaign_type quarter  \\\n",
      "count                153             153                  153     153   \n",
      "unique                 5               5                    5       4   \n",
      "top               German           25-34  Affiliate Marketing      Q1   \n",
      "freq                  48              50                   48      46   \n",
      "mean                 NaN             NaN                  NaN     NaN   \n",
      "std                  NaN             NaN                  NaN     NaN   \n",
      "min                  NaN             NaN                  NaN     NaN   \n",
      "25%                  NaN             NaN                  NaN     NaN   \n",
      "50%                  NaN             NaN                  NaN     NaN   \n",
      "75%                  NaN             NaN                  NaN     NaN   \n",
      "max                  NaN             NaN                  NaN     NaN   \n",
      "\n",
      "        engagement_rate  click_through_rate  impressions_per_day  \\\n",
      "count        153.000000          153.000000           153.000000   \n",
      "unique              NaN                 NaN                  NaN   \n",
      "top                 NaN                 NaN                  NaN   \n",
      "freq                NaN                 NaN                  NaN   \n",
      "mean           0.239039            0.079363           789.311140   \n",
      "std            0.151609            0.062540           702.111870   \n",
      "min            0.000000            0.000000            13.746667   \n",
      "25%            0.100000            0.022144           222.150000   \n",
      "50%            0.240000            0.067822           569.280000   \n",
      "75%            0.375000            0.137892          1111.300000   \n",
      "max            0.531915            0.199959          3041.133333   \n",
      "\n",
      "        targets_per_day  clicks_per_day  \n",
      "count        153.000000      153.000000  \n",
      "unique              NaN             NaN  \n",
      "top                 NaN             NaN  \n",
      "freq                NaN             NaN  \n",
      "mean           3.701583       65.139310  \n",
      "std            2.681547       87.546881  \n",
      "min            0.983333        0.000000  \n",
      "25%            1.755556        5.600000  \n",
      "50%            2.700000       29.850000  \n",
      "75%            5.066667       93.033333  \n",
      "max           12.466667      472.266667  \n"
     ]
    }
   ],
   "source": [
    "# Summary statistics\n",
    "print_null_summary(campaign_grouped, \"campaign_grouped\")\n",
    "print_shape_and_preview(campaign_grouped, \"campaign_grouped\")\n",
    "print(\"\\nSummary statistics:\\n\", campaign_grouped.describe(include='all'))"
   ]
  },
  {
   "cell_type": "code",
   "execution_count": 9,
   "metadata": {},
   "outputs": [],
   "source": [
    "# Plot distributions of campaign_grouped's numeric features\n",
    "eda.plot_numeric_distributions(df=campaign_grouped, prefix=\"campaign\")"
   ]
  },
  {
   "cell_type": "code",
   "execution_count": 10,
   "metadata": {},
   "outputs": [
    {
     "name": "stdout",
     "output_type": "stream",
     "text": [
      "\n",
      "Value counts for target_audience:\n",
      "target_audience\n",
      "25-34    50\n",
      "45-54    45\n",
      "35-44    35\n",
      "55+      13\n",
      "18-24    10\n",
      "Name: count, dtype: int64\n",
      "\n",
      "Value counts for campaign_language:\n",
      "campaign_language\n",
      "German      48\n",
      "English     29\n",
      "Mandarin    29\n",
      "Spanish     28\n",
      "French      19\n",
      "Name: count, dtype: int64\n",
      "\n",
      "Value counts for quarter:\n",
      "quarter\n",
      "Q1    46\n",
      "Q3    37\n",
      "Q2    36\n",
      "Q4    34\n",
      "Name: count, dtype: int64\n",
      "\n",
      "Value counts for channel_used:\n",
      "channel_used\n",
      "Instagram     38\n",
      "TikTok        38\n",
      "Email         18\n",
      "Landline      16\n",
      "Telephone     16\n",
      "Google Ads    14\n",
      "Website       13\n",
      "Name: count, dtype: int64\n",
      "\n",
      "Value counts for campaign_type:\n",
      "campaign_type\n",
      "Affiliate Marketing           48\n",
      "Display Advertising           46\n",
      "Telemarketing                 32\n",
      "Email Marketing               18\n",
      "Search Engine Optimization     9\n",
      "Name: count, dtype: int64\n",
      "\n",
      "Value counts for campaign_duration:\n",
      "campaign_duration\n",
      "15.0    46\n",
      "30.0    33\n",
      "45.0    29\n",
      "60.0    29\n",
      "75.0    16\n",
      "Name: count, dtype: int64\n"
     ]
    }
   ],
   "source": [
    "# Categorical value counts and numeric exclusions\n",
    "categorical_cols = eda.get_categorical_columns(campaign_grouped)\n",
    "for col in categorical_cols:\n",
    "    print(f\"\\nValue counts for {col}:\\n{campaign_grouped[col].value_counts()}\")"
   ]
  },
  {
   "cell_type": "markdown",
   "metadata": {},
   "source": [
    "### Relationship Analysis"
   ]
  },
  {
   "cell_type": "code",
   "execution_count": 11,
   "metadata": {},
   "outputs": [],
   "source": [
    "# 1. Violin plots for numeric features by engagement rate bin\n",
    "eda.get_violin_plots_by_engagement_bin(campaign_grouped, target_col=\"engagement_rate\")"
   ]
  },
  {
   "cell_type": "code",
   "execution_count": 12,
   "metadata": {},
   "outputs": [
    {
     "name": "stdout",
     "output_type": "stream",
     "text": [
      "\n",
      "Correlation Matrix:\n",
      "                      click_through_rate    clicks  clicks_per_day  \\\n",
      "click_through_rate             1.000000  0.717793        0.632650   \n",
      "clicks                         0.717793  1.000000        0.794442   \n",
      "clicks_per_day                 0.632650  0.794442        1.000000   \n",
      "engagement_rate                0.641354  0.341954        0.337416   \n",
      "impressions                    0.045859  0.563502        0.418849   \n",
      "impressions_per_day            0.057241  0.365766        0.626020   \n",
      "targets_per_day               -0.014185  0.054462        0.392282   \n",
      "\n",
      "                     engagement_rate  impressions  impressions_per_day  \\\n",
      "click_through_rate          0.641354     0.045859             0.057241   \n",
      "clicks                      0.341954     0.563502             0.365766   \n",
      "clicks_per_day              0.337416     0.418849             0.626020   \n",
      "engagement_rate             1.000000    -0.096964            -0.003981   \n",
      "impressions                -0.096964     1.000000             0.645992   \n",
      "impressions_per_day        -0.003981     0.645992             1.000000   \n",
      "targets_per_day            -0.106209     0.127760             0.633420   \n",
      "\n",
      "                     targets_per_day  \n",
      "click_through_rate         -0.014185  \n",
      "clicks                      0.054462  \n",
      "clicks_per_day              0.392282  \n",
      "engagement_rate            -0.106209  \n",
      "impressions                 0.127760  \n",
      "impressions_per_day         0.633420  \n",
      "targets_per_day             1.000000  \n"
     ]
    }
   ],
   "source": [
    "# 2. Correlation matrix\n",
    "numeric_cols = eda.get_numerical_columns(campaign_grouped)\n",
    "print(\"\\nCorrelation Matrix:\\n\", campaign_grouped[numeric_cols].corr())"
   ]
  },
  {
   "cell_type": "code",
   "execution_count": 13,
   "metadata": {},
   "outputs": [],
   "source": [
    "# 3. Bar plots for engagement rate by categorical features\n",
    "eda.get_barplot(campaign_grouped, target_col=\"engagement_rate\")"
   ]
  },
  {
   "cell_type": "code",
   "execution_count": 14,
   "metadata": {},
   "outputs": [
    {
     "name": "stdout",
     "output_type": "stream",
     "text": [
      "\n",
      "Chi-Square Test Results:\n",
      "              Feature  Chi-Square       P-Value\n",
      "3       channel_used  196.566802  1.666145e-35\n",
      "4      campaign_type  138.255435  5.470147e-26\n",
      "5  campaign_duration   13.966556  8.264128e-02\n",
      "0    target_audience   12.138168  1.451448e-01\n",
      "1  campaign_language    8.357791  3.993229e-01\n",
      "2            quarter    4.410290  6.213345e-01\n"
     ]
    }
   ],
   "source": [
    "# 4. Chi-square test for categorical features vs. binned engagement rate\n",
    "campaign_grouped[\"engagement_bin\"] = pd.qcut(campaign_grouped[\"engagement_rate\"], q=3, labels=[\"Low\", \"Medium\", \"High\"])\n",
    "chi2_results = eda.get_chi_square(campaign_grouped, \"engagement_bin\")\n",
    "print(\"\\nChi-Square Test Results:\\n\", chi2_results)"
   ]
  }
 ],
 "metadata": {
  "kernelspec": {
   "display_name": ".venv",
   "language": "python",
   "name": "python3"
  },
  "language_info": {
   "codemirror_mode": {
    "name": "ipython",
    "version": 3
   },
   "file_extension": ".py",
   "mimetype": "text/x-python",
   "name": "python",
   "nbconvert_exporter": "python",
   "pygments_lexer": "ipython3",
   "version": "3.10.6"
  }
 },
 "nbformat": 4,
 "nbformat_minor": 2
}
