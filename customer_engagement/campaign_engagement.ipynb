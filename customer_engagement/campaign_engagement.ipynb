{
 "cells": [
  {
   "cell_type": "markdown",
   "metadata": {},
   "source": [
    "## Campaign-Level EDA\n",
    "This notebook analyses campaign characteristics in relation to customer engagement outcomes, focusing on potential drivers like campaign type, impressions, and click-through rate."
   ]
  },
  {
   "cell_type": "code",
   "execution_count": null,
   "metadata": {},
   "outputs": [],
   "source": [
    "# Load packages\n",
    "import pandas as pd\n",
    "import eda_functions as eda\n",
    "from load_data import load_campaign_data\n",
    "from feature_engineering import prepare_campaign_features\n",
    "from data_quality import print_null_summary, print_shape_and_preview"
   ]
  },
  {
   "cell_type": "code",
   "execution_count": null,
   "metadata": {},
   "outputs": [],
   "source": [
    "# Load data\n",
    "engagement_details, campaigns = load_campaign_data()\n",
    "merged = engagement_details.merge(campaigns, on='campaign_id', how='left')"
   ]
  },
  {
   "cell_type": "markdown",
   "metadata": {},
   "source": [
    "### Preliminary EDA"
   ]
  },
  {
   "cell_type": "code",
   "execution_count": null,
   "metadata": {},
   "outputs": [],
   "source": [
    "# Initial null check\n",
    "print_null_summary(merged, \"merged\")\n",
    "print_shape_and_preview(merged, \"merged\")"
   ]
  },
  {
   "cell_type": "code",
   "execution_count": null,
   "metadata": {},
   "outputs": [],
   "source": [
    "# Missing correlation diagnosis\n",
    "eda.check_missing_correlation(merged, \"clicks\", \"channel_used\")\n",
    "eda.check_missing_correlation(merged, \"clicks\", \"campaign_type\")"
   ]
  },
  {
   "cell_type": "markdown",
   "metadata": {},
   "source": [
    "### Feature Engineering"
   ]
  },
  {
   "cell_type": "code",
   "execution_count": null,
   "metadata": {},
   "outputs": [],
   "source": [
    "# Feature engineering\n",
    "campaign_grouped = prepare_campaign_features(merged)"
   ]
  },
  {
   "cell_type": "code",
   "execution_count": null,
   "metadata": {},
   "outputs": [],
   "source": [
    "# Summary statistics\n",
    "print_null_summary(campaign_grouped, \"campaign_grouped\")\n",
    "print_shape_and_preview(campaign_grouped, \"campaign_grouped\")\n",
    "print(\"\\nSummary statistics:\\n\", campaign_grouped.describe(include='all'))"
   ]
  },
  {
   "cell_type": "code",
   "execution_count": null,
   "metadata": {},
   "outputs": [],
   "source": [
    "# Plot distributions of campaign_grouped's numeric features\n",
    "eda.plot_numeric_distributions(df=campaign_grouped, prefix=\"campaign\")"
   ]
  },
  {
   "cell_type": "code",
   "execution_count": null,
   "metadata": {},
   "outputs": [],
   "source": [
    "# Categorical value counts and numeric exclusions\n",
    "categorical_cols = eda.get_categorical_columns(campaign_grouped)\n",
    "for col in categorical_cols:\n",
    "    print(f\"\\nValue counts for {col}:\\n{campaign_grouped[col].value_counts()}\")"
   ]
  },
  {
   "cell_type": "markdown",
   "metadata": {},
   "source": [
    "### Relationship Analysis"
   ]
  },
  {
   "cell_type": "code",
   "execution_count": null,
   "metadata": {},
   "outputs": [],
   "source": [
    "# 1. Violin plots for numeric features by engagement rate bin\n",
    "eda.get_violin_plots_by_engagement_bin(campaign_grouped, target_col=\"engagement_rate\")"
   ]
  },
  {
   "cell_type": "code",
   "execution_count": null,
   "metadata": {},
   "outputs": [],
   "source": [
    "# 2. Correlation matrix\n",
    "numeric_cols = eda.get_numerical_columns(campaign_grouped)\n",
    "print(\"\\nCorrelation Matrix:\\n\", campaign_grouped[numeric_cols].corr())"
   ]
  },
  {
   "cell_type": "code",
   "execution_count": null,
   "metadata": {},
   "outputs": [],
   "source": [
    "# 3. Bar plots for engagement rate by categorical features\n",
    "eda.get_barplot(campaign_grouped, target_col=\"engagement_rate\")"
   ]
  },
  {
   "cell_type": "code",
   "execution_count": null,
   "metadata": {},
   "outputs": [],
   "source": [
    "# 4. Chi-square test for categorical features vs. binned engagement rate\n",
    "campaign_grouped[\"engagement_bin\"] = pd.qcut(campaign_grouped[\"engagement_rate\"], q=3, labels=[\"Low\", \"Medium\", \"High\"])\n",
    "chi2_results = eda.get_chi_square(campaign_grouped, \"engagement_bin\")\n",
    "print(\"\\nChi-Square Test Results:\\n\", chi2_results)"
   ]
  }
 ],
 "metadata": {
  "kernelspec": {
   "display_name": ".venv",
   "language": "python",
   "name": "python3"
  },
  "language_info": {
   "codemirror_mode": {
    "name": "ipython",
    "version": 3
   },
   "file_extension": ".py",
   "mimetype": "text/x-python",
   "name": "python",
   "nbconvert_exporter": "python",
   "pygments_lexer": "ipython3",
   "version": "3.10.6"
  }
 },
 "nbformat": 4,
 "nbformat_minor": 2
}
