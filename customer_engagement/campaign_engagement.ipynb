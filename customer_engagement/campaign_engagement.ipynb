{
 "cells": [
  {
   "cell_type": "markdown",
   "metadata": {},
   "source": [
    "## Campaign-Level EDA\n",
    "This notebook analyses campaign characteristics in relation to customer engagement outcomes, focusing on potential drivers like campaign type, impressions, and click-through rate."
   ]
  },
  {
   "cell_type": "code",
   "execution_count": null,
   "metadata": {},
   "outputs": [],
   "source": [
    "# Load packages\n",
    "import pandas as pd\n",
    "import matplotlib.pyplot as plt\n",
    "import seaborn as sns\n",
    "import importlib\n",
    "import eda_functions\n",
    "importlib.reload(eda_functions)\n",
    "import eda_functions as eda"
   ]
  },
  {
   "cell_type": "code",
   "execution_count": null,
   "metadata": {},
   "outputs": [],
   "source": [
    "# Load datasets\n",
    "engagement_details = pd.read_csv(\"../data/processed/engagement_details.csv\")\n",
    "campaigns = pd.read_csv(\"../data/processed/campaigns.csv\")"
   ]
  },
  {
   "cell_type": "code",
   "execution_count": null,
   "metadata": {},
   "outputs": [],
   "source": [
    "# Merge and check nulls\n",
    "merged = engagement_details.merge(campaigns, on='campaign_id', how='left')\n",
    "\n",
    "print(f\"Null counts per column: \\n {merged.isnull().sum()}\")\n",
    "print(f\"\\nShape of digital_usage: {merged.shape}\")\n",
    "print(f\"\\nFirst few rows of digital_usage:\\n{merged.head()}\")"
   ]
  },
  {
   "cell_type": "code",
   "execution_count": null,
   "metadata": {},
   "outputs": [],
   "source": [
    "clicks_missing_by_channel = eda.check_missing_correlation(merged, \"clicks\", \"channel_used\")\n",
    "clicks_missing_by_type = eda.check_missing_correlation(merged, \"clicks\", \"campaign_type\")"
   ]
  },
  {
   "cell_type": "code",
   "execution_count": null,
   "metadata": {},
   "outputs": [],
   "source": [
    "# Drop duration and impute missing clicks with 0\n",
    "merged = merged.drop(columns=\"duration\")\n",
    "merged[\"clicks\"] = merged[\"clicks\"].fillna(0)"
   ]
  },
  {
   "cell_type": "code",
   "execution_count": null,
   "metadata": {},
   "outputs": [],
   "source": [
    "# Feature engineering\n",
    "\n",
    "# Map month to quarter\n",
    "month_to_quarter = {\n",
    "    \"January\": \"Q1\", \"February\": \"Q1\", \"March\": \"Q1\",\n",
    "    \"April\": \"Q2\", \"May\": \"Q2\", \"June\": \"Q2\",\n",
    "    \"July\": \"Q3\", \"August\": \"Q3\", \"September\": \"Q3\",\n",
    "    \"October\": \"Q4\", \"November\": \"Q4\", \"December\": \"Q4\"\n",
    "}\n",
    "merged[\"quarter\"] = merged[\"month\"].map(month_to_quarter)\n",
    "\n",
    "# Aggregate to campaign_id level\n",
    "campaign_grouped = (\n",
    "    merged.groupby([\"campaign_id\", \"channel_used\"]).agg(\n",
    "        num_targeted=(\"engagement_id\", \"count\"),\n",
    "        num_engaged=(\"has_engaged\", \"sum\"),\n",
    "        impressions=(\"impressions\", \"mean\"),\n",
    "        clicks=(\"clicks\", \"mean\"),\n",
    "        campaign_duration=(\"campaign_duration\", \"mean\"),\n",
    "        campaign_language=(\"campaign_language\", \"first\"),\n",
    "        target_audience=(\"target_audience\", \"first\"),\n",
    "        campaign_type=(\"campaign_type\", \"first\"),\n",
    "        quarter=(\"quarter\", \"first\")\n",
    "    ).reset_index()\n",
    ")\n",
    "campaign_grouped = campaign_grouped.drop(columns=\"campaign_id\")\n",
    "\n",
    "campaign_grouped[\"engagement_rate\"] = ( campaign_grouped[\"num_engaged\"] / campaign_grouped[\"num_targeted\"])\n",
    "campaign_grouped[\"click_through_rate\"] = ( campaign_grouped[\"clicks\"] / campaign_grouped[\"impressions\"])\n",
    "campaign_grouped[\"impressions_per_day\"] = ( campaign_grouped[\"impressions\"] / campaign_grouped[\"campaign_duration\"])\n",
    "campaign_grouped[\"targets_per_day\"] = ( campaign_grouped[\"num_targeted\"] / campaign_grouped[\"campaign_duration\"])\n",
    "campaign_grouped[\"clicks_per_day\"] = ( campaign_grouped[\"clicks\"] / campaign_grouped[\"campaign_duration\"])"
   ]
  },
  {
   "cell_type": "code",
   "execution_count": null,
   "metadata": {},
   "outputs": [],
   "source": [
    "# Summary statistics\n",
    "campaign_grouped.describe(include='all')"
   ]
  },
  {
   "cell_type": "code",
   "execution_count": null,
   "metadata": {},
   "outputs": [],
   "source": [
    "# Distribution of numeric features\n",
    "numeric_cols = [\"engagement_rate\", \"click_through_rate\", \"campaign_duration\", \"impressions\", \n",
    "                \"impressions_per_day\", \"targets_per_day\", \"clicks\", \"clicks_per_day\"]\n",
    "\n",
    "for col in numeric_cols:\n",
    "    plt.figure(figsize=(6, 4))\n",
    "    sns.histplot(campaign_grouped[col], bins=20, kde=True)\n",
    "    plt.title(f\"Distribution of {col}\")\n",
    "    plt.tight_layout()\n",
    "    plt.show()"
   ]
  },
  {
   "cell_type": "code",
   "execution_count": null,
   "metadata": {},
   "outputs": [],
   "source": [
    "# Value counts for categorical features\n",
    "categorical_cols = [\"campaign_language\", \"target_audience\", \"channel_used\", \"campaign_type\", \"quarter\"]\n",
    "for col in categorical_cols:\n",
    "    print(f\"\\nValue counts for {col}:\")\n",
    "    print(campaign_grouped[col].value_counts())"
   ]
  },
  {
   "cell_type": "code",
   "execution_count": null,
   "metadata": {},
   "outputs": [],
   "source": [
    "# 1. Violin plots for numeric features by engagement rate bin\n",
    "campaign_grouped[\"engagement_bin\"] = pd.qcut(campaign_grouped[\"engagement_rate\"], q=3, labels=[\"Low\", \"Medium\", \"High\"])\n",
    "for col in numeric_cols[1:]:\n",
    "    plt.figure(figsize=(7, 4))\n",
    "    sns.violinplot(data=campaign_grouped, x=\"engagement_bin\", y=col, inner=\"quartile\")\n",
    "    plt.title(f\"{col} by Engagement Rate Bin\")\n",
    "    plt.xlabel(\"Engagement Rate Category\")\n",
    "    plt.ylabel(col)\n",
    "    plt.tight_layout()\n",
    "    plt.show()\n",
    "campaign_grouped.drop(columns=\"engagement_bin\", inplace=True)"
   ]
  },
  {
   "cell_type": "code",
   "execution_count": null,
   "metadata": {},
   "outputs": [],
   "source": [
    "# 2. Correlation matrix\n",
    "correlation_matrix = campaign_grouped[numeric_cols].corr()\n",
    "correlation_matrix"
   ]
  },
  {
   "cell_type": "code",
   "execution_count": null,
   "metadata": {},
   "outputs": [],
   "source": [
    "# 3. Bar plots for engagement rate by categorical features\n",
    "for col in categorical_cols:\n",
    "    eda.get_barplot(campaign_grouped, cat_col=col, target_col=\"engagement_rate\")"
   ]
  },
  {
   "cell_type": "code",
   "execution_count": null,
   "metadata": {},
   "outputs": [],
   "source": [
    "# 4. Chi-square test for categorical features vs. binned engagement rate\n",
    "campaign_grouped[\"engagement_bin\"] = pd.qcut(campaign_grouped[\"engagement_rate\"], q=3, labels=[\"Low\", \"Medium\", \"High\"])\n",
    "chi2_results = eda.get_chi_square(campaign_grouped, categorical_cols, \"engagement_bin\")\n",
    "\n",
    "print(\"\\nChi-Square Test Results:\\n\", chi2_results)"
   ]
  }
 ],
 "metadata": {
  "kernelspec": {
   "display_name": ".venv",
   "language": "python",
   "name": "python3"
  },
  "language_info": {
   "codemirror_mode": {
    "name": "ipython",
    "version": 3
   },
   "file_extension": ".py",
   "mimetype": "text/x-python",
   "name": "python",
   "nbconvert_exporter": "python",
   "pygments_lexer": "ipython3",
   "version": "3.10.6"
  }
 },
 "nbformat": 4,
 "nbformat_minor": 2
}
