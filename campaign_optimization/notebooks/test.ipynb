{
 "cells": [
  {
   "cell_type": "code",
   "execution_count": null,
   "metadata": {},
   "outputs": [
    {
     "name": "stdout",
     "output_type": "stream",
     "text": [
      "c:\\Users\\roder\\OneDrive\\Desktop\\DSA3101\\dsa3101-bank-marketing-group-1\\campaign_optimization\\notebooks\n",
      "['Google Ads' 'Telephone' 'Website' 'Email' 'TikTok' 'Instagram'\n",
      " 'Landline']\n",
      "   engagement_id  customer_id  campaign_id channel_used  has_engaged  day  \\\n",
      "0              1            1           31   Google Ads            0   12   \n",
      "1              2            2           96    Telephone            0   20   \n",
      "2              3            3           81      Website            0    9   \n",
      "3              4         1004           11        Email            1   12   \n",
      "4              5            4            7        Email            0    3   \n",
      "\n",
      "    month  duration               campaign_type target_audience  \\\n",
      "0   March       NaN  Search Engine Optimization           35-44   \n",
      "1    June       NaN               Telemarketing           35-44   \n",
      "2  August       NaN         Display Advertising           45-54   \n",
      "3   March       NaN             Email Marketing           45-54   \n",
      "4   March       NaN             Email Marketing           25-34   \n",
      "\n",
      "   campaign_duration  conversion_rate  acquisition_cost   roi  \\\n",
      "0                 15           0.1331          21571.51  2.37   \n",
      "1                 45           0.1408           8502.84  2.89   \n",
      "2                 15           0.0988           3225.48  4.90   \n",
      "3                 45           0.0372           7551.57  3.82   \n",
      "4                 15           0.0510           3676.76  3.20   \n",
      "\n",
      "  campaign_language  impressions  clicks  \n",
      "0           Spanish        27791  3699.0  \n",
      "1           Spanish        12259     NaN  \n",
      "2           Spanish        11045  1091.0  \n",
      "3            German        47397  1763.0  \n",
      "4            German        43983  2243.0  \n"
     ]
    }
   ],
   "source": [
    "import pandas as pd\n",
    "import os\n",
    "print(os.getcwd())\n",
    "# Load Relevant Data\n",
    "customers = pd.read_csv(\"../../data/processed/customer.csv\")\n",
    "engagements = pd.read_csv(\"../../data/processed/engagement_details.csv\")\n",
    "campaigns = pd.read_csv(\"../../data/processed/campaigns.csv\")\n",
    "\n",
    "customers[\"income\"].\n",
    "# Merge Engagements with Campaigns\n",
    "engagements = engagements.merge(campaigns, on=\"campaign_id\")\n",
    "\n",
    "print(engagements[\"channel_used\"].unique())\n",
    "print(engagements.head())"
   ]
  }
 ],
 "metadata": {
  "kernelspec": {
   "display_name": ".venv",
   "language": "python",
   "name": "python3"
  },
  "language_info": {
   "codemirror_mode": {
    "name": "ipython",
    "version": 3
   },
   "file_extension": ".py",
   "mimetype": "text/x-python",
   "name": "python",
   "nbconvert_exporter": "python",
   "pygments_lexer": "ipython3",
   "version": "3.10.6"
  }
 },
 "nbformat": 4,
 "nbformat_minor": 2
}
