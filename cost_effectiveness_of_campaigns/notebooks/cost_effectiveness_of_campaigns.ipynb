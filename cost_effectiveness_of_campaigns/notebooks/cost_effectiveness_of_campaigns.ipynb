{
 "cells": [
  {
   "cell_type": "code",
   "execution_count": null,
   "metadata": {},
   "outputs": [
    {
     "name": "stdout",
     "output_type": "stream",
     "text": [
      "Requirement already satisfied: xgboost in /opt/anaconda3/lib/python3.12/site-packages (3.0.0)\n",
      "Requirement already satisfied: numpy in /opt/anaconda3/lib/python3.12/site-packages (from xgboost) (1.26.4)\n",
      "Requirement already satisfied: scipy in /opt/anaconda3/lib/python3.12/site-packages (from xgboost) (1.13.1)\n"
     ]
    }
   ],
   "source": [
    "import pandas as pd\n",
    "import numpy as np\n",
    "from sklearn.model_selection import train_test_split\n",
    "from sklearn.preprocessing import LabelEncoder, StandardScaler\n",
    "from sklearn.ensemble import RandomForestClassifier\n",
    "from sklearn.metrics import classification_report\n",
    "from sklearn.model_selection import GridSearchCV\n",
    "\n",
    "import sys\n",
    "!{sys.executable} -m pip install xgboost\n",
    "import xgboost as xgb"
   ]
  },
  {
   "cell_type": "markdown",
   "metadata": {},
   "source": [
    "## Rationale for dataset selection\n",
    "\n",
    "Datasets \"Campaign\", \"EngagementDetail\" and \"DigitalUsage\" are directly relevant to the objective of designing a cost-benefit analysis model for assessing the impact of personalised marketing strategies.\n",
    "\n",
    "The \"Campaign\" dataset provides core business levels such as campaign type, target audience, cost of acquisition, impressions and ROI, which are needed to evaluate the efficiency and financial impact of each marketing effort. It enables us to assess whether more personalised campaigns lead to better returns on investment, or if high personalisation inflates costs disproprotionately.\n",
    "\n",
    "The \"EngagementDetail\" dataset is a form of measuring campaign effectiveness at the individual level, including records of whether and how customers interacted with campaigns. By linking campaign data to individual engagement outcomes, we can identify which types of campaigns perform better.\n",
    "\n",
    "The \"DigitalUsage\" dataset gives further insight into customers. It reveals user preferences for mobile and web banking, as well as their activity patterns. \n",
    "\n",
    "Taken together, the three datasets form a comprehensive analytical foundation to evaluate how tailoring marketing to customer behaviour influences both cost and performance, which would provide us with actionable insights."
   ]
  },
  {
   "cell_type": "code",
   "execution_count": 28,
   "metadata": {},
   "outputs": [],
   "source": [
    "# Load the datasets\n",
    "campaigns = pd.read_csv('../../data/processed/campaigns.csv')\n",
    "engagements = pd.read_csv('../../data/processed/engagement_details.csv')\n",
    "usage = pd.read_csv('../../data/processed/digital_usage.csv')"
   ]
  },
  {
   "cell_type": "markdown",
   "metadata": {},
   "source": [
    "## Merging datasets\n",
    "\n",
    "To enable a holistic analysis, the datasets are merged using customer_id and campaign_id as key identifiers. This integrated datasets allows us to link campaign characteristics with individual-level engagement outcomes and digital behaviour patterns."
   ]
  },
  {
   "cell_type": "code",
   "execution_count": 29,
   "metadata": {},
   "outputs": [],
   "source": [
    "# Merge datasets\n",
    "df = pd.merge(campaigns, engagements, on='campaign_id', how='inner')\n",
    "df = pd.merge(df, usage, on='customer_id', how='inner')"
   ]
  },
  {
   "cell_type": "markdown",
   "metadata": {},
   "source": [
    "## Dataset summary\n",
    "\n",
    "To gain an initial understanding of the merged datasets, df.info() is used. This allows for inspection of column names and datatypes, and non-null counts to identify missing values."
   ]
  },
  {
   "cell_type": "code",
   "execution_count": 30,
   "metadata": {},
   "outputs": [
    {
     "name": "stdout",
     "output_type": "stream",
     "text": [
      "<class 'pandas.core.frame.DataFrame'>\n",
      "RangeIndex: 15992 entries, 0 to 15991\n",
      "Data columns (total 25 columns):\n",
      " #   Column             Non-Null Count  Dtype  \n",
      "---  ------             --------------  -----  \n",
      " 0   campaign_id        15992 non-null  int64  \n",
      " 1   campaign_type      15992 non-null  object \n",
      " 2   target_audience    15992 non-null  object \n",
      " 3   campaign_duration  15992 non-null  int64  \n",
      " 4   conversion_rate    15992 non-null  float64\n",
      " 5   acquisition_cost   15992 non-null  float64\n",
      " 6   roi                15992 non-null  float64\n",
      " 7   campaign_language  15992 non-null  object \n",
      " 8   impressions        15992 non-null  int64  \n",
      " 9   clicks             13409 non-null  float64\n",
      " 10  engagement_id      15992 non-null  int64  \n",
      " 11  customer_id        15992 non-null  int64  \n",
      " 12  channel_used       15992 non-null  object \n",
      " 13  has_engaged        15992 non-null  int64  \n",
      " 14  day                15992 non-null  int64  \n",
      " 15  month              15992 non-null  object \n",
      " 16  duration           2907 non-null   float64\n",
      " 17  has_mobile_app     15992 non-null  int64  \n",
      " 18  has_web_account    15992 non-null  int64  \n",
      " 19  mobile_logins_wk   11614 non-null  float64\n",
      " 20  web_logins_wk      14026 non-null  float64\n",
      " 21  avg_mobile_time    11614 non-null  float64\n",
      " 22  avg_web_time       14026 non-null  float64\n",
      " 23  last_mobile_use    11614 non-null  object \n",
      " 24  last_web_use       14026 non-null  object \n",
      "dtypes: float64(9), int64(9), object(7)\n",
      "memory usage: 3.1+ MB\n",
      "None\n"
     ]
    }
   ],
   "source": [
    "# Display summary information about the DataFrame\n",
    "print(df.info())"
   ]
  },
  {
   "cell_type": "code",
   "execution_count": 31,
   "metadata": {},
   "outputs": [
    {
     "name": "stdout",
     "output_type": "stream",
     "text": [
      "campaign_id              0\n",
      "campaign_type            0\n",
      "target_audience          0\n",
      "campaign_duration        0\n",
      "conversion_rate          0\n",
      "acquisition_cost         0\n",
      "roi                      0\n",
      "campaign_language        0\n",
      "impressions              0\n",
      "clicks                2583\n",
      "engagement_id            0\n",
      "customer_id              0\n",
      "channel_used             0\n",
      "has_engaged              0\n",
      "day                      0\n",
      "month                    0\n",
      "duration             13085\n",
      "has_mobile_app           0\n",
      "has_web_account          0\n",
      "mobile_logins_wk      4378\n",
      "web_logins_wk         1966\n",
      "avg_mobile_time       4378\n",
      "avg_web_time          1966\n",
      "last_mobile_use       4378\n",
      "last_web_use          1966\n",
      "dtype: int64\n"
     ]
    }
   ],
   "source": [
    "# Checking for missing values\n",
    "print(df.isnull().sum())"
   ]
  },
  {
   "cell_type": "markdown",
   "metadata": {},
   "source": []
  },
  {
   "cell_type": "markdown",
   "metadata": {},
   "source": [
    "## Dropping column: duration\n",
    "\n",
    "The 'duration' column from the \"EngagementDetail\" dataset was dropped due to a high proportion of null values, which limited its analytical usefulness. The null values are a result of email marketing campagins where duration could not be tracked. Retaining such sparse features can introduct noise without adding meaningful insight."
   ]
  },
  {
   "cell_type": "code",
   "execution_count": 32,
   "metadata": {},
   "outputs": [],
   "source": [
    "# Drop 'duration' column as it is mostly null\n",
    "df = df.drop(columns=['duration'])"
   ]
  },
  {
   "cell_type": "markdown",
   "metadata": {},
   "source": [
    "## Encoding categorical features\n",
    "\n",
    "To prepare the data for analysis, LabelEncoder is used to encode the categorical variables into numerical values. Encoding these categorical features allows us to incorporate them into models while preserving their informational content."
   ]
  },
  {
   "cell_type": "code",
   "execution_count": 33,
   "metadata": {},
   "outputs": [],
   "source": [
    "# Encoding categorical features using LabelEncoder\n",
    "le_campaign_type = LabelEncoder()\n",
    "df['campaign_type'] = le_campaign_type.fit_transform(df['campaign_type'])\n",
    "\n",
    "le_target_audience = LabelEncoder()\n",
    "df['target_audience'] = le_target_audience.fit_transform(df['target_audience'])\n",
    "\n",
    "le_campaign_language = LabelEncoder()\n",
    "df['campaign_language'] = le_campaign_language.fit_transform(df['campaign_language'])\n",
    "\n",
    "le_channel_used = LabelEncoder()\n",
    "df['channel_used'] = le_channel_used.fit_transform(df['channel_used'])\n",
    "\n",
    "df['month'] = pd.to_datetime(df['month'], format='%B').dt.month"
   ]
  },
  {
   "cell_type": "markdown",
   "metadata": {},
   "source": [
    "## Feature selection\n",
    "\n",
    "For the analysis, I selected the following relevant features as input variables:\n",
    "- campaign_type: Type of marketing campaign\n",
    "- campaign_duration: Duration of the campaign\n",
    "- avg_mobile_time and avg_web_time: Average time spent by users on mobile and web platforms respectively.\n",
    "- mobile_logins_wk and web_logins_wk: Number of weekly logins to mobile and web banking platforms.\n",
    "- has_mobile_app and has_web_account: Indicators of whether the customer uses the mobile app and web banking.\n",
    "- channel_used: The channels through which the campaign was promoted.\n",
    "- campaign_language: The language in which the campaign was communicated.\n",
    "\n",
    "The target variable is:\n",
    "- has_engaged: A binary indicator of whether the customer engaged with the campaign (1: engaged, 0: not engaged).\n",
    "\n",
    "These features capture both user behavior and campaign characteristics, enabling the analysis of what factors influence customer engagement with personalized marketing campaigns."
   ]
  },
  {
   "cell_type": "code",
   "execution_count": null,
   "metadata": {},
   "outputs": [],
   "source": [
    "# Select revelant features and target variable\n",
    "X = df[['campaign_type', 'campaign_duration', 'avg_mobile_time', 'avg_web_time', \n",
    "               'mobile_logins_wk', 'web_logins_wk', 'has_mobile_app', \n",
    "               'has_web_account', 'channel_used', 'campaign_language']]\n",
    "y = df['has_engaged']"
   ]
  },
  {
   "cell_type": "markdown",
   "metadata": {},
   "source": [
    "## Random Forest Model\n",
    "\n",
    "A Random Forest model was first chosen for this problem as it has several advantages.\n",
    "\n",
    "1. **Able to handle complex relationships**: The relationships between customers and campaign engagement are likely to be non-linear. Random Forest i well-suited for capturing complex interactions without requiring extensive feature engineering.\n",
    "2. **Robustness to overfitting**: Random Forest's ensemble learning method reduces the likelihood of overfitting, especially when trained on a sufficiently large dataset.\n",
    "3. **Interpretability**: Random Forests can still provide high predictive power despite being more interpretable than deep learning models. For business stakeholders, understanding the factor influencing engagement is crucial, and Random Forest can offer clear insights into how individual features impact the model's predictions."
   ]
  },
  {
   "cell_type": "code",
   "execution_count": 35,
   "metadata": {},
   "outputs": [],
   "source": [
    "# Splitting the dataset into train and test tests\n",
    "X_train, X_test, y_train, y_test = train_test_split(X, y, test_size=0.3, random_state=42)"
   ]
  },
  {
   "cell_type": "code",
   "execution_count": 36,
   "metadata": {},
   "outputs": [],
   "source": [
    "# Initialise and train a Random Forest model\n",
    "rf_model = RandomForestClassifier(n_estimators=100, random_state=42)\n",
    "rf_model.fit(X_train, y_train)\n",
    "\n",
    "y_pred = rf_model.predict(X_test)"
   ]
  },
  {
   "cell_type": "code",
   "execution_count": 37,
   "metadata": {},
   "outputs": [
    {
     "name": "stdout",
     "output_type": "stream",
     "text": [
      "              precision    recall  f1-score   support\n",
      "\n",
      "           0       0.80      0.90      0.85      3755\n",
      "           1       0.32      0.17      0.22      1043\n",
      "\n",
      "    accuracy                           0.74      4798\n",
      "   macro avg       0.56      0.54      0.53      4798\n",
      "weighted avg       0.69      0.74      0.71      4798\n",
      "\n"
     ]
    }
   ],
   "source": [
    "# Model evaluation\n",
    "print(classification_report(y_test, y_pred))"
   ]
  },
  {
   "cell_type": "markdown",
   "metadata": {},
   "source": [
    "## XGBoost Model\n",
    "\n",
    "XGBoost is also well-suited for this classification problem due to the following reasons:\n",
    "\n",
    "1. **Handling imbalanced data**: XGBoost has the ability to handle class imbalance effectively by adjusting the weight of each class during training. This is important in this case as the dataset has a significant imbalance between engaged and non-engaged customers.\n",
    "2. **High predictive power**: XGBoost is known for its strong performance in predictive tasks, particularly when dealing with tabular data like this. It can capture complex non-linear relationships between features, making it ideal for modelling the impact of campaign characteristics and user behaviour on engagement.\n",
    "3. **Regularisation to avoid overfitting**: XGBoost includes built-in regularisation to penalise overly complex models, helping to prevent overfitting and improving generalisation."
   ]
  },
  {
   "cell_type": "code",
   "execution_count": 38,
   "metadata": {},
   "outputs": [],
   "source": [
    "# Use XGBoost\n",
    "xgb_model = xgb.XGBClassifier(eval_metric='logloss', random_state=42)\n",
    "xgb_model.fit(X_train, y_train)\n",
    "\n",
    "y_pred_xgb = xgb_model.predict(X_test)"
   ]
  },
  {
   "cell_type": "code",
   "execution_count": 39,
   "metadata": {},
   "outputs": [
    {
     "name": "stdout",
     "output_type": "stream",
     "text": [
      "              precision    recall  f1-score   support\n",
      "\n",
      "           0       0.80      0.92      0.85      3755\n",
      "           1       0.35      0.15      0.21      1043\n",
      "\n",
      "    accuracy                           0.75      4798\n",
      "   macro avg       0.57      0.54      0.53      4798\n",
      "weighted avg       0.70      0.75      0.72      4798\n",
      "\n"
     ]
    }
   ],
   "source": [
    "# Evaluate the XGBoost model\n",
    "print(classification_report(y_test, y_pred_xgb))"
   ]
  },
  {
   "cell_type": "markdown",
   "metadata": {},
   "source": [
    "## Predicting campaign cost and ROI\n",
    "\n",
    "To expand the analysis, separate XGBoost Regressor models are trained to predict two important metrics for marketing campaigns: acquisition cost and return of investment.\n",
    "\n",
    "### Predicting campaign acquisition cost\n",
    "- Features used: campaign_type, campaign_duration, and campaign_language – key factors that may influence how much a campaign costs.\n",
    "- Target variable: acquisition_cost – the cost incurred by the company to acquire customers through the campaign.\n",
    "\n",
    "### Predicting campaign ROI\n",
    "- Target variable: roi – the return on investment, representing the campaign's financial success.\n",
    "\n",
    "### Why use XGBoost for regression?\n",
    "XGBoost's ability to handle complex data and model non-linear relationships makes it ideal for predicting continuous variables like cost and ROI."
   ]
  },
  {
   "cell_type": "code",
   "execution_count": 40,
   "metadata": {},
   "outputs": [],
   "source": [
    "# Predict the cost of a campaign\n",
    "X = df[['campaign_type', 'campaign_duration', 'campaign_language']]\n",
    "y = df['acquisition_cost']\n",
    "\n",
    "X_train, X_test, y_train, y_test = train_test_split(X, y, test_size=0.2, random_state=42)\n",
    "\n",
    "cost_predictor = xgb.XGBRegressor()\n",
    "\n",
    "cost_predictor.fit(X_train, y_train)\n",
    "\n",
    "y_pred = cost_predictor.predict(X_test)\n"
   ]
  },
  {
   "cell_type": "code",
   "execution_count": null,
   "metadata": {},
   "outputs": [],
   "source": [
    "# Predict the ROI of a campaign\n",
    "X = df[['campaign_type', 'campaign_duration', 'campaign_language']]\n",
    "y = df['roi']\n",
    "\n",
    "X_train, X_test, y_train, y_test = train_test_split(X, y, test_size=0.2, random_state=42)\n",
    "\n",
    "roi_predictor = xgb.XGBRegressor()\n",
    "\n",
    "roi_predictor.fit(X_train, y_train)\n",
    "\n",
    "y_pred = roi_predictor.predict(X_test)"
   ]
  },
  {
   "cell_type": "markdown",
   "metadata": {},
   "source": [
    "## Cost-benefit analysis of campaigns\n",
    "\n",
    "The cost_benefit_analysis function evaluates the financial effectivness of a marketing campaign for a specific customer by predicting key metrics like customer acquisition cost, expected customer benefit, net benefit and ROI.\n",
    "\n",
    "**Steps involved**:\n",
    "- Preprocessing new data: \n",
    "  - The input data is transformed using pre-trained LabelEncoders for categoricla features to ensure the data is ready for the model.\n",
    "- Predicting engagement probability\n",
    "  - The XGBoost Classifier (xgb_model) predicts the probability of customer engagement with the campaign. This reflects the likelihood of the customer interacting with the marketing efforts.\n",
    "- Predicting campaign cost:\n",
    "  - The XGBoost Regressor (cost_predictor) predicts the expected cost of the campaign.\n",
    "- Predicting campaign benefit:\n",
    "  - Similarly, the XGBoost Regressor (roi_predictor) predicts the expected benefit of the campaign.\n",
    "- Net benefit calculation:\n",
    "  - The net benefit is calcuated as the difference between the predicted benefit and the predicted cost. This indicates whether the campaign will generate a positive financial return.\n",
    "- ROI calculation:\n",
    "  - Finally, ROI is calculated as (Net Benefit / Predicted Cost) * 100, providing a percentage that reflects the profitability of the campaign."
   ]
  },
  {
   "cell_type": "code",
   "execution_count": 56,
   "metadata": {},
   "outputs": [],
   "source": [
    "def cost_benefit_analysis(new_data, xgb_model, cost_predictor, roi_predictor,\n",
    "                          le_campaign_type, le_campaign_language, le_channel_used):\n",
    "    new_data = pd.DataFrame(new_data)\n",
    "\n",
    "    new_data['campaign_type'] = le_campaign_type.transform(new_data['campaign_type'])\n",
    "    new_data['campaign_language'] = le_campaign_language.transform(new_data['campaign_language'])\n",
    "    new_data['channel_used'] = le_channel_used.transform(new_data['channel_used'])\n",
    "\n",
    "    new_campaign_data = new_data[['campaign_type', 'campaign_duration', 'campaign_language']]\n",
    "\n",
    "    # Predict the probability of engagement\n",
    "    engagement_probability = xgb_model.predict_proba(new_data)[:, 1]\n",
    "\n",
    "    # Predict the cost of the campaign for the customer\n",
    "    predicted_cost = cost_predictor.predict(new_campaign_data) * engagement_probability\n",
    "\n",
    "    # Predict the benefit of the campaign for the customer\n",
    "    predicted_benefit = roi_predictor.predict(new_campaign_data)[0] * predicted_cost * engagement_probability\n",
    "\n",
    "    # Calculate the net benefit\n",
    "    net_benefit = predicted_benefit - predicted_cost\n",
    "\n",
    "    # Calculate ROI \n",
    "    roi = (net_benefit / predicted_cost) * 100 if predicted_cost > 0 else 0 \n",
    "\n",
    "    # Print the results\n",
    "    print(\"Cost-Benefit Analysis Results:\")\n",
    "    print(f\"Customer Acquisition Cost: ${predicted_cost[0]:.2f}\")\n",
    "    print(f\"Expected Customer Benefit: ${predicted_benefit[0]:.2f}\")\n",
    "    print(f\"Net Benefit: ${net_benefit[0]:.2f}\")\n",
    "    print(f\"ROI: {roi[0]:.2f}%\")"
   ]
  },
  {
   "cell_type": "markdown",
   "metadata": {},
   "source": [
    "## Testing the analysis function\n",
    "\n",
    "We pass a new set of customer campaign data into the function to predict the financial impact of a potential marketing campaign."
   ]
  },
  {
   "cell_type": "code",
   "execution_count": null,
   "metadata": {},
   "outputs": [
    {
     "name": "stdout",
     "output_type": "stream",
     "text": [
      "Cost-Benefit Analysis Results:\n",
      "Customer Acquisition Cost: $5053.10\n",
      "Expected Customer Benefit: $3788.83\n",
      "Net Benefit: $-1264.27\n",
      "ROI: -25.02%\n"
     ]
    }
   ],
   "source": [
    "# Test\n",
    "new_data = {\n",
    "    'campaign_type': ['Email Marketing'],\n",
    "    'campaign_duration': [30],\n",
    "    'avg_mobile_time': [5.50],\n",
    "    'avg_web_time': [5.50],\n",
    "    'mobile_logins_wk':  [3.0],\n",
    "    'web_logins_wk':  [2.0],\n",
    "    'has_mobile_app': [1],\n",
    "    'has_web_account': [1],\n",
    "    'channel_used': ['Email'],\n",
    "    'campaign_language': ['English']\n",
    "}\n",
    "\n",
    "results = cost_benefit_analysis(new_data, xgb_model, cost_predictor, roi_predictor,\n",
    "                                le_campaign_type, le_campaign_language, le_channel_used)"
   ]
  },
  {
   "cell_type": "markdown",
   "metadata": {},
   "source": [
    "## Business insights from cost-benefit analysis test\n",
    "\n",
    "1. **Reevaluate campaign strategy**: Given the negative ROI, it is essential to re-examine the campaign targeting and the channels used. Perhaps more cost-effective channels or better segmentation of the target audience could improve profitability.\n",
    "2. **Cost reduction**: The acquisition cost is quite high, so exploring ways to reduce marketing expenses could significantly improve the financial outcomes.\n",
    "3. **Consider long-term value**: While the short-term ROI is negative, it's also important to consider the customer lifetime value. If this customer segment has the potential for high future value, the initial loss may be justifiable in the long run.\n",
    "4. **Further optimisation**: Additional data analysis and A/B testing of different campaign strategies can help fine-tune the approach, reducing acquisition costs whilst maintaining or enhancing customer engagement."
   ]
  }
 ],
 "metadata": {
  "kernelspec": {
   "display_name": "base",
   "language": "python",
   "name": "python3"
  },
  "language_info": {
   "codemirror_mode": {
    "name": "ipython",
    "version": 3
   },
   "file_extension": ".py",
   "mimetype": "text/x-python",
   "name": "python",
   "nbconvert_exporter": "python",
   "pygments_lexer": "ipython3",
   "version": "3.12.2"
  }
 },
 "nbformat": 4,
 "nbformat_minor": 2
}
