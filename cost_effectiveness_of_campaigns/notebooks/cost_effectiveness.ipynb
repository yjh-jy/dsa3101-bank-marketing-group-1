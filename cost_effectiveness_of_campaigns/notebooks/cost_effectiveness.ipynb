{
 "cells": [
  {
   "cell_type": "code",
   "execution_count": null,
   "metadata": {},
   "outputs": [],
   "source": [
    "import pandas as pd"
   ]
  },
  {
   "cell_type": "code",
   "execution_count": 21,
   "metadata": {},
   "outputs": [],
   "source": [
    "campaigns = pd.read_csv('../../data/processed/campaigns.csv')\n",
    "customers = pd.read_csv('../../data/processed/customer.csv')\n",
    "engagements = pd.read_csv('../../data/processed/engagement_details.csv')"
   ]
  },
  {
   "cell_type": "markdown",
   "metadata": {},
   "source": [
    "## Campaign personalisation scores\n",
    "\n",
    "The personalisation scores for each campaign reflect how tailored and relevant a campaign is for a given target audience. A higher personalisation score means that the campaign is better suited for specific audience segments, offering mroe customised content and messaging."
   ]
  },
  {
   "cell_type": "code",
   "execution_count": null,
   "metadata": {},
   "outputs": [],
   "source": [
    "def get_personalisation_score(row):\n",
    "    campaign_type_weights = {\n",
    "        'Search Engine Optimisation': 0.2,\n",
    "        'Email Marketing': 0.8,\n",
    "        'Affiliate Marketing': 0.5,\n",
    "        'Display Advertising': 0.3\n",
    "    }\n",
    "\n",
    "    language_score = 0.5 if row['campaign_language'] in ['Mandarin', 'French', 'Spanish', 'German'] else 0.3\n",
    "\n",
    "    if row['target_audience'] == '35-44':\n",
    "        target_audience_score = 0.7\n",
    "    elif row['target_audience'] == '55+':\n",
    "        target_audience_score = 0.6\n",
    "    else:\n",
    "        target_audience_score = 0.5\n",
    "\n",
    "    if row['campaign_duration'] > 60:\n",
    "        duration_score = 0.8\n",
    "    elif row['campaign_duration'] > 30:\n",
    "        duration_score = 0.6\n",
    "    else:\n",
    "        duration_score = 0.4\n",
    "\n",
    "    campaign_type_score = campaign_type_weights.get(row['campaign_type'], 0.4)\n",
    "\n",
    "    personalisation_score = (\n",
    "        0.25 * campaign_type_score +\n",
    "        0.2 * language_score + \n",
    "        0.25 * target_audience_score +\n",
    "        0.3 * duration_score\n",
    "    )\n",
    "\n",
    "    return personalisation_score\n",
    "\n",
    "\n",
    "campaigns['personalisation_score'] = campaigns.apply(get_personalisation_score, axis=1)"
   ]
  },
  {
   "cell_type": "markdown",
   "metadata": {},
   "source": [
    "## Campaign engagement scores\n",
    "\n",
    "The engagement scores for each campaign indicate their effectiveness – how well the campaign has succeeded in attracting interactions from its audience. Higher engagement scores suggest campaigns have resonated well with customers and elicited more significant actions, such as clicks and views."
   ]
  },
  {
   "cell_type": "code",
   "execution_count": null,
   "metadata": {},
   "outputs": [],
   "source": [
    "merged = pd.merge(engagements, campaigns, on='campaign_id', how='left')\n",
    "\n",
    "campaign_engagements = merged.groupby('campaign_id').agg(\n",
    "    total_engagements=('has_engaged', 'sum'),\n",
    "    total_duration=('duration', 'sum'),\n",
    "    impressions=('impressions', 'first')\n",
    ").reset_index()\n",
    "\n",
    "campaign_engagements['engagement_rate'] = campaign_engagements['total_engagements'] / campaign_engagements['impressions']\n",
    "campaign_engagements['effective_engagement_rate'] = campaign_engagements['total_duration'] / campaign_engagements['impressions']\n",
    "\n",
    "campaign_engagements['campaign_effectiveness_score'] = (\n",
    "    0.5 * campaign_engagements['engagement_rate'] +\n",
    "    0.5 * campaign_engagements['effective_engagement_rate']\n",
    ")\n",
    "\n",
    "campaigns_final = pd.merge(campaigns, campaign_engagements[['campaign_id', 'campaign_effectiveness_score']], on='campaign_id', how='left')"
   ]
  }
 ],
 "metadata": {
  "kernelspec": {
   "display_name": "base",
   "language": "python",
   "name": "python3"
  },
  "language_info": {
   "codemirror_mode": {
    "name": "ipython",
    "version": 3
   },
   "file_extension": ".py",
   "mimetype": "text/x-python",
   "name": "python",
   "nbconvert_exporter": "python",
   "pygments_lexer": "ipython3",
   "version": "3.12.2"
  }
 },
 "nbformat": 4,
 "nbformat_minor": 2
}
