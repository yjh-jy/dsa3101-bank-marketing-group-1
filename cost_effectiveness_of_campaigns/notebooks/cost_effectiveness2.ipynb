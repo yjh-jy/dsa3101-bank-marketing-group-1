{
 "cells": [
  {
   "cell_type": "code",
   "execution_count": 318,
   "metadata": {},
   "outputs": [],
   "source": [
    "import pandas as pd\n",
    "import numpy as np\n",
    "from sklearn.model_selection import train_test_split\n",
    "from sklearn.preprocessing import LabelEncoder, MinMaxScaler\n",
    "from sklearn.impute import SimpleImputer\n",
    "from sklearn.ensemble import RandomForestRegressor\n",
    "from sklearn.linear_model import LinearRegression\n",
    "from sklearn.model_selection import cross_val_score, cross_val_predict, KFold\n",
    "from sklearn.metrics import mean_absolute_error, mean_squared_error, r2_score\n",
    "from sklearn.preprocessing import LabelEncoder, OneHotEncoder\n",
    "from sklearn.compose import ColumnTransformer\n",
    "from sklearn.pipeline import Pipeline\n"
   ]
  },
  {
   "cell_type": "code",
   "execution_count": 319,
   "metadata": {},
   "outputs": [],
   "source": [
    "campaigns = pd.read_csv('../../data/processed/campaigns.csv')\n",
    "customers = pd.read_csv('../../data/processed/customer.csv')\n",
    "engagements = pd.read_csv('../../data/processed/engagement_details.csv')"
   ]
  },
  {
   "cell_type": "code",
   "execution_count": 320,
   "metadata": {},
   "outputs": [
    {
     "name": "stdout",
     "output_type": "stream",
     "text": [
      "   campaign_id               campaign_type target_audience  campaign_duration  \\\n",
      "0           25  Search Engine Optimization           35-44                 15   \n",
      "1           25  Search Engine Optimization           35-44                 15   \n",
      "2           25  Search Engine Optimization           35-44                 15   \n",
      "3           25  Search Engine Optimization           35-44                 15   \n",
      "4           25  Search Engine Optimization           35-44                 15   \n",
      "\n",
      "   conversion_rate  acquisition_cost   roi campaign_language  impressions  \\\n",
      "0           0.1161          16230.45  4.85          Mandarin        14665   \n",
      "1           0.1161          16230.45  4.85          Mandarin        14665   \n",
      "2           0.1161          16230.45  4.85          Mandarin        14665   \n",
      "3           0.1161          16230.45  4.85          Mandarin        14665   \n",
      "4           0.1161          16230.45  4.85          Mandarin        14665   \n",
      "\n",
      "   clicks  engagement_id  customer_id channel_used  has_engaged  day  \\\n",
      "0  1703.0             16           12   Google Ads            0    1   \n",
      "1  1703.0            113           81   Google Ads            0   20   \n",
      "2  1703.0            134           96   Google Ads            0    2   \n",
      "3  1703.0            141          101   Google Ads            0    5   \n",
      "4  1703.0            313          230   Google Ads            0    9   \n",
      "\n",
      "      month  duration  \n",
      "0  February       NaN  \n",
      "1      June       NaN  \n",
      "2     April       NaN  \n",
      "3  November       NaN  \n",
      "4      June       NaN  \n"
     ]
    }
   ],
   "source": [
    "# Merge the datasets\n",
    "merged_df = pd.merge(campaigns, engagements, on='campaign_id', how='left')\n",
    "\n",
    "# Display the first few rows of the merged dataset\n",
    "print(merged_df.head())"
   ]
  },
  {
   "cell_type": "code",
   "execution_count": 321,
   "metadata": {},
   "outputs": [],
   "source": [
    "# Function to calculate the personalisation score\n",
    "def calculate_personalisation_score(merged_df):\n",
    "    # Define campaign type weights\n",
    "    campaign_type_weights = {\n",
    "        'Search Engine Optimisation': 0.2,\n",
    "        'Email Marketing': 0.8,\n",
    "        'Affiliate Marketing': 0.5,\n",
    "        'Display Advertising': 0.3\n",
    "    }\n",
    "\n",
    "    def get_personalisation_score(row):\n",
    "        # Language score based on campaign language\n",
    "        language_score = 0.5 if row['campaign_language'] in ['Mandarin', 'French', 'Spanish', 'German'] else 0.3\n",
    "\n",
    "        # Target audience score based on age group\n",
    "        if row['target_audience'] == '35-44':\n",
    "            target_audience_score = 0.7\n",
    "        elif row['target_audience'] == '55+':\n",
    "            target_audience_score = 0.6\n",
    "        else:\n",
    "            target_audience_score = 0.5\n",
    "\n",
    "        # Duration score based on campaign duration\n",
    "        if row['campaign_duration'] > 60:\n",
    "            duration_score = 0.8\n",
    "        elif row['campaign_duration'] > 30:\n",
    "            duration_score = 0.6\n",
    "        else:\n",
    "            duration_score = 0.4\n",
    "\n",
    "        # Campaign type score based on predefined weights\n",
    "        campaign_type_score = campaign_type_weights.get(row['campaign_type'], 0.4)\n",
    "\n",
    "        # Calculate the final personalisation score\n",
    "        personalisation_score = (\n",
    "            0.25 * campaign_type_score +\n",
    "            0.2 * language_score + \n",
    "            0.25 * target_audience_score +\n",
    "            0.3 * duration_score\n",
    "        )\n",
    "\n",
    "        return personalisation_score\n",
    "\n",
    "    merged_df['personalisation_score'] = merged_df.apply(get_personalisation_score, axis=1)\n",
    "\n",
    "    return merged_df"
   ]
  },
  {
   "cell_type": "code",
   "execution_count": 322,
   "metadata": {},
   "outputs": [],
   "source": [
    "# Functino to calculate the engagement score\n",
    "def calculate_engagement_score(merged_df):\n",
    "    # Aggregate engagement data by campaign_id\n",
    "    campaign_engagements = merged_df.groupby('campaign_id').agg(\n",
    "        total_engagements=('has_engaged', 'sum'),\n",
    "        total_duration=('duration', 'sum'),\n",
    "        impressions=('impressions', 'first')\n",
    "    ).reset_index()\n",
    "\n",
    "    # Calculate the engagement rate and effective engagement rate\n",
    "    campaign_engagements['engagement_rate'] = campaign_engagements['total_engagements'] / campaign_engagements['impressions']\n",
    "    campaign_engagements['effective_engagement_rate'] = campaign_engagements['total_duration'] / campaign_engagements['impressions']\n",
    "\n",
    "    # Calculate the final engagement score\n",
    "    campaign_engagements['engagement_score'] = (\n",
    "        0.5 * campaign_engagements['engagement_rate'] + \n",
    "        0.5 * campaign_engagements['effective_engagement_rate']\n",
    "    )\n",
    "\n",
    "    merged_df = pd.merge(merged_df, campaign_engagements[['campaign_id', 'engagement_score']], on='campaign_id', how='left')\n",
    "\n",
    "    return merged_df"
   ]
  },
  {
   "cell_type": "code",
   "execution_count": 323,
   "metadata": {},
   "outputs": [
    {
     "name": "stdout",
     "output_type": "stream",
     "text": [
      "   campaign_id               campaign_type target_audience  campaign_duration  \\\n",
      "0           25  Search Engine Optimization           35-44                 15   \n",
      "1           25  Search Engine Optimization           35-44                 15   \n",
      "2           25  Search Engine Optimization           35-44                 15   \n",
      "3           25  Search Engine Optimization           35-44                 15   \n",
      "4           25  Search Engine Optimization           35-44                 15   \n",
      "\n",
      "   conversion_rate  acquisition_cost   roi campaign_language  impressions  \\\n",
      "0           0.1161          16230.45  4.85          Mandarin        14665   \n",
      "1           0.1161          16230.45  4.85          Mandarin        14665   \n",
      "2           0.1161          16230.45  4.85          Mandarin        14665   \n",
      "3           0.1161          16230.45  4.85          Mandarin        14665   \n",
      "4           0.1161          16230.45  4.85          Mandarin        14665   \n",
      "\n",
      "   clicks  engagement_id  customer_id channel_used  has_engaged  day  \\\n",
      "0  1703.0             16           12   Google Ads            0    1   \n",
      "1  1703.0            113           81   Google Ads            0   20   \n",
      "2  1703.0            134           96   Google Ads            0    2   \n",
      "3  1703.0            141          101   Google Ads            0    5   \n",
      "4  1703.0            313          230   Google Ads            0    9   \n",
      "\n",
      "      month  duration  personalisation_score  engagement_score  \n",
      "0  February       NaN                  0.495          0.082748  \n",
      "1      June       NaN                  0.495          0.082748  \n",
      "2     April       NaN                  0.495          0.082748  \n",
      "3  November       NaN                  0.495          0.082748  \n",
      "4      June       NaN                  0.495          0.082748  \n"
     ]
    }
   ],
   "source": [
    "merged_df = calculate_personalisation_score(merged_df)\n",
    "merged_df = calculate_engagement_score(merged_df)\n",
    "\n",
    "print(merged_df.head())"
   ]
  },
  {
   "cell_type": "code",
   "execution_count": 324,
   "metadata": {},
   "outputs": [],
   "source": [
    "# Preprocess the data\n",
    "def preprocess_data(df):\n",
    "    # Encode categorical features using LabelEncoder\n",
    "    label_encoder = LabelEncoder()\n",
    "    categorical_features = ['campaign_type', 'campaign_language', 'target_audience']\n",
    "    \n",
    "    for col in categorical_features:\n",
    "        df[col] = label_encoder.fit_transform(df[col])\n",
    "    \n",
    "    # Define features (X) and target variable (y)\n",
    "    X = df[['campaign_type', 'campaign_language', 'target_audience', 'campaign_duration']]\n",
    "    y = df['personalisation_score']\n",
    "    \n",
    "    return X, y, label_encoder"
   ]
  },
  {
   "cell_type": "code",
   "execution_count": 325,
   "metadata": {},
   "outputs": [],
   "source": [
    "# Train the Random Forest model\n",
    "def train_personalisation_model(df):\n",
    "    # Preprocess the data\n",
    "    X, y, label_encoder = preprocess_data(df)\n",
    "    \n",
    "    # Split data into training and test sets\n",
    "    X_train, X_test, y_train, y_test = train_test_split(X, y, test_size=0.2, random_state=42)\n",
    "    \n",
    "    # Train the Random Forest Regressor\n",
    "    personalisation_model = RandomForestRegressor(n_estimators=100, random_state=42)\n",
    "    personalisation_model.fit(X_train, y_train)\n",
    "    \n",
    "    # Predict on the test set\n",
    "    y_pred = personalisation_model.predict(X_test)\n",
    "    \n",
    "    # Evaluate the model\n",
    "    mae = mean_absolute_error(y_test, y_pred)\n",
    "    rmse = mean_squared_error(y_test, y_pred, squared=False)\n",
    "    r2 = r2_score(y_test, y_pred)\n",
    "    \n",
    "    print(f\"Model Evaluation:\")\n",
    "    print(f\"Mean Absolute Error (MAE): {mae}\")\n",
    "    print(f\"Root Mean Squared Error (RMSE): {rmse}\")\n",
    "    print(f\"R-squared (R²): {r2}\")\n",
    "    \n",
    "    return personalisation_model, label_encoder"
   ]
  },
  {
   "cell_type": "code",
   "execution_count": 326,
   "metadata": {},
   "outputs": [],
   "source": [
    "def predict_personalisation_score(new_campaign_df, personalisation_model, label_encoder):\n",
    "    # List of categorical features\n",
    "    categorical_features = ['campaign_type', 'campaign_language', 'target_audience']\n",
    "    \n",
    "    # Encode categorical features only (skip numerical columns like 'campaign_duration')\n",
    "    for col in categorical_features:\n",
    "        new_campaign_df[col] = label_encoder.fit_transform(new_campaign_df[col])\n",
    "\n",
    "    # Define the features to be used in the model (keeping numerical columns as they are)\n",
    "    X_new = new_campaign_df[['campaign_type', 'campaign_language', 'target_audience', 'campaign_duration']]\n",
    "\n",
    "    # Predict the personalization score using the trained model\n",
    "    predicted_personalisation_score = personalisation_model.predict(X_new)\n",
    "    \n",
    "    return predicted_personalisation_score[0]\n"
   ]
  },
  {
   "cell_type": "code",
   "execution_count": 327,
   "metadata": {},
   "outputs": [
    {
     "name": "stdout",
     "output_type": "stream",
     "text": [
      "Model Evaluation:\n",
      "Mean Absolute Error (MAE): 1.4935101766422321e-15\n",
      "Root Mean Squared Error (RMSE): 1.7935367007669753e-15\n",
      "R-squared (R²): 1.0\n"
     ]
    },
    {
     "name": "stderr",
     "output_type": "stream",
     "text": [
      "/opt/anaconda3/lib/python3.12/site-packages/sklearn/metrics/_regression.py:492: FutureWarning: 'squared' is deprecated in version 1.4 and will be removed in 1.6. To calculate the root mean squared error, use the function'root_mean_squared_error'.\n",
      "  warnings.warn(\n"
     ]
    }
   ],
   "source": [
    "personalisation_model, label_encoder = train_personalisation_model(merged_df)"
   ]
  },
  {
   "cell_type": "code",
   "execution_count": 328,
   "metadata": {},
   "outputs": [
    {
     "name": "stdout",
     "output_type": "stream",
     "text": [
      "Predicted Personalization Score: 0.5799999999999992\n"
     ]
    }
   ],
   "source": [
    "new_campaign_data = {\n",
    "    'campaign_type': 'Email Marketing',  # Example new label\n",
    "    'campaign_language': 'Mandarin',\n",
    "    'target_audience': '35-44',\n",
    "    'campaign_duration': 45\n",
    "}\n",
    "\n",
    "# Convert the new campaign data to a DataFrame\n",
    "new_campaign_df = pd.DataFrame([new_campaign_data])\n",
    "\n",
    "# Predict the personalization score for the new campaign\n",
    "predicted_personalisation_score = predict_personalisation_score(new_campaign_df, personalisation_model, label_encoder)\n",
    "print(f\"Predicted Personalization Score: {predicted_personalisation_score}\")"
   ]
  },
  {
   "cell_type": "code",
   "execution_count": 329,
   "metadata": {},
   "outputs": [],
   "source": [
    "# Function to preprocess the data (encoding categorical features)\n",
    "def preprocess_data(df):\n",
    "    # Instantiate the LabelEncoder\n",
    "    label_encoder = LabelEncoder()\n",
    "\n",
    "    # Encode categorical features: campaign_type, campaign_language, target_audience\n",
    "    categorical_features = ['campaign_type', 'campaign_language', 'target_audience']\n",
    "    for col in categorical_features:\n",
    "        df[col] = label_encoder.fit_transform(df[col])\n",
    "    \n",
    "    # Define features (X) and target variable (y)\n",
    "    X = df[['campaign_type', 'campaign_language', 'target_audience', 'campaign_duration']]\n",
    "    y = df['engagement_score']  # Target variable for engagement score\n",
    "    \n",
    "    return X, y, label_encoder"
   ]
  },
  {
   "cell_type": "code",
   "execution_count": 330,
   "metadata": {},
   "outputs": [],
   "source": [
    "# Function to train the engagement model\n",
    "def train_engagement_model(df):\n",
    "    # Preprocess the data (encode categorical features)\n",
    "    X, y, label_encoder = preprocess_data(df)\n",
    "    \n",
    "    # Split data into training and testing sets (80% training, 20% testing)\n",
    "    X_train, X_test, y_train, y_test = train_test_split(X, y, test_size=0.2, random_state=42)\n",
    "    \n",
    "    # Initialize the RandomForestRegressor model\n",
    "    engagement_model = RandomForestRegressor(n_estimators=100, random_state=42)\n",
    "    \n",
    "    # Train the model using the training data\n",
    "    engagement_model.fit(X_train, y_train)\n",
    "    \n",
    "    # Make predictions on the test set\n",
    "    y_pred = engagement_model.predict(X_test)\n",
    "    \n",
    "    # Evaluate the model's performance\n",
    "    mae = mean_absolute_error(y_test, y_pred)\n",
    "    rmse = mean_squared_error(y_test, y_pred, squared=False)\n",
    "    r2 = r2_score(y_test, y_pred)\n",
    "    \n",
    "    print(f\"Model Evaluation:\")\n",
    "    print(f\"Mean Absolute Error (MAE): {mae}\")\n",
    "    print(f\"Root Mean Squared Error (RMSE): {rmse}\")\n",
    "    print(f\"R-squared (R²): {r2}\")\n",
    "    \n",
    "    return engagement_model, label_encoder"
   ]
  },
  {
   "cell_type": "code",
   "execution_count": 331,
   "metadata": {},
   "outputs": [],
   "source": [
    "# Function to predict the engagement score for new campaign data\n",
    "def predict_engagement_score(new_campaign_df, engagement_model, label_encoder):\n",
    "    # Encode the categorical features in the new data\n",
    "    categorical_features = ['campaign_type', 'campaign_language', 'target_audience']\n",
    "    \n",
    "    for col in categorical_features:\n",
    "        new_campaign_df[col] = label_encoder.fit_transform(new_campaign_df[col])\n",
    "\n",
    "    # Define the features to be used in the model\n",
    "    X_new = new_campaign_df[['campaign_type', 'campaign_language', 'target_audience', 'campaign_duration']]\n",
    "\n",
    "    # Predict the engagement score using the trained model\n",
    "    predicted_engagement_score = engagement_model.predict(X_new)\n",
    "    \n",
    "    return predicted_engagement_score[0]"
   ]
  },
  {
   "cell_type": "code",
   "execution_count": 332,
   "metadata": {},
   "outputs": [
    {
     "name": "stdout",
     "output_type": "stream",
     "text": [
      "Model Evaluation:\n",
      "Mean Absolute Error (MAE): 0.025171559238096875\n",
      "Root Mean Squared Error (RMSE): 0.10207788835549611\n",
      "R-squared (R²): 0.8629383890761643\n"
     ]
    },
    {
     "name": "stderr",
     "output_type": "stream",
     "text": [
      "/opt/anaconda3/lib/python3.12/site-packages/sklearn/metrics/_regression.py:492: FutureWarning: 'squared' is deprecated in version 1.4 and will be removed in 1.6. To calculate the root mean squared error, use the function'root_mean_squared_error'.\n",
      "  warnings.warn(\n"
     ]
    }
   ],
   "source": [
    "engagement_model, label_encoder = train_engagement_model(merged_df)"
   ]
  },
  {
   "cell_type": "code",
   "execution_count": 333,
   "metadata": {},
   "outputs": [
    {
     "name": "stdout",
     "output_type": "stream",
     "text": [
      "Predicted Engagement Score: 0.17887538885954143\n"
     ]
    }
   ],
   "source": [
    "# Predict the engagement score for the new campaign\n",
    "predicted_engagement_score = predict_engagement_score(new_campaign_df, engagement_model, label_encoder)\n",
    "print(f\"Predicted Engagement Score: {predicted_engagement_score}\")"
   ]
  },
  {
   "cell_type": "code",
   "execution_count": 334,
   "metadata": {},
   "outputs": [],
   "source": [
    "# Function to preprocess the data (encoding categorical features)\n",
    "def preprocess_data(df):\n",
    "    label_encoder = LabelEncoder()\n",
    "    categorical_features = ['campaign_type', 'campaign_language', 'target_audience']\n",
    "    \n",
    "    # Apply LabelEncoder to each categorical feature\n",
    "    for col in categorical_features:\n",
    "        df[col] = label_encoder.fit_transform(df[col])\n",
    "    \n",
    "    # Define features (X) and target variable (y)\n",
    "    X = df[['campaign_type', 'campaign_language', 'target_audience', 'campaign_duration']]\n",
    "    y = df['acquisition_cost']\n",
    "    \n",
    "    return X, y, label_encoder"
   ]
  },
  {
   "cell_type": "code",
   "execution_count": 335,
   "metadata": {},
   "outputs": [],
   "source": [
    "# Function to train the cost model (RandomForestRegressor)\n",
    "def train_cost_model(df):\n",
    "    X, y, label_encoder = preprocess_data(df)\n",
    "    \n",
    "    # Initialize MinMaxScaler\n",
    "    scaler = MinMaxScaler()\n",
    "    \n",
    "    # Scale the acquisition cost (y) to the range [0, 1]\n",
    "    y_scaled = scaler.fit_transform(y.values.reshape(-1, 1))  # Fit the scaler on the acquisition cost\n",
    "    \n",
    "    # Split data into training and testing sets (80% training, 20% testing)\n",
    "    X_train, X_test, y_train, y_test = train_test_split(X, y_scaled, test_size=0.2, random_state=42)\n",
    "    \n",
    "    # Initialize the RandomForestRegressor model\n",
    "    cost_model = RandomForestRegressor(n_estimators=100, random_state=42)\n",
    "    \n",
    "    # Train the model using the training data\n",
    "    cost_model.fit(X_train, y_train)\n",
    "    \n",
    "    # Make predictions on the test set\n",
    "    y_pred = cost_model.predict(X_test)\n",
    "    \n",
    "    # Evaluate the model's performance\n",
    "    mae = mean_absolute_error(y_test, y_pred)\n",
    "    rmse = mean_squared_error(y_test, y_pred, squared=False)\n",
    "    r2 = r2_score(y_test, y_pred)\n",
    "    \n",
    "    print(f\"Cost Model Evaluation:\")\n",
    "    print(f\"Mean Absolute Error (MAE): {mae}\")\n",
    "    print(f\"Root Mean Squared Error (RMSE): {rmse}\")\n",
    "    print(f\"R-squared (R²): {r2}\")\n",
    "    \n",
    "    return cost_model, label_encoder, scaler\n"
   ]
  },
  {
   "cell_type": "code",
   "execution_count": 336,
   "metadata": {},
   "outputs": [],
   "source": [
    "# Function to predict the acquisition cost for new campaign data\n",
    "def predict_acquisition_cost(new_campaign_df, cost_model, label_encoder, scaler):\n",
    "    # Encode the categorical features in the new data\n",
    "    categorical_features = ['campaign_type', 'campaign_language', 'target_audience']\n",
    "    \n",
    "    for col in categorical_features:\n",
    "        new_campaign_df[col] = label_encoder.transform(new_campaign_df[col])\n",
    "\n",
    "    # Define the features to be used in the model\n",
    "    X_new = new_campaign_df[['campaign_type', 'campaign_language', 'target_audience', 'campaign_duration']]\n",
    "\n",
    "    # Predict the acquisition cost using the trained model\n",
    "    predicted_acquisition_cost = cost_model.predict(X_new)\n",
    "    \n",
    "    # Reverse the scaling to get the acquisition cost on the original scale\n",
    "    predicted_acquisition_cost = scaler.inverse_transform(predicted_acquisition_cost.reshape(-1, 1))\n",
    "    \n",
    "    # Return the first prediction\n",
    "    return predicted_acquisition_cost[0][0]"
   ]
  },
  {
   "cell_type": "code",
   "execution_count": 337,
   "metadata": {},
   "outputs": [
    {
     "name": "stderr",
     "output_type": "stream",
     "text": [
      "/opt/anaconda3/lib/python3.12/site-packages/sklearn/base.py:1473: DataConversionWarning: A column-vector y was passed when a 1d array was expected. Please change the shape of y to (n_samples,), for example using ravel().\n",
      "  return fit_method(estimator, *args, **kwargs)\n"
     ]
    },
    {
     "name": "stdout",
     "output_type": "stream",
     "text": [
      "Cost Model Evaluation:\n",
      "Mean Absolute Error (MAE): 0.02669383292983423\n",
      "Root Mean Squared Error (RMSE): 0.08736530400239496\n",
      "R-squared (R²): 0.8056177291675328\n"
     ]
    },
    {
     "name": "stderr",
     "output_type": "stream",
     "text": [
      "/opt/anaconda3/lib/python3.12/site-packages/sklearn/metrics/_regression.py:492: FutureWarning: 'squared' is deprecated in version 1.4 and will be removed in 1.6. To calculate the root mean squared error, use the function'root_mean_squared_error'.\n",
      "  warnings.warn(\n"
     ]
    }
   ],
   "source": [
    "cost_model, cost_label_encoder, cost_scaler = train_cost_model(merged_df)"
   ]
  },
  {
   "cell_type": "code",
   "execution_count": 338,
   "metadata": {},
   "outputs": [
    {
     "name": "stdout",
     "output_type": "stream",
     "text": [
      "Predicted Acquisition Cost: 6336.820000000015\n"
     ]
    }
   ],
   "source": [
    "predicted_acquisition_cost = predict_acquisition_cost(new_campaign_df, cost_model, cost_label_encoder, cost_scaler)\n",
    "print(f\"Predicted Acquisition Cost: {predicted_acquisition_cost}\")"
   ]
  },
  {
   "cell_type": "code",
   "execution_count": 339,
   "metadata": {},
   "outputs": [],
   "source": [
    "def calculate_cost_benefit_ratio(new_campaign_df, personalisation_model, engagement_model, cost_model, label_encoder, cost_scaler):\n",
    "    # Step 1: Predict the personalisation score using the personalisation model\n",
    "    personalisation_score = predict_personalisation_score(new_campaign_df, personalisation_model, label_encoder)\n",
    "    \n",
    "    # Step 2: Predict the engagement score using the engagement model\n",
    "    engagement_score = predict_engagement_score(new_campaign_df, engagement_model, label_encoder)\n",
    "    \n",
    "    # Step 3: Predict the acquisition cost using the cost model\n",
    "    predicted_acquisition_cost = predict_acquisition_cost(new_campaign_df, cost_model, label_encoder, cost_scaler)\n",
    "    \n",
    "    # Step 4: Normalize the acquisition cost to be between 0 and 1\n",
    "    # Assuming the cost scaler is already fitted, you can use it here:\n",
    "    normalized_acquisition_cost = cost_scaler.transform([[predicted_acquisition_cost]])[0][0]  # Reshape and scale\n",
    "    \n",
    "    # Step 5: Calculate the benefit (weighted sum of personalisation and engagement scores)\n",
    "    benefit = 0.5 * personalisation_score + 0.5 * engagement_score  # You can adjust the weights based on your criteria\n",
    "    \n",
    "    # Step 6: Calculate the Cost-Benefit Ratio\n",
    "    # Ensure the cost-benefit ratio stays within a reasonable range (e.g., 0-1)\n",
    "    cost_benefit_ratio = normalized_acquisition_cost / benefit\n",
    "    \n",
    "    # If the ratio is greater than 1 (it might happen due to the scaling), we can cap it at 1\n",
    "    cost_benefit_ratio = min(cost_benefit_ratio, 1)\n",
    "    \n",
    "    return normalized_acquisition_cost, personalisation_score, engagement_score, cost_benefit_ratio"
   ]
  },
  {
   "cell_type": "code",
   "execution_count": 340,
   "metadata": {},
   "outputs": [
    {
     "name": "stdout",
     "output_type": "stream",
     "text": [
      "Acquisition Cost: 6336.820000000015\n",
      "Personalisation Score: 0.5799999999999992\n",
      "Engagement Score: 0.17887538885954143\n",
      "Cost-Benefit Ratio: 0.3190786080202599\n"
     ]
    }
   ],
   "source": [
    "normalized_acquisition_cost, personalisation_score, engagement_score, cost_benefit_ratio = calculate_cost_benefit_ratio(\n",
    "    new_campaign_df, personalisation_model, engagement_model, cost_model, cost_label_encoder, cost_scaler\n",
    ")\n",
    "\n",
    "# Print the results\n",
    "print(f\"Acquisition Cost: {predicted_acquisition_cost}\")\n",
    "print(f\"Personalisation Score: {personalisation_score}\")\n",
    "print(f\"Engagement Score: {engagement_score}\")\n",
    "print(f\"Cost-Benefit Ratio: {cost_benefit_ratio}\")"
   ]
  },
  {
   "cell_type": "code",
   "execution_count": 341,
   "metadata": {},
   "outputs": [],
   "source": [
    "# Function to calculate the cost-benefit ratio for the entire dataset\n",
    "def calculate_cost_benefit_for_df(merged_df, personalisation_model, engagement_model, cost_model, label_encoder, cost_scaler):\n",
    "    result_data = []\n",
    "    \n",
    "    # Loop through each campaign and calculate the cost-benefit ratio\n",
    "    for _, row in merged_df.iterrows():\n",
    "        campaign_df = pd.DataFrame([row])  # Get a single campaign as a DataFrame\n",
    "        \n",
    "        # Calculate the cost-benefit ratio for this campaign\n",
    "        normalized_acquisition_cost, personalisation_score, engagement_score, cost_benefit_ratio = calculate_cost_benefit_ratio(\n",
    "            campaign_df, personalisation_model, engagement_model, cost_model, label_encoder, cost_scaler\n",
    "        )\n",
    "        \n",
    "        # Store the results in the list\n",
    "        result_data.append({\n",
    "            'campaign_type': row['campaign_type'],\n",
    "            'target_audience': row['target_audience'],\n",
    "            'cost_benefit_ratio': cost_benefit_ratio\n",
    "        })\n",
    "    \n",
    "    # Convert the result data into a DataFrame\n",
    "    result_df = pd.DataFrame(result_data)\n",
    "    return result_df\n",
    "\n",
    "# Assuming the models are already trained: cost_model, personalisation_model, engagement_model\n",
    "# and cost_scaler for scaling the acquisition cost\n",
    "\n",
    "# Calculate the cost-benefit ratios for the entire dataset\n",
    "result_df = calculate_cost_benefit_for_df(merged_df, personalisation_model, engagement_model, cost_model, cost_label_encoder, cost_scaler)\n"
   ]
  },
  {
   "cell_type": "code",
   "execution_count": 343,
   "metadata": {},
   "outputs": [
    {
     "data": {
      "image/png": "[encoded data removed]",
      "text/plain": [
       "<Figure size 1200x600 with 2 Axes>"
      ]
     },
     "metadata": {},
     "output_type": "display_data"
    }
   ],
   "source": [
    "import seaborn as sns\n",
    "import matplotlib.pyplot as plt\n",
    "\n",
    "# Assuming result_df already contains the required data\n",
    "\n",
    "# Aggregate duplicates by taking the mean of the cost-benefit ratio for each combination\n",
    "result_df = result_df.groupby(['target_audience', 'campaign_type'], as_index=False)['cost_benefit_ratio'].mean()\n",
    "\n",
    "# Pivot the result_df to create a matrix suitable for a heatmap\n",
    "heatmap_data = result_df.pivot(index='target_audience', columns='campaign_type', values='cost_benefit_ratio')\n",
    "\n",
    "# Drop any rows and columns that contain NaN values\n",
    "heatmap_data = heatmap_data.dropna(axis=0, how='all')  # Drop rows with all NaN values\n",
    "heatmap_data = heatmap_data.dropna(axis=1, how='all')  # Drop columns with all NaN values\n",
    "\n",
    "# Create a heatmap to visualize the cost-benefit ratio\n",
    "plt.figure(figsize=(12, 6))\n",
    "\n",
    "# Create the heatmap with annotations\n",
    "sns.heatmap(heatmap_data, annot=True, cmap='coolwarm', fmt='.2f', cbar_kws={'label': 'Cost-Benefit Ratio'}, \n",
    "            xticklabels=heatmap_data.columns, yticklabels=heatmap_data.index)\n",
    "\n",
    "# Set plot title\n",
    "plt.title('Cost-Benefit Ratio Heatmap by Campaign Type and Target Audience')\n",
    "\n",
    "# Set axis labels\n",
    "plt.xlabel('Campaign Type')\n",
    "plt.ylabel('Target Audience')\n",
    "\n",
    "# Show the plot\n",
    "plt.show()\n"
   ]
  }
 ],
 "metadata": {
  "kernelspec": {
   "display_name": "base",
   "language": "python",
   "name": "python3"
  },
  "language_info": {
   "codemirror_mode": {
    "name": "ipython",
    "version": 3
   },
   "file_extension": ".py",
   "mimetype": "text/x-python",
   "name": "python",
   "nbconvert_exporter": "python",
   "pygments_lexer": "ipython3",
   "version": "3.12.2"
  }
 },
 "nbformat": 4,
 "nbformat_minor": 2
}
