{
 "cells": [
  {
   "cell_type": "code",
   "execution_count": null,
   "metadata": {},
   "outputs": [],
   "source": [
    "# Importing packages\n",
    "import pandas as pd\n",
    "import numpy as np\n",
    "import seaborn as sns\n",
    "import matplotlib.pyplot as plt\n",
    "from sklearn.preprocessing import StandardScaler\n",
    "import scipy.stats as stats"
   ]
  },
  {
   "cell_type": "code",
   "execution_count": null,
   "metadata": {},
   "outputs": [],
   "source": [
    "# Reading in datasets\n",
    "customers = pd.read_csv(\"../../data/processed/customer.csv\")\n",
    "digital_usage = pd.read_csv(\"../../data/processed/digital_usage.csv\")\n",
    "engagement = pd.read_csv(\"../../data/processed/engagement_details.csv\")\n",
    "loans = pd.read_csv(\"../../data/processed/loans.csv\")\n",
    "products = pd.read_csv(\"../../data/processed/products_owned.csv\")\n",
    "transactions = pd.read_csv(\"../../data/processed/transactions.csv\")\n",
    "segments = pd.read_csv(\"../../customer_segmentation/customer_segments.csv\")"
   ]
  },
  {
   "cell_type": "markdown",
   "metadata": {},
   "source": [
    "#### **Data Inspection & Preparation**"
   ]
  },
  {
   "cell_type": "markdown",
   "metadata": {},
   "source": [
    "##### Customers Dataset"
   ]
  },
  {
   "cell_type": "code",
   "execution_count": null,
   "metadata": {},
   "outputs": [],
   "source": [
    "# Merging segments and customers datasets\n",
    "df = pd.merge(segments, customers, on = 'customer_id')"
   ]
  },
  {
   "cell_type": "code",
   "execution_count": null,
   "metadata": {},
   "outputs": [],
   "source": [
    "print(\"Dimensions:\", df.shape)\n",
    "df.head()"
   ]
  },
  {
   "cell_type": "code",
   "execution_count": null,
   "metadata": {},
   "outputs": [],
   "source": [
    "print(\"DataFrame Structure:\")\n",
    "df.info()"
   ]
  },
  {
   "cell_type": "code",
   "execution_count": null,
   "metadata": {},
   "outputs": [],
   "source": [
    "print(\"Descriptive Statistics:\")\n",
    "print(df.drop('customer_id', axis=1).describe())\n",
    "df.head()"
   ]
  },
  {
   "cell_type": "code",
   "execution_count": null,
   "metadata": {},
   "outputs": [],
   "source": [
    "# Converting 'job', 'marital', and 'education' columns to category data type\n",
    "categorical_columns = ['job', 'marital', 'education']\n",
    "for col in categorical_columns:\n",
    "    df[col] = df[col].astype('category')\n",
    "\n",
    "# Creating 'nps_category' column that segments responses into promoters, passives, and detractors\n",
    "nps_bins = [-float('inf'), 6, 8, 10]\n",
    "nps_labels = ['detractor', 'passive', 'promoter']\n",
    "df['nps_category'] = pd.cut(df['nps'], bins=nps_bins, labels=nps_labels)\n",
    "\n",
    "# Dropping the original 'nps' column\n",
    "df.drop(['nps'], axis=1, inplace=True)\n",
    "\n",
    "# Applying log transformation to 'balance', 'debt', and 'income' to scale and stabilize the values\n",
    "df['log_balance'] = np.sign(df['balance']) * np.log1p(np.abs(df['balance']))\n",
    "df['log_debt'] = np.log1p(df['debt'])\n",
    "df['log_income'] = np.log1p(df['income'])\n",
    "\n",
    "# Creating 'debt-to-income' ratio and 'balance-to-debt' ratio columns\n",
    "df['debt_to_income'] = df['log_debt'] / df['log_income']\n",
    "df['balance_to_debt'] = df['log_balance'] / df['log_debt']"
   ]
  },
  {
   "cell_type": "code",
   "execution_count": null,
   "metadata": {},
   "outputs": [],
   "source": [
    "print(df[['log_balance', 'log_debt', 'log_income', 'debt_to_income', 'balance_to_debt']].describe())"
   ]
  },
  {
   "cell_type": "code",
   "execution_count": null,
   "metadata": {},
   "outputs": [],
   "source": [
    "print(\"Job Distribution:\")\n",
    "print(df['job'].value_counts())"
   ]
  },
  {
   "cell_type": "code",
   "execution_count": null,
   "metadata": {},
   "outputs": [],
   "source": [
    "print(\"Marital Status Distribution:\")\n",
    "print(df['marital'].value_counts())"
   ]
  },
  {
   "cell_type": "code",
   "execution_count": null,
   "metadata": {},
   "outputs": [],
   "source": [
    "print(\"Education Distribution:\")\n",
    "print(df['education'].value_counts())"
   ]
  },
  {
   "cell_type": "markdown",
   "metadata": {},
   "source": [
    "##### Segments Dataset"
   ]
  },
  {
   "cell_type": "code",
   "execution_count": null,
   "metadata": {},
   "outputs": [],
   "source": [
    "print(\"Dimensions\", segments.shape)\n",
    "segments.head()"
   ]
  },
  {
   "cell_type": "code",
   "execution_count": null,
   "metadata": {},
   "outputs": [],
   "source": [
    "print(\"Segment Distribution:\")\n",
    "print(segments['Segment'].value_counts())"
   ]
  },
  {
   "cell_type": "markdown",
   "metadata": {},
   "source": [
    "#### Products Dataset"
   ]
  },
  {
   "cell_type": "code",
   "execution_count": null,
   "metadata": {},
   "outputs": [],
   "source": [
    "print(\"Dimensions:\", segments.shape)\n",
    "products.head()"
   ]
  },
  {
   "cell_type": "code",
   "execution_count": null,
   "metadata": {},
   "outputs": [],
   "source": [
    "print(\"DataFrame Structure:\")\n",
    "products.info()"
   ]
  },
  {
   "cell_type": "code",
   "execution_count": null,
   "metadata": {},
   "outputs": [],
   "source": [
    "print(\"Investment Distribution:\")\n",
    "print(products['has_investment_product'].value_counts())\n",
    "\n",
    "print(\"\\nCredit Card Distribution:\")\n",
    "print(products['has_credit_card'].value_counts())\n",
    "\n",
    "print(\"\\nPersonal Loan Distribution:\")\n",
    "print(products['has_personal_loan'].value_counts())\n",
    "\n",
    "print(\"\\nFixed Deposit Distribution:\")\n",
    "print(products['has_fixed_deposit'].value_counts())\n",
    "\n",
    "print(\"\\nInsurance Distribution:\")\n",
    "print(products['has_insurance'].value_counts())"
   ]
  },
  {
   "cell_type": "markdown",
   "metadata": {},
   "source": [
    "#### Loans Dataset"
   ]
  },
  {
   "cell_type": "code",
   "execution_count": null,
   "metadata": {},
   "outputs": [],
   "source": [
    "print(\"Dimensions:\", loans.shape)\n",
    "loans.head()"
   ]
  },
  {
   "cell_type": "code",
   "execution_count": null,
   "metadata": {},
   "outputs": [],
   "source": [
    "loans.info()"
   ]
  },
  {
   "cell_type": "code",
   "execution_count": null,
   "metadata": {},
   "outputs": [],
   "source": [
    "# Converting 'due_date' and 'paid_off_date' columns to datetime format\n",
    "loans['due_date'] = pd.to_datetime(loans['due_date'])\n",
    "loans['paid_off_date'] = pd.to_datetime(loans['paid_off_date'])\n",
    "\n",
    "# Creating 'days_past_due' column\n",
    "loans['days_past_due'] = (loans['paid_off_date'] - loans['due_date']).dt.days\n",
    "loans['days_past_due'] = loans['days_past_due'].fillna(0)\n",
    "\n",
    "# Dropping the original 'due_date' and 'paid_off_date' columns\n",
    "loans.drop(['due_date', 'paid_off_date'], axis=1, inplace=True)"
   ]
  },
  {
   "cell_type": "code",
   "execution_count": null,
   "metadata": {},
   "outputs": [],
   "source": [
    "loans.head()"
   ]
  },
  {
   "cell_type": "code",
   "execution_count": null,
   "metadata": {},
   "outputs": [],
   "source": [
    "loans.describe()"
   ]
  },
  {
   "cell_type": "code",
   "execution_count": null,
   "metadata": {},
   "outputs": [],
   "source": [
    "print(\"Loan Purpose Distribution:\")\n",
    "print(loans['loan_purpose'].value_counts())"
   ]
  },
  {
   "cell_type": "code",
   "execution_count": null,
   "metadata": {},
   "outputs": [],
   "source": [
    "# Categorizing loan purposes into broader categories and creating 'loan_category' column\n",
    "def categorize_loan_purpose(purpose):\n",
    "    if purpose == 'debt_consolidation':\n",
    "        return 'Debt Management'\n",
    "    elif purpose == 'credit_card':\n",
    "        return 'Credit Product'\n",
    "    elif purpose in ['housing-related', 'major_purchase', 'car']:\n",
    "        return 'Asset Acquisition'\n",
    "    elif purpose in ['small_business', 'educational']:\n",
    "        return 'Business & Education'\n",
    "    elif purpose in ['wedding', 'vacation', 'medical']:\n",
    "        return 'Lifestyle & Personal'\n",
    "    else:\n",
    "        return 'Miscellaneous'  \n",
    "\n",
    "loans['loan_category'] = loans['loan_purpose'].apply(categorize_loan_purpose)\n",
    "\n",
    "print(\"Loan Category Distribution:\")\n",
    "print(loans['loan_category'].value_counts())"
   ]
  },
  {
   "cell_type": "markdown",
   "metadata": {},
   "source": [
    "##### Transactions Dataset"
   ]
  },
  {
   "cell_type": "code",
   "execution_count": null,
   "metadata": {},
   "outputs": [],
   "source": [
    "print(\"Dimensions:\", transactions.shape)\n",
    "transactions.head()"
   ]
  },
  {
   "cell_type": "code",
   "execution_count": null,
   "metadata": {},
   "outputs": [],
   "source": [
    "print(\"DataFrame Structure:\")\n",
    "transactions.info()"
   ]
  },
  {
   "cell_type": "code",
   "execution_count": null,
   "metadata": {},
   "outputs": [],
   "source": [
    "# Converting 'transaction_type' column to category data type\n",
    "transactions['transaction_type'] = transactions['transaction_type'].astype('category')\n",
    "\n",
    "# Extracting year-month-day from 'transaction_date' and converting to datetime format\n",
    "transactions['transaction_date'] = pd.to_datetime(transactions['transaction_date'])\n",
    "transactions['transaction_date'] = transactions['transaction_date'].dt.date\n",
    "transactions['transaction_date'] = pd.to_datetime(transactions['transaction_date'])"
   ]
  },
  {
   "cell_type": "code",
   "execution_count": null,
   "metadata": {},
   "outputs": [],
   "source": [
    "print(\"Transaction Type Distribution:\")\n",
    "print(transactions['transaction_type'].value_counts())"
   ]
  },
  {
   "cell_type": "code",
   "execution_count": null,
   "metadata": {},
   "outputs": [],
   "source": [
    "print(transactions[['transaction_amt']].describe())"
   ]
  },
  {
   "cell_type": "code",
   "execution_count": null,
   "metadata": {},
   "outputs": [],
   "source": [
    "# Categorizing transactions as 'Money In' or 'Money Out', and creating 'money_flow' column\n",
    "def classify_money_flow(tx_type):\n",
    "    if tx_type in ['Credit', 'Deposit']:\n",
    "        return 'Money In'\n",
    "    else:\n",
    "        return 'Money Out'\n",
    "\n",
    "transactions['money_flow'] = transactions['transaction_type'].apply(classify_money_flow)"
   ]
  },
  {
   "cell_type": "markdown",
   "metadata": {},
   "source": [
    "##### Digital Usage Dataset"
   ]
  },
  {
   "cell_type": "code",
   "execution_count": null,
   "metadata": {},
   "outputs": [],
   "source": [
    "print(\"Dimensions:\", digital_usage.shape)\n",
    "digital_usage.head()"
   ]
  },
  {
   "cell_type": "code",
   "execution_count": null,
   "metadata": {},
   "outputs": [],
   "source": [
    "print(\"DataFrame Structure:\")\n",
    "digital_usage.info()"
   ]
  },
  {
   "cell_type": "code",
   "execution_count": null,
   "metadata": {},
   "outputs": [],
   "source": [
    "# Converting 'last_mobile_use' and 'last_web_use' columns to category data type\n",
    "digital_usage['last_mobile_use'] = pd.to_datetime(digital_usage['last_mobile_use'])\n",
    "digital_usage['last_web_use'] = pd.to_datetime(digital_usage['last_web_use'])\n",
    "\n",
    "# Creating 'mobile_web_ratio' column\n",
    "digital_usage['mobile_web_ratio'] = digital_usage['mobile_logins_wk'] / (digital_usage['web_logins_wk'])"
   ]
  },
  {
   "cell_type": "markdown",
   "metadata": {},
   "source": [
    "#### Merging Datasets"
   ]
  },
  {
   "cell_type": "code",
   "execution_count": null,
   "metadata": {},
   "outputs": [],
   "source": [
    "df = df.merge(products, on = 'customer_id')\n",
    "df = df.merge(loans, on = 'customer_id')\n",
    "df = df.merge(transactions, on = 'customer_id')\n",
    "df = df.merge(digital_usage, on = 'customer_id')"
   ]
  },
  {
   "cell_type": "markdown",
   "metadata": {},
   "source": [
    "#### **NPS Across Customer Segments**"
   ]
  },
  {
   "cell_type": "code",
   "execution_count": null,
   "metadata": {},
   "outputs": [],
   "source": [
    "# Calculating the percentage distribution each NPS category within each segment\n",
    "nps_segment_dist = pd.crosstab(df['Segment'], df['nps_category'], normalize='index') * 100\n",
    "print(nps_segment_dist)"
   ]
  },
  {
   "cell_type": "code",
   "execution_count": null,
   "metadata": {},
   "outputs": [],
   "source": [
    "plt.figure(figsize=(8, 6))\n",
    "ax = nps_segment_dist.plot(kind='bar', stacked=True)\n",
    "plt.title('Distribution of NPS Categories Across Customer Segments')\n",
    "plt.xlabel('Customer Segment')\n",
    "plt.ylabel('Percentage (%)')\n",
    "plt.legend(title='NPS Category', bbox_to_anchor=(1.05, 1), loc='upper left')\n",
    "\n",
    "for p in ax.patches:\n",
    "    height = p.get_height()\n",
    "    width = p.get_width()\n",
    "    x = p.get_x() + width / 2\n",
    "    y = p.get_y() + height / 2\n",
    "    ax.annotate(f'{height:.2f}%', (x, y), ha='center', va='center', color='black', fontsize=10)\n",
    "\n",
    "plt.tight_layout()\n",
    "plt.show()"
   ]
  },
  {
   "cell_type": "markdown",
   "metadata": {},
   "source": [
    "**Key insights:**\n",
    "\n",
    "- High-value customers show strong loyalty but need focus on converting passives. \n",
    "\n",
    "- Budget-conscious customers have the highest dissatisfaction, signaling value gaps. \n",
    "\n",
    "- At-risk/inactive customers are polarized, reflecting uneven retention success. \n",
    "\n",
    "- Passives across segments represent a key opportunity to boost advocacy through tailored incentives and improved engagement."
   ]
  },
  {
   "cell_type": "markdown",
   "metadata": {},
   "source": [
    "#### **Financial Health Across Customer Segments**"
   ]
  },
  {
   "cell_type": "code",
   "execution_count": null,
   "metadata": {},
   "outputs": [],
   "source": [
    "# Computing the correlation matrix for the selected variables to assess relationships between them\n",
    "variables = ['log_balance', 'log_debt', 'log_income', 'debt_to_income', 'balance_to_debt']\n",
    "correlation_matrix = df[variables].corr()\n",
    "print(correlation_matrix)"
   ]
  },
  {
   "cell_type": "code",
   "execution_count": null,
   "metadata": {},
   "outputs": [],
   "source": [
    "# Heatmap of correlation matrix for financial health metrics\n",
    "sns.heatmap(correlation_matrix, annot=True, cmap='coolwarm')\n",
    "plt.title('Correlation Matrix for Financial Health Metrics')\n",
    "plt.show()"
   ]
  },
  {
   "cell_type": "markdown",
   "metadata": {},
   "source": [
    "**Key insights:**  \n",
    "\n",
    "Higher income and savings (**log_income** and **log_balance**) strongly correlate with improved financial health metrics like **balance_to_debt**, while rising debt (**log_debt**) worsens **debt_to_income** ratios. Notably, income growth and savings accumulation counteract debt burdens, suggesting that boosting income and reducing debt are critical for financial stability. The near-perfect link between **log_balance** and **balance_to_debt** underscores savings as a key lever for debt management."
   ]
  },
  {
   "cell_type": "code",
   "execution_count": null,
   "metadata": {},
   "outputs": [],
   "source": [
    "fig, ax = plt.subplots(1, 2, figsize=(14, 6))\n",
    "\n",
    "# Boxplot of 'debt-to-income' ratio by customer segment\n",
    "sns.boxplot(x='Segment', y='debt_to_income', data=df, ax=ax[0])\n",
    "ax[0].set_title('Debt-to-Income Ratio by Customer Segment')\n",
    "ax[0].set_xlabel('Customer Segment')\n",
    "ax[0].set_ylabel('Debt-to-Income Ratio')\n",
    "\n",
    "# Boxplot of 'balance-to-debt' ratio by customer segment\n",
    "sns.boxplot(x='Segment', y='balance_to_debt', data=df, ax=ax[1])\n",
    "ax[1].set_title('Balance-to-Debt Ratio by Customer Segment')\n",
    "ax[1].set_xlabel('Customer Segment')\n",
    "ax[1].set_ylabel('Balance-to-Debt Ratio')\n",
    "\n",
    "plt.tight_layout()\n",
    "plt.show()"
   ]
  },
  {
   "cell_type": "markdown",
   "metadata": {},
   "source": [
    "**Key insights:**\n",
    "\n",
    "- At-risk customers need urgent debt relief interventions such as restructuring and financial counseling.\n",
    "\n",
    "- Budget-conscious segments would benefit from income-boosting tools or debt consolidation offers.\n",
    "\n",
    "- High-value customers should be retained with loyalty programs reinforcing their financial stability."
   ]
  },
  {
   "cell_type": "code",
   "execution_count": null,
   "metadata": {},
   "outputs": [],
   "source": [
    "# Filtering data for customers with days_past_due = 0\n",
    "on_time = df[df['days_past_due'] == 0]\n",
    "print(on_time)"
   ]
  },
  {
   "cell_type": "code",
   "execution_count": null,
   "metadata": {},
   "outputs": [],
   "source": [
    "# Calculating the proportion of on-time payers in each segment\n",
    "on_time_counts = on_time.groupby('Segment').size()\n",
    "total_counts = df.groupby('Segment').size()\n",
    "on_time_proportion = (on_time_counts / total_counts) * 100\n",
    "print(on_time_proportion)"
   ]
  },
  {
   "cell_type": "code",
   "execution_count": null,
   "metadata": {},
   "outputs": [],
   "source": [
    "# Bar plot of the proportion of customers with on-time loan payments for each segment\n",
    "plt.figure(figsize=(8, 5))\n",
    "ax = sns.barplot(x=on_time_proportion.index, y=on_time_proportion.values, palette='viridis')\n",
    "plt.title('Proportion of On-Time Loan Payments (Days Past Due = 0) Across Customer Segments')\n",
    "plt.xlabel('Customer Segments')\n",
    "plt.ylabel('Proportion of On-Time Payments (%)')\n",
    "plt.ylim(0, 30)\n",
    "plt.grid(axis='y')\n",
    "\n",
    "for p in ax.patches:\n",
    "    ax.annotate(f'{p.get_height():.2f}%', \n",
    "                (p.get_x() + p.get_width() / 2., p.get_height()), \n",
    "                ha='center', va='center', \n",
    "                color='black', fontsize=10, \n",
    "                xytext=(0, 5), textcoords='offset points')  # Adjust label position slightly above the bar\n",
    "\n",
    "plt.tight_layout()\n",
    "plt.show()"
   ]
  },
  {
   "cell_type": "markdown",
   "metadata": {},
   "source": [
    "**Key insights:**  \n",
    "\n",
    "- High-value customers likely show the highest proportion of on-time loan payments, reflecting financial stability and reliability.\n",
    "\n",
    "- Budget-conscious customers may exhibit moderate on-time payment rates, balancing frugality with potential cash flow constraints. \n",
    "\n",
    "- At-risk/inactive customers likely have the lowest on-time payment rates, aligning with their high debt burdens and financial strain. \n",
    "\n",
    "These trends emphasize the need for segment-specific strategies, such as flexible repayment plans for at-risk customers and loyalty incentives for high-value clients, to improve payment behavior and retention."
   ]
  },
  {
   "cell_type": "code",
   "execution_count": null,
   "metadata": {},
   "outputs": [],
   "source": [
    "# Calculating the percentage distribution of loan categories within each segment\n",
    "loan_cat_percent = pd.crosstab(df['Segment'], df['loan_category'], normalize='index') * 100\n",
    "print(loan_cat_percent)"
   ]
  },
  {
   "cell_type": "markdown",
   "metadata": {},
   "source": [
    "**Key Insights:**  \n",
    "\n",
    "- High-value customers prioritize **asset acquisition** and **business & education loans**, reflecting growth-focused financial behavior.\n",
    "\n",
    "- At-risk and budget-conscious segments rely heavily on **debt management loans**, highlighting financial stress. \n",
    "\n",
    "- Lifestyle/personal loans are minimally used, suggesting limited discretionary borrowing. \n",
    "\n",
    "Tailored strategies, such as debt relief for stressed segments and premium investment products for high-value customers, are critical to address distinct priorities."
   ]
  },
  {
   "cell_type": "markdown",
   "metadata": {},
   "source": [
    "#### **Product Usage Across Customer Segments**"
   ]
  },
  {
   "cell_type": "code",
   "execution_count": null,
   "metadata": {},
   "outputs": [],
   "source": [
    "# Calculating the average product ownership for each segment across specified product columns\n",
    "product_columns = ['has_investment_product', 'has_credit_card', \n",
    "                   'has_personal_loan', 'has_fixed_deposit', 'has_insurance']\n",
    "\n",
    "usage_summary = df.groupby('Segment')[product_columns].mean()\n",
    "print(\"Product Usage Proportions by Segment:\")\n",
    "print(usage_summary)"
   ]
  },
  {
   "cell_type": "code",
   "execution_count": null,
   "metadata": {},
   "outputs": [],
   "source": [
    "# Barplot of product usage proportions by customer segment\n",
    "usage_summary_reset = usage_summary.reset_index()\n",
    "usage_melted = usage_summary_reset.melt(id_vars='Segment', \n",
    "                                         var_name='Product', \n",
    "                                         value_name='Proportion')\n",
    "\n",
    "plt.figure(figsize=(12, 6))\n",
    "ax = sns.barplot(data=usage_melted, x='Product', y='Proportion', hue='Segment')\n",
    "plt.title('Product Usage Proportions by Customer Segment')\n",
    "plt.ylabel('Proportion of Customers Owning Product')\n",
    "plt.xlabel('Product')\n",
    "plt.legend(title='Segment')\n",
    "plt.xticks(rotation=45)\n",
    "\n",
    "for p in ax.patches:\n",
    "    ax.annotate(f'{p.get_height():.2f}', \n",
    "                (p.get_x() + p.get_width() / 2., p.get_height()), \n",
    "                ha='center', va='center', \n",
    "                color='black', fontsize=10, \n",
    "                xytext=(0, 5), textcoords='offset points')  # Adjust label position slightly above the bar\n",
    "\n",
    "plt.tight_layout()\n",
    "plt.show()"
   ]
  },
  {
   "cell_type": "code",
   "execution_count": null,
   "metadata": {},
   "outputs": [],
   "source": [
    "# Heatmap of product usage proportions by customer segment\n",
    "plt.figure(figsize=(8, 6))\n",
    "sns.heatmap(usage_summary, annot=True, cmap='coolwarm', fmt='.2f')\n",
    "plt.title('Heatmap of Product Usage Proportions by Segment')\n",
    "plt.ylabel('Customer Segment')\n",
    "plt.xlabel('Product')\n",
    "plt.show()"
   ]
  },
  {
   "cell_type": "code",
   "execution_count": null,
   "metadata": {},
   "outputs": [],
   "source": [
    "# Performing Chi-square test for statistical significance in product usage differences across segments\n",
    "for product in product_columns:\n",
    "    print(f\"Chi-Square Test for {product}\")\n",
    "    \n",
    "    ct = pd.crosstab(df['Segment'], df[product])\n",
    "    print(\"Contingency Table:\")\n",
    "    print(ct)\n",
    "    \n",
    "    chi2, p, dof, expected = stats.chi2_contingency(ct)\n",
    "\n",
    "    print(f\"Chi-square Statistic: {chi2:.4f}\")\n",
    "    print(f\"Degrees of Freedom: {dof}\")\n",
    "    print(f\"p-value: {p:.4f}\")\n",
    "    print(\"Expected Frequencies:\")\n",
    "    print(expected)\n",
    "    \n",
    "    if p < 0.05:\n",
    "        print(\"=> The difference in usage across segments is statistically significant.\")\n",
    "    else:\n",
    "        print(\"=> The difference in usage across segments is not statistically significant.\")"
   ]
  },
  {
   "cell_type": "markdown",
   "metadata": {},
   "source": [
    "**Summary of key findings:**\n",
    "\n",
    "- High-value customers show strong adoption of premium products (credit cards, insurance, home loans), reflecting financial stability and diverse needs.\n",
    "\n",
    "- Budget-conscious customers prioritize essentials (credit cards, personal loans) but underutilize investments, signaling a focus on affordability. \n",
    "\n",
    "- At-risk customers rely heavily on personal loans and lack in savings/insurance, highlighting debt-driven financial stress. \n",
    "\n",
    "- Fixed deposits show no significant segment differences, acting as a universal safe option.\n",
    "\n",
    "Marketing can be tailored to upsell premium services for high-value customers, promote debt management tools for at-risk groups, and incentivize savings/credit products for budget-conscious users to align with segment-specific behaviors and needs."
   ]
  },
  {
   "cell_type": "markdown",
   "metadata": {},
   "source": [
    "#### **Transaction History Across Customer Segments**"
   ]
  },
  {
   "cell_type": "code",
   "execution_count": null,
   "metadata": {},
   "outputs": [],
   "source": [
    "# Calculating the count of transactions for each segment\n",
    "tx_counts = df.groupby('Segment').size().reset_index(name='tx_count')\n",
    "print(tx_counts)\n",
    "\n",
    "# Calculating the count of transactions for each customer in each segment\n",
    "customer_tx = df.groupby(['customer_id', 'Segment']).size().reset_index(name='tx_count')\n",
    "print(customer_tx)\n",
    "\n",
    "# Calculating the average transaction count per segment\n",
    "avg_tx_count_by_segment = customer_tx.groupby('Segment')['tx_count'].mean().reset_index()\n",
    "print(avg_tx_count_by_segment)"
   ]
  },
  {
   "cell_type": "code",
   "execution_count": null,
   "metadata": {},
   "outputs": [],
   "source": [
    "# Calculating the distribution of transaction types across segments\n",
    "tx_type_distribution = pd.crosstab(df['Segment'], df['transaction_type'])\n",
    "print(tx_type_distribution)\n",
    "\n",
    "# Calculating the percentage of each transaction type within each segment\n",
    "tx_type_percent = pd.crosstab(df['Segment'], df['transaction_type'], normalize='index') * 100\n",
    "print(tx_type_percent)"
   ]
  },
  {
   "cell_type": "code",
   "execution_count": null,
   "metadata": {},
   "outputs": [],
   "source": [
    "# Calculating the distribution of money flow across segments\n",
    "flow_distribution = pd.crosstab(df['Segment'], df['money_flow'])\n",
    "print(flow_distribution)\n",
    "\n",
    "# Calculating the percentage of money flow within each segment\n",
    "flow_percent = pd.crosstab(df['Segment'], df['money_flow'], normalize='index') * 100\n",
    "print(flow_percent)"
   ]
  },
  {
   "cell_type": "code",
   "execution_count": null,
   "metadata": {},
   "outputs": [],
   "source": [
    "fig, ax = plt.subplots(1, 2, figsize=(16, 6))\n",
    "\n",
    "# Barplot of the average transaction count by customer segment\n",
    "sns.barplot(data=avg_tx_count_by_segment, x='Segment', y='tx_count', palette='viridis', ax=ax[0])\n",
    "ax[0].set_xlabel('Customer Segment')\n",
    "ax[0].set_ylabel('Average Transaction Count')\n",
    "ax[0].set_title('Average Transaction Count by Customer Segment')\n",
    "\n",
    "for p in ax[0].patches:\n",
    "    ax[0].annotate(f'{p.get_height():.2f}', \n",
    "                   (p.get_x() + p.get_width() / 2., p.get_height()), \n",
    "                   ha='center', va='center', \n",
    "                   color='black', fontsize=10, \n",
    "                   xytext=(0, 5), textcoords='offset points') \n",
    "\n",
    "# Barplot of the average transaction value by customer segment\n",
    "avg_transaction_value = df.groupby('Segment')['transaction_amt'].mean().reset_index()\n",
    "bars = ax[1].bar(avg_transaction_value['Segment'], avg_transaction_value['transaction_amt'], \n",
    "                 color=['skyblue', 'lightgreen', 'lightcoral'])\n",
    "ax[1].set_xlabel('Customer Segment')\n",
    "ax[1].set_ylabel('Average Transaction Value')\n",
    "ax[1].set_title('Average Transaction Value by Customer Segment')\n",
    "\n",
    "for bar in bars:\n",
    "    ax[1].text(bar.get_x() + bar.get_width() / 2, \n",
    "               bar.get_height(), \n",
    "               f'{bar.get_height():.2f}', \n",
    "               ha='center', \n",
    "               va='bottom', \n",
    "               fontsize=10, \n",
    "               color='black')\n",
    "\n",
    "plt.tight_layout()\n",
    "plt.show()"
   ]
  },
  {
   "cell_type": "code",
   "execution_count": null,
   "metadata": {},
   "outputs": [],
   "source": [
    "# Grouping by segment and money flow, and summing the transaction amount within each combination\n",
    "money_summary = df.groupby(['Segment', 'money_flow'])['transaction_amt'].sum().reset_index()\n",
    "\n",
    "# Calculating the percentage of each money flow type within each segment based on transaction amount\n",
    "money_summary['percentage'] = money_summary.groupby('Segment')['transaction_amt'].transform(lambda x: x / x.sum() * 100)\n",
    "print(money_summary)\n",
    "\n",
    "# Transforming the money flow percentage data to a long format for easier comparison across segments\n",
    "flow_percent.reset_index(inplace=True)\n",
    "flow_percent_melted = flow_percent.melt(id_vars='Segment', var_name='money_flow', value_name='percentage')\n",
    "print(flow_percent_melted)"
   ]
  },
  {
   "cell_type": "code",
   "execution_count": null,
   "metadata": {},
   "outputs": [],
   "source": [
    "fig, ax = plt.subplots(1, 2, figsize=(18, 6))\n",
    "\n",
    "# Bar plot of the percentage of money in vs. money out by customer segment\n",
    "sns.barplot(data=money_summary, x='Segment', y='percentage', hue='money_flow', palette='viridis', ax=ax[0])\n",
    "\n",
    "for container in ax[0].containers:\n",
    "    ax[0].bar_label(container, fmt='%.2f%%', padding=3)\n",
    "\n",
    "ax[0].set_xlabel('Customer Segment')\n",
    "ax[0].set_ylabel('Percentage of Money Flow (%)')\n",
    "ax[0].set_title('Percentage of Money In vs. Money Out by Customer Segment')\n",
    "ax[0].legend(title='Money Flow')\n",
    "\n",
    "# Bar plot of the percentage of transaction counts for money in vs. money out by customer segment\n",
    "sns.barplot(data=flow_percent_melted, x='Segment', y='percentage', hue='money_flow', palette='viridis', ax=ax[1])\n",
    "\n",
    "for container in ax[1].containers:\n",
    "    ax[1].bar_label(container, fmt='%.2f%%', padding=3)\n",
    "\n",
    "ax[1].set_xlabel('Customer Segment')\n",
    "ax[1].set_ylabel('Percentage of Transaction Counts (%)')\n",
    "ax[1].set_title('Percentage of Transaction Counts for Money In vs. Money Out by Customer Segment')\n",
    "ax[1].legend(title='Money Flow')\n",
    "\n",
    "plt.tight_layout()\n",
    "plt.show()"
   ]
  },
  {
   "cell_type": "markdown",
   "metadata": {},
   "source": [
    "**Summary of key findings:**\n",
    "\n",
    "- High-value customers lead in transaction frequency and value, reflecting premium financial activity. \n",
    "\n",
    "- Budget-conscious users show moderate engagement with balanced money flow, indicating stable budgeting. \n",
    "\n",
    "- At-risk customers exhibit minimal activity and skewed outflows, signaling financial stress.  \n",
    "\n",
    "Prioritization of loyalty incentives for high-value clients, promotion of savings tools for budget-conscious users, and offering debt relief programs for at-risk segments can help to enhance retention and financial health."
   ]
  },
  {
   "cell_type": "markdown",
   "metadata": {},
   "source": [
    "#### **Digital Engagement Across Customer Segments**"
   ]
  },
  {
   "cell_type": "code",
   "execution_count": null,
   "metadata": {},
   "outputs": [],
   "source": [
    "# Barplot of the engagement rate for each customer segment\n",
    "fig, ax = plt.subplots(1, 2, figsize=(14, 7))\n",
    "sns.barplot(x='Segment', y='has_mobile_app', data=df, ax=ax[0])\n",
    "ax[0].set_title('Mobile App Usage Across Segments')\n",
    "\n",
    "for p in ax[0].patches:\n",
    "    ax[0].annotate(f'{p.get_height():.2f}', \n",
    "                   (p.get_x() + p.get_width() / 2., p.get_height()), \n",
    "                   ha='center', va='center', \n",
    "                   color='black', fontsize=10, \n",
    "                   xytext=(0, 20), textcoords='offset points')\n",
    "\n",
    "sns.barplot(x='Segment', y='has_web_account', data=df, ax=ax[1])\n",
    "ax[1].set_title('Web Account Usage Across Segments')\n",
    "\n",
    "for p in ax[1].patches:\n",
    "    ax[1].annotate(f'{p.get_height():.2f}', \n",
    "                   (p.get_x() + p.get_width() / 2., p.get_height()), \n",
    "                   ha='center', va='center', \n",
    "                   color='black', fontsize=10, \n",
    "                   xytext=(0, 20), textcoords='offset points')\n",
    "\n",
    "plt.tight_layout()\n",
    "plt.show()"
   ]
  },
  {
   "cell_type": "code",
   "execution_count": null,
   "metadata": {},
   "outputs": [],
   "source": [
    "# Grouping by segment and computing the most recent usage date for mobile and web\n",
    "recency_metrics = df.groupby('Segment').agg({\n",
    "    'last_mobile_use': 'max',\n",
    "    'last_web_use': 'max'\n",
    "})\n",
    "\n",
    "print(recency_metrics)"
   ]
  },
  {
   "cell_type": "code",
   "execution_count": null,
   "metadata": {},
   "outputs": [],
   "source": [
    "# Boxplot of mobile and web engagement ratio across customer segments\n",
    "sns.boxplot(x='Segment', y='mobile_web_ratio', data=df)\n",
    "plt.title('Mobile vs Web Engagement Ratio Across Segments')\n",
    "plt.show()"
   ]
  },
  {
   "cell_type": "code",
   "execution_count": null,
   "metadata": {},
   "outputs": [],
   "source": [
    "# Identifying inactive users (those with no mobile or web logins)\n",
    "inactive_users = df[(df['mobile_logins_wk'] == 0) & (df['web_logins_wk'] == 0)]\n",
    "inactive_by_segment = inactive_users.groupby('Segment').size()\n",
    "print(inactive_by_segment)"
   ]
  },
  {
   "cell_type": "markdown",
   "metadata": {},
   "source": [
    "**Summary of key insights:**  \n",
    "\n",
    "- High-value customers show the highest mobile app engagement and mobile-web ratio, indicating strong digital adoption. \n",
    "\n",
    "- Budget-conscious users have moderate engagement but include inactive users requiring re-engagement. \n",
    "\n",
    "- At-risk/inactive customers lag in mobile activity and show older mobile logins.  \n",
    "\n",
    "Prioritizing mobile-exclusive perks for high-value clients, incentivizing app logins for budget-conscious inactive users, and simplifying digital tools for at-risk segments can help to boost engagement."
   ]
  },
  {
   "cell_type": "markdown",
   "metadata": {},
   "source": [
    "#### **Targeted Marketing Approaches for each Customer Segment**"
   ]
  },
  {
   "cell_type": "markdown",
   "metadata": {},
   "source": [
    "High-value customers drive growth, budget-conscious need stability, and at-risk segments require urgent support to prevent churn."
   ]
  },
  {
   "cell_type": "markdown",
   "metadata": {},
   "source": [
    "**1. High-Value Customers**  \n",
    "\n",
    "Objective: Retain loyalty, deepen engagement, and cross-sell premium products.  \n",
    "\n",
    "Advocacy:  \n",
    "- Launch a referral programme (e.g. reward promoters with travel miles or cashback for referrals).  \n",
    "- Convert passives with exclusive wealth management perks (e.g. priority access to financial advisors).  \n",
    "\n",
    "Product Strategy:  \n",
    "- Promote asset-building products (e.g. mortgages, business loans) and insurance bundles (life + property insurance).  \n",
    "- Cross-sell miscellaneous loans (e.g. luxury travel financing) to cater to diverse needs.  \n",
    "\n",
    "Digital Engagement:  \n",
    "  - Offer app-exclusive deals (e.g. lower interest rates for investments made via mobile).  \n",
    "  - Highlight real-time portfolio tracking and premium features in-app.  "
   ]
  },
  {
   "cell_type": "markdown",
   "metadata": {},
   "source": [
    "**2. Budget-Conscious Customers**  \n",
    "\n",
    "Objective: Reduce dissatisfaction, improve financial stability, and incentivize savings.  \n",
    "\n",
    "Address Pain Points:  \n",
    "- Target detractors with cost-saving tools (e.g. fee waivers for maintaining a savings balance).  \n",
    "- Offer debt consolidation loans and cashback on essential spending (groceries, utilities).  \n",
    "\n",
    "Product Strategy:  \n",
    "- Promote fixed deposits with higher interest rates for consistent savers.  \n",
    "- Introduce low-risk investment products (e.g. index funds) via email/SMS campaigns.  \n",
    "\n",
    "Digital Engagement:  \n",
    "- Re-engage inactive users with login rewards (e.g. $5 bonus for weekly app logins).  \n",
    "- Simplify budgeting tools on mobile/web for easier debt management.  "
   ]
  },
  {
   "cell_type": "markdown",
   "metadata": {},
   "source": [
    "**3. At-Risk/Inactive Customers**  \n",
    "\n",
    "Objective: Mitigate financial strain, rebuild trust, and reactivate engagement. \n",
    "\n",
    "Crisis Interventions:  \n",
    "- Provide debt relief programs (e.g. interest-free grace periods, restructuring).  \n",
    "- Offer free financial counseling (e.g. credit score workshops via webinars).  \n",
    "\n",
    "Product Strategy:  \n",
    "- Push debt management tools (e.g. automated payment reminders with fee waivers).  \n",
    "- Simplify product terms (e.g. no-fee basic accounts) to reduce complexity.  \n",
    "\n",
    "Digital Engagement:  \n",
    "- Streamline mobile/web interfaces for easier navigation (e.g. one-click payment options).  \n",
    "- Trigger reactivation campaigns (e.g. \"We miss you\" SMS with small-balance loan offers).  "
   ]
  },
  {
   "cell_type": "markdown",
   "metadata": {},
   "source": [
    "**Cross-Segment Priorities**  \n",
    "- Passive Customers:  \n",
    "  - All Segments: Offer tiered incentives (e.g. cashback for increased transaction frequency).  \n",
    "- Underutilized Products:  \n",
    "  - Test lifestyle/personal loan promotions.  "
   ]
  }
 ],
 "metadata": {
  "kernelspec": {
   "display_name": "Python 3",
   "language": "python",
   "name": "python3"
  },
  "language_info": {
   "codemirror_mode": {
    "name": "ipython",
    "version": 3
   },
   "file_extension": ".py",
   "mimetype": "text/x-python",
   "name": "python",
   "nbconvert_exporter": "python",
   "pygments_lexer": "ipython3",
   "version": "3.10.6"
  }
 },
 "nbformat": 4,
 "nbformat_minor": 2
}
