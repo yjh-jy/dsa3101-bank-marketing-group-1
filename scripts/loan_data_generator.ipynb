{
 "cells": [
  {
   "cell_type": "code",
   "execution_count": 1,
   "metadata": {},
   "outputs": [],
   "source": [
    "import pandas as pd\n",
    "import numpy as np\n",
    "import random as rd\n",
    "import scipy.stats as stats\n",
    "from matplotlib import pyplot as plt\n",
    "import seaborn as sns\n",
    "from datetime import date, timedelta\n",
    "from random import choices\n",
    "import random\n",
    "\n",
    "pd.set_option('display.max_columns', None)\n",
    "# Set random seed for reproducibility\n",
    "np.random.seed(888)"
   ]
  },
  {
   "cell_type": "code",
   "execution_count": null,
   "metadata": {},
   "outputs": [
    {
     "data": {
      "text/html": [
       "<div>\n",
       "<style scoped>\n",
       "    .dataframe tbody tr th:only-of-type {\n",
       "        vertical-align: middle;\n",
       "    }\n",
       "\n",
       "    .dataframe tbody tr th {\n",
       "        vertical-align: top;\n",
       "    }\n",
       "\n",
       "    .dataframe thead th {\n",
       "        text-align: right;\n",
       "    }\n",
       "</style>\n",
       "<table border=\"1\" class=\"dataframe\">\n",
       "  <thead>\n",
       "    <tr style=\"text-align: right;\">\n",
       "      <th></th>\n",
       "      <th>loan_id</th>\n",
       "      <th>customer_id</th>\n",
       "      <th>loan_amount</th>\n",
       "      <th>loan_purpose</th>\n",
       "      <th>due_date</th>\n",
       "      <th>paid_off_date</th>\n",
       "    </tr>\n",
       "  </thead>\n",
       "  <tbody>\n",
       "  </tbody>\n",
       "</table>\n",
       "</div>"
      ],
      "text/plain": [
       "Empty DataFrame\n",
       "Columns: [loan_id, customer_id, loan_amount, loan_purpose, due_date, paid_off_date]\n",
       "Index: []"
      ]
     },
     "execution_count": 2,
     "metadata": {},
     "output_type": "execute_result"
    }
   ],
   "source": [
    "# Initalising the DataFrame \n",
    "s = pd.read_csv(\"../../data/raw/loan_data_train.csv\")\n",
    "df = pd.DataFrame( \n",
    "    columns = ['loan_id', \n",
    "              'customer_id', \n",
    "              'loan_amount',\n",
    "              'loan_purpose',\n",
    "              'due_date',\n",
    "              'paid_off_date',\n",
    "              ])\n",
    "df"
   ]
  },
  {
   "cell_type": "code",
   "execution_count": 3,
   "metadata": {},
   "outputs": [],
   "source": [
    "# Only extracting the loan purpose and loan amount variables\n",
    "s = s[['Loan.Purpose', 'Amount.Requested']]\n",
    "\n",
    "# Merging some values together and removing confusing values and dropping nans\n",
    "cond = s['Loan.Purpose'].isin(['house', 'moving', 'home_improvement'])\n",
    "s['Loan.Purpose'].mask(cond, 'housing-related', inplace=True)\n",
    "s['Loan.Purpose'].replace('renewable_energy', np.nan, inplace=True)\n",
    "s.dropna(inplace=True)\n",
    "s.loc[s[s['Amount.Requested'] == '.'].index, 'Amount.Requested'] = np.nan\n",
    "s['Amount.Requested'] = s['Amount.Requested'].astype('float64')\n",
    "\n",
    "loan_purpose = s['Loan.Purpose']\n",
    "loan_amount = s['Amount.Requested']"
   ]
  },
  {
   "cell_type": "code",
   "execution_count": 4,
   "metadata": {},
   "outputs": [],
   "source": [
    "# Sequentially generate load_ids from 1 to 4000 and mutliplying by 3\n",
    "a = random.sample([i for i in range(1, 4001)], k=int(4000 * 0.66))\n",
    "a = a + a + a \n",
    "df.customer_id = a"
   ]
  },
  {
   "cell_type": "code",
   "execution_count": 5,
   "metadata": {},
   "outputs": [],
   "source": [
    "# Generating the due date \n",
    "indicies = len(df.customer_id)\n",
    "\n",
    "test_date1, test_date2 = date(2026, 1, 1), date(2027, 12, 31)\n",
    "K = indicies\n",
    "res_dates = [test_date1]\n",
    "while test_date1 != test_date2:\n",
    "    test_date1 += timedelta(days=1)\n",
    "    res_dates.append(test_date1)\n",
    "res = choices(res_dates, k=K)\n",
    "\n",
    "df.due_date = res\n",
    "\n",
    "# Generating the paid off date\n",
    "indicies = len(df.customer_id)\n",
    "\n",
    "test_date1, test_date2 = date(2024, 1, 1), date(2024, 12, 31)\n",
    "K = indicies\n",
    "res_dates = [test_date1]\n",
    "while test_date1 != test_date2:\n",
    "    test_date1 += timedelta(days=1)\n",
    "    res_dates.append(test_date1)\n",
    "res = choices(res_dates, k=K)\n",
    "\n",
    "df.paid_off_date = res"
   ]
  },
  {
   "cell_type": "code",
   "execution_count": 6,
   "metadata": {},
   "outputs": [],
   "source": [
    "# Randomly replacing the paid off date with NaNs\n",
    "unique_cust = df.customer_id.unique()\n",
    "indicies = random.sample(list(unique_cust), k=int(len(unique_cust)*0.6))\n",
    "df.loc[indicies, 'paid_off_date'] = np.nan\n",
    "\n",
    "# Generating the loan id\n",
    "df.loan_id = [i for i in range(1, 7921)]\n",
    "\n",
    "loan_purpose = random.choices(list(loan_purpose), k=7920)\n",
    "loan_amount = random.choices(list(loan_amount), k=7920)"
   ]
  },
  {
   "cell_type": "code",
   "execution_count": 7,
   "metadata": {},
   "outputs": [],
   "source": [
    "df.loan_amount = loan_amount\n",
    "df.loan_purpose = loan_purpose"
   ]
  },
  {
   "cell_type": "code",
   "execution_count": 8,
   "metadata": {},
   "outputs": [
    {
     "data": {
      "text/plain": [
       "(array([ 0,  1,  2,  3,  4,  5,  6,  7,  8,  9, 10]),\n",
       " [Text(0, 0, 'debt_consolidation'),\n",
       "  Text(1, 0, 'credit_card'),\n",
       "  Text(2, 0, 'medical'),\n",
       "  Text(3, 0, 'major_purchase'),\n",
       "  Text(4, 0, 'other'),\n",
       "  Text(5, 0, 'small_business'),\n",
       "  Text(6, 0, 'housing-related'),\n",
       "  Text(7, 0, 'car'),\n",
       "  Text(8, 0, 'wedding'),\n",
       "  Text(9, 0, 'vacation'),\n",
       "  Text(10, 0, 'educational')])"
      ]
     },
     "execution_count": 8,
     "metadata": {},
     "output_type": "execute_result"
    },
    {
     "data": {
      "image/png": "[encoded data removed]",
      "text/plain": [
       "<Figure size 640x480 with 1 Axes>"
      ]
     },
     "metadata": {},
     "output_type": "display_data"
    }
   ],
   "source": [
    "sns.barplot(data=df, x='loan_purpose', y='loan_amount')\n",
    "plt.xticks(rotation=90)"
   ]
  },
  {
   "cell_type": "code",
   "execution_count": 9,
   "metadata": {},
   "outputs": [],
   "source": [
    "df.to_csv(\"../../data/processed/loans.csv\")"
   ]
  }
 ],
 "metadata": {
  "kernelspec": {
   "display_name": ".venv",
   "language": "python",
   "name": "python3"
  },
  "language_info": {
   "codemirror_mode": {
    "name": "ipython",
    "version": 3
   },
   "file_extension": ".py",
   "mimetype": "text/x-python",
   "name": "python",
   "nbconvert_exporter": "python",
   "pygments_lexer": "ipython3",
   "version": "3.10.6"
  }
 },
 "nbformat": 4,
 "nbformat_minor": 2
}
