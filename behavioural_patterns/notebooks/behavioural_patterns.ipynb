{
 "cells": [
  {
   "cell_type": "markdown",
   "metadata": {},
   "source": [
    "#### **Importing Packages**"
   ]
  },
  {
   "cell_type": "code",
   "execution_count": 1,
   "metadata": {},
   "outputs": [],
   "source": [
    "import pandas as pd\n",
    "import numpy as np\n",
    "import seaborn as sns\n",
    "import matplotlib.pyplot as plt\n",
    "import scipy.stats as stats"
   ]
  },
  {
   "cell_type": "markdown",
   "metadata": {},
   "source": [
    "#### **Reading in Datasets**"
   ]
  },
  {
   "cell_type": "code",
   "execution_count": 2,
   "metadata": {},
   "outputs": [],
   "source": [
    "customers = pd.read_csv(\"../../data/processed/customer.csv\")\n",
    "digital_usage = pd.read_csv(\"../../data/processed/digital_usage.csv\")\n",
    "loans = pd.read_csv(\"../../data/processed/loans.csv\")\n",
    "products = pd.read_csv(\"../../data/processed/products_owned.csv\")\n",
    "transactions = pd.read_csv(\"../../data/processed/transactions.csv\")\n",
    "segments = pd.read_csv(\"../../customer_segmentation/customer_segments.csv\")"
   ]
  },
  {
   "cell_type": "markdown",
   "metadata": {},
   "source": [
    "#### **Data Inspection & Preparation**"
   ]
  },
  {
   "cell_type": "markdown",
   "metadata": {},
   "source": [
    "##### Customers Dataset"
   ]
  },
  {
   "cell_type": "code",
   "execution_count": 3,
   "metadata": {},
   "outputs": [],
   "source": [
    "# Merging segments and customers datasets\n",
    "df = pd.merge(segments, customers, on = 'customer_id')"
   ]
  },
  {
   "cell_type": "code",
   "execution_count": 4,
   "metadata": {},
   "outputs": [
    {
     "name": "stdout",
     "output_type": "stream",
     "text": [
      "Dimensions: (4000, 14)\n"
     ]
    },
    {
     "data": {
      "text/html": [
       "<div>\n",
       "<style scoped>\n",
       "    .dataframe tbody tr th:only-of-type {\n",
       "        vertical-align: middle;\n",
       "    }\n",
       "\n",
       "    .dataframe tbody tr th {\n",
       "        vertical-align: top;\n",
       "    }\n",
       "\n",
       "    .dataframe thead th {\n",
       "        text-align: right;\n",
       "    }\n",
       "</style>\n",
       "<table border=\"1\" class=\"dataframe\">\n",
       "  <thead>\n",
       "    <tr style=\"text-align: right;\">\n",
       "      <th></th>\n",
       "      <th>customer_id</th>\n",
       "      <th>Segment</th>\n",
       "      <th>age</th>\n",
       "      <th>job</th>\n",
       "      <th>marital</th>\n",
       "      <th>education</th>\n",
       "      <th>default</th>\n",
       "      <th>balance</th>\n",
       "      <th>debt</th>\n",
       "      <th>income</th>\n",
       "      <th>tenure</th>\n",
       "      <th>nps</th>\n",
       "      <th>dependents</th>\n",
       "      <th>customer_lifetime_value</th>\n",
       "    </tr>\n",
       "  </thead>\n",
       "  <tbody>\n",
       "    <tr>\n",
       "      <th>0</th>\n",
       "      <td>217</td>\n",
       "      <td>Budget-conscious</td>\n",
       "      <td>33</td>\n",
       "      <td>unemployed</td>\n",
       "      <td>single</td>\n",
       "      <td>primary</td>\n",
       "      <td>1</td>\n",
       "      <td>-23869.04</td>\n",
       "      <td>15283.08</td>\n",
       "      <td>277.46</td>\n",
       "      <td>26</td>\n",
       "      <td>10</td>\n",
       "      <td>1</td>\n",
       "      <td>243.87</td>\n",
       "    </tr>\n",
       "    <tr>\n",
       "      <th>1</th>\n",
       "      <td>179</td>\n",
       "      <td>Budget-conscious</td>\n",
       "      <td>32</td>\n",
       "      <td>retired</td>\n",
       "      <td>single</td>\n",
       "      <td>secondary</td>\n",
       "      <td>1</td>\n",
       "      <td>-16434.66</td>\n",
       "      <td>12630.49</td>\n",
       "      <td>716.15</td>\n",
       "      <td>24</td>\n",
       "      <td>9</td>\n",
       "      <td>3</td>\n",
       "      <td>259.91</td>\n",
       "    </tr>\n",
       "    <tr>\n",
       "      <th>2</th>\n",
       "      <td>81</td>\n",
       "      <td>At risk / inactive customers</td>\n",
       "      <td>20</td>\n",
       "      <td>unemployed</td>\n",
       "      <td>single</td>\n",
       "      <td>secondary</td>\n",
       "      <td>1</td>\n",
       "      <td>-11910.44</td>\n",
       "      <td>21609.58</td>\n",
       "      <td>539.38</td>\n",
       "      <td>10</td>\n",
       "      <td>8</td>\n",
       "      <td>3</td>\n",
       "      <td>224.93</td>\n",
       "    </tr>\n",
       "    <tr>\n",
       "      <th>3</th>\n",
       "      <td>50</td>\n",
       "      <td>At risk / inactive customers</td>\n",
       "      <td>35</td>\n",
       "      <td>unemployed</td>\n",
       "      <td>single</td>\n",
       "      <td>tertiary</td>\n",
       "      <td>1</td>\n",
       "      <td>-10332.25</td>\n",
       "      <td>47532.55</td>\n",
       "      <td>269.77</td>\n",
       "      <td>27</td>\n",
       "      <td>0</td>\n",
       "      <td>3</td>\n",
       "      <td>355.19</td>\n",
       "    </tr>\n",
       "    <tr>\n",
       "      <th>4</th>\n",
       "      <td>13</td>\n",
       "      <td>Budget-conscious</td>\n",
       "      <td>35</td>\n",
       "      <td>student</td>\n",
       "      <td>single</td>\n",
       "      <td>secondary</td>\n",
       "      <td>1</td>\n",
       "      <td>-8003.47</td>\n",
       "      <td>36324.75</td>\n",
       "      <td>522.33</td>\n",
       "      <td>27</td>\n",
       "      <td>9</td>\n",
       "      <td>1</td>\n",
       "      <td>299.71</td>\n",
       "    </tr>\n",
       "  </tbody>\n",
       "</table>\n",
       "</div>"
      ],
      "text/plain": [
       "   customer_id                       Segment  age         job marital  \\\n",
       "0          217              Budget-conscious   33  unemployed  single   \n",
       "1          179              Budget-conscious   32     retired  single   \n",
       "2           81  At risk / inactive customers   20  unemployed  single   \n",
       "3           50  At risk / inactive customers   35  unemployed  single   \n",
       "4           13              Budget-conscious   35     student  single   \n",
       "\n",
       "   education  default   balance      debt  income  tenure  nps  dependents  \\\n",
       "0    primary        1 -23869.04  15283.08  277.46      26   10           1   \n",
       "1  secondary        1 -16434.66  12630.49  716.15      24    9           3   \n",
       "2  secondary        1 -11910.44  21609.58  539.38      10    8           3   \n",
       "3   tertiary        1 -10332.25  47532.55  269.77      27    0           3   \n",
       "4  secondary        1  -8003.47  36324.75  522.33      27    9           1   \n",
       "\n",
       "   customer_lifetime_value  \n",
       "0                   243.87  \n",
       "1                   259.91  \n",
       "2                   224.93  \n",
       "3                   355.19  \n",
       "4                   299.71  "
      ]
     },
     "execution_count": 4,
     "metadata": {},
     "output_type": "execute_result"
    }
   ],
   "source": [
    "print(\"Dimensions:\", df.shape)\n",
    "df.head()"
   ]
  },
  {
   "cell_type": "code",
   "execution_count": 5,
   "metadata": {},
   "outputs": [
    {
     "name": "stdout",
     "output_type": "stream",
     "text": [
      "DataFrame Structure:\n",
      "<class 'pandas.core.frame.DataFrame'>\n",
      "RangeIndex: 4000 entries, 0 to 3999\n",
      "Data columns (total 14 columns):\n",
      " #   Column                   Non-Null Count  Dtype  \n",
      "---  ------                   --------------  -----  \n",
      " 0   customer_id              4000 non-null   int64  \n",
      " 1   Segment                  4000 non-null   object \n",
      " 2   age                      4000 non-null   int64  \n",
      " 3   job                      4000 non-null   object \n",
      " 4   marital                  4000 non-null   object \n",
      " 5   education                4000 non-null   object \n",
      " 6   default                  4000 non-null   int64  \n",
      " 7   balance                  4000 non-null   float64\n",
      " 8   debt                     4000 non-null   float64\n",
      " 9   income                   4000 non-null   float64\n",
      " 10  tenure                   4000 non-null   int64  \n",
      " 11  nps                      4000 non-null   int64  \n",
      " 12  dependents               4000 non-null   int64  \n",
      " 13  customer_lifetime_value  4000 non-null   float64\n",
      "dtypes: float64(4), int64(6), object(4)\n",
      "memory usage: 437.6+ KB\n"
     ]
    }
   ],
   "source": [
    "print(\"DataFrame Structure:\")\n",
    "df.info()"
   ]
  },
  {
   "cell_type": "code",
   "execution_count": 6,
   "metadata": {},
   "outputs": [
    {
     "name": "stdout",
     "output_type": "stream",
     "text": [
      "Descriptive Statistics:\n",
      "               age      default        balance           debt        income  \\\n",
      "count  4000.000000  4000.000000    4000.000000    4000.000000   4000.000000   \n",
      "mean     39.802000     0.161250    1955.631387   25536.410247   4926.078810   \n",
      "std      10.342608     0.367807    7637.884812   24517.833775   3288.695279   \n",
      "min      18.000000     0.000000  -23869.040000    1007.770000    200.470000   \n",
      "25%      32.000000     0.000000      70.605000   10315.447500   2692.537500   \n",
      "50%      39.000000     0.000000     354.820000   18392.535000   4082.075000   \n",
      "75%      47.000000     0.000000    1392.977500   32017.870000   6256.390000   \n",
      "max      77.000000     1.000000  202759.360000  421994.640000  31448.860000   \n",
      "\n",
      "            tenure          nps   dependents  customer_lifetime_value  \n",
      "count  4000.000000  4000.000000  4000.000000              4000.000000  \n",
      "mean     32.335750     6.888500     2.339500               730.801637  \n",
      "std       7.992965     3.443767     1.299485               295.538565  \n",
      "min       4.000000     0.000000     0.000000                50.690000  \n",
      "25%      27.000000     5.000000     1.000000               528.937500  \n",
      "50%      36.000000     8.000000     2.000000               745.530000  \n",
      "75%      36.000000    10.000000     3.000000               965.260000  \n",
      "max      61.000000    10.000000     5.000000              1299.710000  \n"
     ]
    },
    {
     "data": {
      "text/html": [
       "<div>\n",
       "<style scoped>\n",
       "    .dataframe tbody tr th:only-of-type {\n",
       "        vertical-align: middle;\n",
       "    }\n",
       "\n",
       "    .dataframe tbody tr th {\n",
       "        vertical-align: top;\n",
       "    }\n",
       "\n",
       "    .dataframe thead th {\n",
       "        text-align: right;\n",
       "    }\n",
       "</style>\n",
       "<table border=\"1\" class=\"dataframe\">\n",
       "  <thead>\n",
       "    <tr style=\"text-align: right;\">\n",
       "      <th></th>\n",
       "      <th>customer_id</th>\n",
       "      <th>Segment</th>\n",
       "      <th>age</th>\n",
       "      <th>job</th>\n",
       "      <th>marital</th>\n",
       "      <th>education</th>\n",
       "      <th>default</th>\n",
       "      <th>balance</th>\n",
       "      <th>debt</th>\n",
       "      <th>income</th>\n",
       "      <th>tenure</th>\n",
       "      <th>nps</th>\n",
       "      <th>dependents</th>\n",
       "      <th>customer_lifetime_value</th>\n",
       "    </tr>\n",
       "  </thead>\n",
       "  <tbody>\n",
       "    <tr>\n",
       "      <th>0</th>\n",
       "      <td>217</td>\n",
       "      <td>Budget-conscious</td>\n",
       "      <td>33</td>\n",
       "      <td>unemployed</td>\n",
       "      <td>single</td>\n",
       "      <td>primary</td>\n",
       "      <td>1</td>\n",
       "      <td>-23869.04</td>\n",
       "      <td>15283.08</td>\n",
       "      <td>277.46</td>\n",
       "      <td>26</td>\n",
       "      <td>10</td>\n",
       "      <td>1</td>\n",
       "      <td>243.87</td>\n",
       "    </tr>\n",
       "    <tr>\n",
       "      <th>1</th>\n",
       "      <td>179</td>\n",
       "      <td>Budget-conscious</td>\n",
       "      <td>32</td>\n",
       "      <td>retired</td>\n",
       "      <td>single</td>\n",
       "      <td>secondary</td>\n",
       "      <td>1</td>\n",
       "      <td>-16434.66</td>\n",
       "      <td>12630.49</td>\n",
       "      <td>716.15</td>\n",
       "      <td>24</td>\n",
       "      <td>9</td>\n",
       "      <td>3</td>\n",
       "      <td>259.91</td>\n",
       "    </tr>\n",
       "    <tr>\n",
       "      <th>2</th>\n",
       "      <td>81</td>\n",
       "      <td>At risk / inactive customers</td>\n",
       "      <td>20</td>\n",
       "      <td>unemployed</td>\n",
       "      <td>single</td>\n",
       "      <td>secondary</td>\n",
       "      <td>1</td>\n",
       "      <td>-11910.44</td>\n",
       "      <td>21609.58</td>\n",
       "      <td>539.38</td>\n",
       "      <td>10</td>\n",
       "      <td>8</td>\n",
       "      <td>3</td>\n",
       "      <td>224.93</td>\n",
       "    </tr>\n",
       "    <tr>\n",
       "      <th>3</th>\n",
       "      <td>50</td>\n",
       "      <td>At risk / inactive customers</td>\n",
       "      <td>35</td>\n",
       "      <td>unemployed</td>\n",
       "      <td>single</td>\n",
       "      <td>tertiary</td>\n",
       "      <td>1</td>\n",
       "      <td>-10332.25</td>\n",
       "      <td>47532.55</td>\n",
       "      <td>269.77</td>\n",
       "      <td>27</td>\n",
       "      <td>0</td>\n",
       "      <td>3</td>\n",
       "      <td>355.19</td>\n",
       "    </tr>\n",
       "    <tr>\n",
       "      <th>4</th>\n",
       "      <td>13</td>\n",
       "      <td>Budget-conscious</td>\n",
       "      <td>35</td>\n",
       "      <td>student</td>\n",
       "      <td>single</td>\n",
       "      <td>secondary</td>\n",
       "      <td>1</td>\n",
       "      <td>-8003.47</td>\n",
       "      <td>36324.75</td>\n",
       "      <td>522.33</td>\n",
       "      <td>27</td>\n",
       "      <td>9</td>\n",
       "      <td>1</td>\n",
       "      <td>299.71</td>\n",
       "    </tr>\n",
       "  </tbody>\n",
       "</table>\n",
       "</div>"
      ],
      "text/plain": [
       "   customer_id                       Segment  age         job marital  \\\n",
       "0          217              Budget-conscious   33  unemployed  single   \n",
       "1          179              Budget-conscious   32     retired  single   \n",
       "2           81  At risk / inactive customers   20  unemployed  single   \n",
       "3           50  At risk / inactive customers   35  unemployed  single   \n",
       "4           13              Budget-conscious   35     student  single   \n",
       "\n",
       "   education  default   balance      debt  income  tenure  nps  dependents  \\\n",
       "0    primary        1 -23869.04  15283.08  277.46      26   10           1   \n",
       "1  secondary        1 -16434.66  12630.49  716.15      24    9           3   \n",
       "2  secondary        1 -11910.44  21609.58  539.38      10    8           3   \n",
       "3   tertiary        1 -10332.25  47532.55  269.77      27    0           3   \n",
       "4  secondary        1  -8003.47  36324.75  522.33      27    9           1   \n",
       "\n",
       "   customer_lifetime_value  \n",
       "0                   243.87  \n",
       "1                   259.91  \n",
       "2                   224.93  \n",
       "3                   355.19  \n",
       "4                   299.71  "
      ]
     },
     "execution_count": 6,
     "metadata": {},
     "output_type": "execute_result"
    }
   ],
   "source": [
    "print(\"Descriptive Statistics:\")\n",
    "print(df.drop('customer_id', axis=1).describe())\n",
    "df.head()"
   ]
  },
  {
   "cell_type": "code",
   "execution_count": 7,
   "metadata": {},
   "outputs": [],
   "source": [
    "# Converting 'job', 'marital', and 'education' columns to category data type\n",
    "categorical_columns = ['job', 'marital', 'education']\n",
    "for col in categorical_columns:\n",
    "    df[col] = df[col].astype('category')\n",
    "\n",
    "# Creating 'nps_category' column that segments responses into promoters, passives, and detractors\n",
    "nps_bins = [-float('inf'), 6, 8, 10]\n",
    "nps_labels = ['detractor', 'passive', 'promoter']\n",
    "df['nps_category'] = pd.cut(df['nps'], bins=nps_bins, labels=nps_labels)\n",
    "\n",
    "# Dropping the original 'nps' column\n",
    "df.drop(['nps'], axis=1, inplace=True)\n",
    "\n",
    "# Applying log transformation to 'balance', 'debt', and 'income' to scale and stabilize the values\n",
    "df['log_balance'] = np.sign(df['balance']) * np.log1p(np.abs(df['balance']))\n",
    "df['log_debt'] = np.log1p(df['debt'])\n",
    "df['log_income'] = np.log1p(df['income'])\n",
    "\n",
    "# Creating 'debt-to-income' ratio and 'balance-to-debt' ratio columns\n",
    "df['debt_to_income'] = df['log_debt'] / df['log_income']\n",
    "df['balance_to_debt'] = df['log_balance'] / df['log_debt']"
   ]
  },
  {
   "cell_type": "code",
   "execution_count": 8,
   "metadata": {},
   "outputs": [
    {
     "name": "stdout",
     "output_type": "stream",
     "text": [
      "       log_balance     log_debt   log_income  debt_to_income  balance_to_debt\n",
      "count  4000.000000  4000.000000  4000.000000     4000.000000      4000.000000\n",
      "mean      4.487013     9.809940     8.308531        1.187905         0.463488\n",
      "std       4.534018     0.829908     0.633496        0.139580         0.463366\n",
      "min     -10.080379     6.916487     5.305640        0.788346        -1.046272\n",
      "25%       4.271165     9.241495     7.898611        1.090559         0.435337\n",
      "50%       5.874423     9.819754     8.314606        1.177015         0.603848\n",
      "75%       7.239915    10.374081     8.741518        1.271257         0.738792\n",
      "max      12.219780    12.952750    10.356150        1.922634         1.332179\n"
     ]
    }
   ],
   "source": [
    "print(df[['log_balance', 'log_debt', 'log_income', 'debt_to_income', 'balance_to_debt']].describe())"
   ]
  },
  {
   "cell_type": "code",
   "execution_count": 9,
   "metadata": {},
   "outputs": [
    {
     "name": "stdout",
     "output_type": "stream",
     "text": [
      "Job Distribution:\n",
      "job\n",
      "entrepreneur     533\n",
      "unknown          443\n",
      "self-employed    436\n",
      "management       380\n",
      "blue-collar      352\n",
      "technician       352\n",
      "services         324\n",
      "admin.           305\n",
      "housemaid        296\n",
      "retired          273\n",
      "student          165\n",
      "unemployed       141\n",
      "Name: count, dtype: int64\n"
     ]
    }
   ],
   "source": [
    "print(\"Job Distribution:\")\n",
    "print(df['job'].value_counts())"
   ]
  },
  {
   "cell_type": "code",
   "execution_count": 10,
   "metadata": {},
   "outputs": [
    {
     "name": "stdout",
     "output_type": "stream",
     "text": [
      "Marital Status Distribution:\n",
      "marital\n",
      "married     2287\n",
      "single      1269\n",
      "divorced     444\n",
      "Name: count, dtype: int64\n"
     ]
    }
   ],
   "source": [
    "print(\"Marital Status Distribution:\")\n",
    "print(df['marital'].value_counts())"
   ]
  },
  {
   "cell_type": "code",
   "execution_count": 11,
   "metadata": {},
   "outputs": [
    {
     "name": "stdout",
     "output_type": "stream",
     "text": [
      "Education Distribution:\n",
      "education\n",
      "secondary    2088\n",
      "tertiary     1138\n",
      "primary       606\n",
      "unknown       168\n",
      "Name: count, dtype: int64\n"
     ]
    }
   ],
   "source": [
    "print(\"Education Distribution:\")\n",
    "print(df['education'].value_counts())"
   ]
  },
  {
   "cell_type": "markdown",
   "metadata": {},
   "source": [
    "##### Segments Dataset"
   ]
  },
  {
   "cell_type": "code",
   "execution_count": 12,
   "metadata": {},
   "outputs": [
    {
     "name": "stdout",
     "output_type": "stream",
     "text": [
      "Dimensions (4000, 2)\n"
     ]
    },
    {
     "data": {
      "text/html": [
       "<div>\n",
       "<style scoped>\n",
       "    .dataframe tbody tr th:only-of-type {\n",
       "        vertical-align: middle;\n",
       "    }\n",
       "\n",
       "    .dataframe tbody tr th {\n",
       "        vertical-align: top;\n",
       "    }\n",
       "\n",
       "    .dataframe thead th {\n",
       "        text-align: right;\n",
       "    }\n",
       "</style>\n",
       "<table border=\"1\" class=\"dataframe\">\n",
       "  <thead>\n",
       "    <tr style=\"text-align: right;\">\n",
       "      <th></th>\n",
       "      <th>customer_id</th>\n",
       "      <th>Segment</th>\n",
       "    </tr>\n",
       "  </thead>\n",
       "  <tbody>\n",
       "    <tr>\n",
       "      <th>0</th>\n",
       "      <td>217</td>\n",
       "      <td>Budget-conscious</td>\n",
       "    </tr>\n",
       "    <tr>\n",
       "      <th>1</th>\n",
       "      <td>179</td>\n",
       "      <td>Budget-conscious</td>\n",
       "    </tr>\n",
       "    <tr>\n",
       "      <th>2</th>\n",
       "      <td>81</td>\n",
       "      <td>At risk / inactive customers</td>\n",
       "    </tr>\n",
       "    <tr>\n",
       "      <th>3</th>\n",
       "      <td>50</td>\n",
       "      <td>At risk / inactive customers</td>\n",
       "    </tr>\n",
       "    <tr>\n",
       "      <th>4</th>\n",
       "      <td>13</td>\n",
       "      <td>Budget-conscious</td>\n",
       "    </tr>\n",
       "  </tbody>\n",
       "</table>\n",
       "</div>"
      ],
      "text/plain": [
       "   customer_id                       Segment\n",
       "0          217              Budget-conscious\n",
       "1          179              Budget-conscious\n",
       "2           81  At risk / inactive customers\n",
       "3           50  At risk / inactive customers\n",
       "4           13              Budget-conscious"
      ]
     },
     "execution_count": 12,
     "metadata": {},
     "output_type": "execute_result"
    }
   ],
   "source": [
    "print(\"Dimensions\", segments.shape)\n",
    "segments.head()"
   ]
  },
  {
   "cell_type": "code",
   "execution_count": 13,
   "metadata": {},
   "outputs": [
    {
     "name": "stdout",
     "output_type": "stream",
     "text": [
      "Segment Distribution:\n",
      "Segment\n",
      "At risk / inactive customers    1991\n",
      "Budget-conscious                1296\n",
      "High-value                       713\n",
      "Name: count, dtype: int64\n"
     ]
    }
   ],
   "source": [
    "print(\"Segment Distribution:\")\n",
    "print(segments['Segment'].value_counts())"
   ]
  },
  {
   "cell_type": "markdown",
   "metadata": {},
   "source": [
    "#### Products Dataset"
   ]
  },
  {
   "cell_type": "code",
   "execution_count": 14,
   "metadata": {},
   "outputs": [
    {
     "name": "stdout",
     "output_type": "stream",
     "text": [
      "Dimensions: (4000, 2)\n"
     ]
    },
    {
     "data": {
      "text/html": [
       "<div>\n",
       "<style scoped>\n",
       "    .dataframe tbody tr th:only-of-type {\n",
       "        vertical-align: middle;\n",
       "    }\n",
       "\n",
       "    .dataframe tbody tr th {\n",
       "        vertical-align: top;\n",
       "    }\n",
       "\n",
       "    .dataframe thead th {\n",
       "        text-align: right;\n",
       "    }\n",
       "</style>\n",
       "<table border=\"1\" class=\"dataframe\">\n",
       "  <thead>\n",
       "    <tr style=\"text-align: right;\">\n",
       "      <th></th>\n",
       "      <th>customer_id</th>\n",
       "      <th>has_investment_product</th>\n",
       "      <th>has_credit_card</th>\n",
       "      <th>has_fixed_deposit</th>\n",
       "      <th>has_insurance</th>\n",
       "    </tr>\n",
       "  </thead>\n",
       "  <tbody>\n",
       "    <tr>\n",
       "      <th>0</th>\n",
       "      <td>217</td>\n",
       "      <td>1</td>\n",
       "      <td>0</td>\n",
       "      <td>0</td>\n",
       "      <td>0</td>\n",
       "    </tr>\n",
       "    <tr>\n",
       "      <th>1</th>\n",
       "      <td>179</td>\n",
       "      <td>0</td>\n",
       "      <td>1</td>\n",
       "      <td>0</td>\n",
       "      <td>0</td>\n",
       "    </tr>\n",
       "    <tr>\n",
       "      <th>2</th>\n",
       "      <td>81</td>\n",
       "      <td>0</td>\n",
       "      <td>0</td>\n",
       "      <td>1</td>\n",
       "      <td>0</td>\n",
       "    </tr>\n",
       "    <tr>\n",
       "      <th>3</th>\n",
       "      <td>50</td>\n",
       "      <td>0</td>\n",
       "      <td>0</td>\n",
       "      <td>1</td>\n",
       "      <td>1</td>\n",
       "    </tr>\n",
       "    <tr>\n",
       "      <th>4</th>\n",
       "      <td>13</td>\n",
       "      <td>1</td>\n",
       "      <td>0</td>\n",
       "      <td>0</td>\n",
       "      <td>0</td>\n",
       "    </tr>\n",
       "  </tbody>\n",
       "</table>\n",
       "</div>"
      ],
      "text/plain": [
       "   customer_id  has_investment_product  has_credit_card  has_fixed_deposit  \\\n",
       "0          217                       1                0                  0   \n",
       "1          179                       0                1                  0   \n",
       "2           81                       0                0                  1   \n",
       "3           50                       0                0                  1   \n",
       "4           13                       1                0                  0   \n",
       "\n",
       "   has_insurance  \n",
       "0              0  \n",
       "1              0  \n",
       "2              0  \n",
       "3              1  \n",
       "4              0  "
      ]
     },
     "execution_count": 14,
     "metadata": {},
     "output_type": "execute_result"
    }
   ],
   "source": [
    "print(\"Dimensions:\", segments.shape)\n",
    "products.head()"
   ]
  },
  {
   "cell_type": "code",
   "execution_count": 15,
   "metadata": {},
   "outputs": [
    {
     "name": "stdout",
     "output_type": "stream",
     "text": [
      "DataFrame Structure:\n",
      "<class 'pandas.core.frame.DataFrame'>\n",
      "RangeIndex: 4000 entries, 0 to 3999\n",
      "Data columns (total 5 columns):\n",
      " #   Column                  Non-Null Count  Dtype\n",
      "---  ------                  --------------  -----\n",
      " 0   customer_id             4000 non-null   int64\n",
      " 1   has_investment_product  4000 non-null   int64\n",
      " 2   has_credit_card         4000 non-null   int64\n",
      " 3   has_fixed_deposit       4000 non-null   int64\n",
      " 4   has_insurance           4000 non-null   int64\n",
      "dtypes: int64(5)\n",
      "memory usage: 156.4 KB\n"
     ]
    }
   ],
   "source": [
    "print(\"DataFrame Structure:\")\n",
    "products.info()"
   ]
  },
  {
   "cell_type": "code",
   "execution_count": 16,
   "metadata": {},
   "outputs": [
    {
     "name": "stdout",
     "output_type": "stream",
     "text": [
      "Investment Distribution:\n",
      "has_investment_product\n",
      "1    2626\n",
      "0    1374\n",
      "Name: count, dtype: int64\n",
      "\n",
      "Credit Card Distribution:\n",
      "has_credit_card\n",
      "1    2677\n",
      "0    1323\n",
      "Name: count, dtype: int64\n",
      "\n",
      "Fixed Deposit Distribution:\n",
      "has_fixed_deposit\n",
      "1    2628\n",
      "0    1372\n",
      "Name: count, dtype: int64\n",
      "\n",
      "Insurance Distribution:\n",
      "has_insurance\n",
      "0    2237\n",
      "1    1763\n",
      "Name: count, dtype: int64\n"
     ]
    }
   ],
   "source": [
    "print(\"Investment Distribution:\")\n",
    "print(products['has_investment_product'].value_counts())\n",
    "\n",
    "print(\"\\nCredit Card Distribution:\")\n",
    "print(products['has_credit_card'].value_counts())\n",
    "\n",
    "print(\"\\nFixed Deposit Distribution:\")\n",
    "print(products['has_fixed_deposit'].value_counts())\n",
    "\n",
    "print(\"\\nInsurance Distribution:\")\n",
    "print(products['has_insurance'].value_counts())"
   ]
  },
  {
   "cell_type": "markdown",
   "metadata": {},
   "source": [
    "#### Loans Dataset"
   ]
  },
  {
   "cell_type": "code",
   "execution_count": 17,
   "metadata": {},
   "outputs": [
    {
     "name": "stdout",
     "output_type": "stream",
     "text": [
      "Dimensions: (7920, 6)\n"
     ]
    },
    {
     "data": {
      "text/html": [
       "<div>\n",
       "<style scoped>\n",
       "    .dataframe tbody tr th:only-of-type {\n",
       "        vertical-align: middle;\n",
       "    }\n",
       "\n",
       "    .dataframe tbody tr th {\n",
       "        vertical-align: top;\n",
       "    }\n",
       "\n",
       "    .dataframe thead th {\n",
       "        text-align: right;\n",
       "    }\n",
       "</style>\n",
       "<table border=\"1\" class=\"dataframe\">\n",
       "  <thead>\n",
       "    <tr style=\"text-align: right;\">\n",
       "      <th></th>\n",
       "      <th>loan_id</th>\n",
       "      <th>customer_id</th>\n",
       "      <th>loan_amount</th>\n",
       "      <th>loan_purpose</th>\n",
       "      <th>due_date</th>\n",
       "      <th>paid_off_date</th>\n",
       "    </tr>\n",
       "  </thead>\n",
       "  <tbody>\n",
       "    <tr>\n",
       "      <th>0</th>\n",
       "      <td>1</td>\n",
       "      <td>1716</td>\n",
       "      <td>10000.0</td>\n",
       "      <td>credit_card</td>\n",
       "      <td>2027-05-27</td>\n",
       "      <td>2024-05-28</td>\n",
       "    </tr>\n",
       "    <tr>\n",
       "      <th>1</th>\n",
       "      <td>2</td>\n",
       "      <td>1884</td>\n",
       "      <td>17000.0</td>\n",
       "      <td>other</td>\n",
       "      <td>2027-04-18</td>\n",
       "      <td>NaN</td>\n",
       "    </tr>\n",
       "    <tr>\n",
       "      <th>2</th>\n",
       "      <td>3</td>\n",
       "      <td>749</td>\n",
       "      <td>3000.0</td>\n",
       "      <td>credit_card</td>\n",
       "      <td>2026-06-03</td>\n",
       "      <td>NaN</td>\n",
       "    </tr>\n",
       "    <tr>\n",
       "      <th>3</th>\n",
       "      <td>4</td>\n",
       "      <td>511</td>\n",
       "      <td>21000.0</td>\n",
       "      <td>major_purchase</td>\n",
       "      <td>2026-03-09</td>\n",
       "      <td>2024-10-15</td>\n",
       "    </tr>\n",
       "    <tr>\n",
       "      <th>4</th>\n",
       "      <td>5</td>\n",
       "      <td>428</td>\n",
       "      <td>12000.0</td>\n",
       "      <td>credit_card</td>\n",
       "      <td>2027-03-26</td>\n",
       "      <td>NaN</td>\n",
       "    </tr>\n",
       "  </tbody>\n",
       "</table>\n",
       "</div>"
      ],
      "text/plain": [
       "   loan_id  customer_id  loan_amount    loan_purpose    due_date paid_off_date\n",
       "0        1         1716      10000.0     credit_card  2027-05-27    2024-05-28\n",
       "1        2         1884      17000.0           other  2027-04-18           NaN\n",
       "2        3          749       3000.0     credit_card  2026-06-03           NaN\n",
       "3        4          511      21000.0  major_purchase  2026-03-09    2024-10-15\n",
       "4        5          428      12000.0     credit_card  2027-03-26           NaN"
      ]
     },
     "execution_count": 17,
     "metadata": {},
     "output_type": "execute_result"
    }
   ],
   "source": [
    "print(\"Dimensions:\", loans.shape)\n",
    "loans.head()"
   ]
  },
  {
   "cell_type": "code",
   "execution_count": 18,
   "metadata": {},
   "outputs": [
    {
     "name": "stdout",
     "output_type": "stream",
     "text": [
      "<class 'pandas.core.frame.DataFrame'>\n",
      "RangeIndex: 7920 entries, 0 to 7919\n",
      "Data columns (total 6 columns):\n",
      " #   Column         Non-Null Count  Dtype  \n",
      "---  ------         --------------  -----  \n",
      " 0   loan_id        7920 non-null   int64  \n",
      " 1   customer_id    7920 non-null   int64  \n",
      " 2   loan_amount    7909 non-null   float64\n",
      " 3   loan_purpose   7920 non-null   object \n",
      " 4   due_date       7920 non-null   object \n",
      " 5   paid_off_date  6336 non-null   object \n",
      "dtypes: float64(1), int64(2), object(3)\n",
      "memory usage: 371.4+ KB\n"
     ]
    }
   ],
   "source": [
    "loans.info()"
   ]
  },
  {
   "cell_type": "code",
   "execution_count": 19,
   "metadata": {},
   "outputs": [],
   "source": [
    "# Converting 'due_date' and 'paid_off_date' columns to datetime format\n",
    "loans['due_date'] = pd.to_datetime(loans['due_date'])\n",
    "loans['paid_off_date'] = pd.to_datetime(loans['paid_off_date'])\n",
    "\n",
    "# Creating 'days_past_due' column\n",
    "loans['days_past_due'] = (loans['paid_off_date'] - loans['due_date']).dt.days\n",
    "\n",
    "# Dropping the original 'due_date' and 'paid_off_date' columns\n",
    "loans.drop(['due_date', 'paid_off_date'], axis=1, inplace=True)"
   ]
  },
  {
   "cell_type": "code",
   "execution_count": 20,
   "metadata": {},
   "outputs": [
    {
     "data": {
      "text/html": [
       "<div>\n",
       "<style scoped>\n",
       "    .dataframe tbody tr th:only-of-type {\n",
       "        vertical-align: middle;\n",
       "    }\n",
       "\n",
       "    .dataframe tbody tr th {\n",
       "        vertical-align: top;\n",
       "    }\n",
       "\n",
       "    .dataframe thead th {\n",
       "        text-align: right;\n",
       "    }\n",
       "</style>\n",
       "<table border=\"1\" class=\"dataframe\">\n",
       "  <thead>\n",
       "    <tr style=\"text-align: right;\">\n",
       "      <th></th>\n",
       "      <th>loan_id</th>\n",
       "      <th>customer_id</th>\n",
       "      <th>loan_amount</th>\n",
       "      <th>loan_purpose</th>\n",
       "      <th>days_past_due</th>\n",
       "    </tr>\n",
       "  </thead>\n",
       "  <tbody>\n",
       "    <tr>\n",
       "      <th>0</th>\n",
       "      <td>1</td>\n",
       "      <td>1716</td>\n",
       "      <td>10000.0</td>\n",
       "      <td>credit_card</td>\n",
       "      <td>-1094.0</td>\n",
       "    </tr>\n",
       "    <tr>\n",
       "      <th>1</th>\n",
       "      <td>2</td>\n",
       "      <td>1884</td>\n",
       "      <td>17000.0</td>\n",
       "      <td>other</td>\n",
       "      <td>NaN</td>\n",
       "    </tr>\n",
       "    <tr>\n",
       "      <th>2</th>\n",
       "      <td>3</td>\n",
       "      <td>749</td>\n",
       "      <td>3000.0</td>\n",
       "      <td>credit_card</td>\n",
       "      <td>NaN</td>\n",
       "    </tr>\n",
       "    <tr>\n",
       "      <th>3</th>\n",
       "      <td>4</td>\n",
       "      <td>511</td>\n",
       "      <td>21000.0</td>\n",
       "      <td>major_purchase</td>\n",
       "      <td>-510.0</td>\n",
       "    </tr>\n",
       "    <tr>\n",
       "      <th>4</th>\n",
       "      <td>5</td>\n",
       "      <td>428</td>\n",
       "      <td>12000.0</td>\n",
       "      <td>credit_card</td>\n",
       "      <td>NaN</td>\n",
       "    </tr>\n",
       "  </tbody>\n",
       "</table>\n",
       "</div>"
      ],
      "text/plain": [
       "   loan_id  customer_id  loan_amount    loan_purpose  days_past_due\n",
       "0        1         1716      10000.0     credit_card        -1094.0\n",
       "1        2         1884      17000.0           other            NaN\n",
       "2        3          749       3000.0     credit_card            NaN\n",
       "3        4          511      21000.0  major_purchase         -510.0\n",
       "4        5          428      12000.0     credit_card            NaN"
      ]
     },
     "execution_count": 20,
     "metadata": {},
     "output_type": "execute_result"
    }
   ],
   "source": [
    "loans.head()"
   ]
  },
  {
   "cell_type": "code",
   "execution_count": 21,
   "metadata": {},
   "outputs": [
    {
     "data": {
      "text/html": [
       "<div>\n",
       "<style scoped>\n",
       "    .dataframe tbody tr th:only-of-type {\n",
       "        vertical-align: middle;\n",
       "    }\n",
       "\n",
       "    .dataframe tbody tr th {\n",
       "        vertical-align: top;\n",
       "    }\n",
       "\n",
       "    .dataframe thead th {\n",
       "        text-align: right;\n",
       "    }\n",
       "</style>\n",
       "<table border=\"1\" class=\"dataframe\">\n",
       "  <thead>\n",
       "    <tr style=\"text-align: right;\">\n",
       "      <th></th>\n",
       "      <th>loan_id</th>\n",
       "      <th>customer_id</th>\n",
       "      <th>loan_amount</th>\n",
       "      <th>days_past_due</th>\n",
       "    </tr>\n",
       "  </thead>\n",
       "  <tbody>\n",
       "    <tr>\n",
       "      <th>count</th>\n",
       "      <td>7920.000000</td>\n",
       "      <td>7920.000000</td>\n",
       "      <td>7909.000000</td>\n",
       "      <td>6336.000000</td>\n",
       "    </tr>\n",
       "    <tr>\n",
       "      <th>mean</th>\n",
       "      <td>3960.500000</td>\n",
       "      <td>2013.531061</td>\n",
       "      <td>12510.121381</td>\n",
       "      <td>-913.728220</td>\n",
       "    </tr>\n",
       "    <tr>\n",
       "      <th>std</th>\n",
       "      <td>2286.451399</td>\n",
       "      <td>1162.366027</td>\n",
       "      <td>7866.365185</td>\n",
       "      <td>235.657406</td>\n",
       "    </tr>\n",
       "    <tr>\n",
       "      <th>min</th>\n",
       "      <td>1.000000</td>\n",
       "      <td>1.000000</td>\n",
       "      <td>1000.000000</td>\n",
       "      <td>-1454.000000</td>\n",
       "    </tr>\n",
       "    <tr>\n",
       "      <th>25%</th>\n",
       "      <td>1980.750000</td>\n",
       "      <td>1007.750000</td>\n",
       "      <td>6000.000000</td>\n",
       "      <td>-1096.000000</td>\n",
       "    </tr>\n",
       "    <tr>\n",
       "      <th>50%</th>\n",
       "      <td>3960.500000</td>\n",
       "      <td>2020.500000</td>\n",
       "      <td>10000.000000</td>\n",
       "      <td>-911.000000</td>\n",
       "    </tr>\n",
       "    <tr>\n",
       "      <th>75%</th>\n",
       "      <td>5940.250000</td>\n",
       "      <td>3035.250000</td>\n",
       "      <td>17000.000000</td>\n",
       "      <td>-731.000000</td>\n",
       "    </tr>\n",
       "    <tr>\n",
       "      <th>max</th>\n",
       "      <td>7920.000000</td>\n",
       "      <td>4000.000000</td>\n",
       "      <td>35000.000000</td>\n",
       "      <td>-373.000000</td>\n",
       "    </tr>\n",
       "  </tbody>\n",
       "</table>\n",
       "</div>"
      ],
      "text/plain": [
       "           loan_id  customer_id   loan_amount  days_past_due\n",
       "count  7920.000000  7920.000000   7909.000000    6336.000000\n",
       "mean   3960.500000  2013.531061  12510.121381    -913.728220\n",
       "std    2286.451399  1162.366027   7866.365185     235.657406\n",
       "min       1.000000     1.000000   1000.000000   -1454.000000\n",
       "25%    1980.750000  1007.750000   6000.000000   -1096.000000\n",
       "50%    3960.500000  2020.500000  10000.000000    -911.000000\n",
       "75%    5940.250000  3035.250000  17000.000000    -731.000000\n",
       "max    7920.000000  4000.000000  35000.000000    -373.000000"
      ]
     },
     "execution_count": 21,
     "metadata": {},
     "output_type": "execute_result"
    }
   ],
   "source": [
    "loans.describe()"
   ]
  },
  {
   "cell_type": "code",
   "execution_count": 22,
   "metadata": {},
   "outputs": [
    {
     "name": "stdout",
     "output_type": "stream",
     "text": [
      "Loan Purpose Distribution:\n",
      "loan_purpose\n",
      "debt_consolidation    4110\n",
      "credit_card           1491\n",
      "housing-related        642\n",
      "other                  615\n",
      "major_purchase         312\n",
      "small_business         295\n",
      "car                    128\n",
      "wedding                115\n",
      "medical                 90\n",
      "vacation                75\n",
      "educational             47\n",
      "Name: count, dtype: int64\n"
     ]
    }
   ],
   "source": [
    "print(\"Loan Purpose Distribution:\")\n",
    "print(loans['loan_purpose'].value_counts())"
   ]
  },
  {
   "cell_type": "code",
   "execution_count": 23,
   "metadata": {},
   "outputs": [
    {
     "name": "stdout",
     "output_type": "stream",
     "text": [
      "Loan Category Distribution:\n",
      "loan_category\n",
      "Debt Management         4110\n",
      "Credit Product          1491\n",
      "Asset Acquisition       1082\n",
      "Miscellaneous            615\n",
      "Business & Education     342\n",
      "Lifestyle & Personal     280\n",
      "Name: count, dtype: int64\n"
     ]
    }
   ],
   "source": [
    "# Categorizing loan purposes into broader categories and creating 'loan_category' column\n",
    "def categorize_loan_purpose(purpose):\n",
    "    if purpose == 'debt_consolidation':\n",
    "        return 'Debt Management'\n",
    "    elif purpose == 'credit_card':\n",
    "        return 'Credit Product'\n",
    "    elif purpose in ['housing-related', 'major_purchase', 'car']:\n",
    "        return 'Asset Acquisition'\n",
    "    elif purpose in ['small_business', 'educational']:\n",
    "        return 'Business & Education'\n",
    "    elif purpose in ['wedding', 'vacation', 'medical']:\n",
    "        return 'Lifestyle & Personal'\n",
    "    else:\n",
    "        return 'Miscellaneous'  \n",
    "\n",
    "loans['loan_category'] = loans['loan_purpose'].apply(categorize_loan_purpose)\n",
    "\n",
    "print(\"Loan Category Distribution:\")\n",
    "print(loans['loan_category'].value_counts())"
   ]
  },
  {
   "cell_type": "markdown",
   "metadata": {},
   "source": [
    "##### Transactions Dataset"
   ]
  },
  {
   "cell_type": "code",
   "execution_count": 24,
   "metadata": {},
   "outputs": [
    {
     "name": "stdout",
     "output_type": "stream",
     "text": [
      "Dimensions: (6463, 5)\n"
     ]
    },
    {
     "data": {
      "text/html": [
       "<div>\n",
       "<style scoped>\n",
       "    .dataframe tbody tr th:only-of-type {\n",
       "        vertical-align: middle;\n",
       "    }\n",
       "\n",
       "    .dataframe tbody tr th {\n",
       "        vertical-align: top;\n",
       "    }\n",
       "\n",
       "    .dataframe thead th {\n",
       "        text-align: right;\n",
       "    }\n",
       "</style>\n",
       "<table border=\"1\" class=\"dataframe\">\n",
       "  <thead>\n",
       "    <tr style=\"text-align: right;\">\n",
       "      <th></th>\n",
       "      <th>transaction_id</th>\n",
       "      <th>customer_id</th>\n",
       "      <th>transaction_type</th>\n",
       "      <th>transaction_amt</th>\n",
       "      <th>transaction_date</th>\n",
       "    </tr>\n",
       "  </thead>\n",
       "  <tbody>\n",
       "    <tr>\n",
       "      <th>0</th>\n",
       "      <td>316418</td>\n",
       "      <td>3715</td>\n",
       "      <td>Deposit</td>\n",
       "      <td>510.38</td>\n",
       "      <td>2024-06-14 16:06:14</td>\n",
       "    </tr>\n",
       "    <tr>\n",
       "      <th>1</th>\n",
       "      <td>696537</td>\n",
       "      <td>3715</td>\n",
       "      <td>Withdrawal</td>\n",
       "      <td>703.02</td>\n",
       "      <td>2023-03-19 17:14:15</td>\n",
       "    </tr>\n",
       "    <tr>\n",
       "      <th>2</th>\n",
       "      <td>232878</td>\n",
       "      <td>1239</td>\n",
       "      <td>Withdrawal</td>\n",
       "      <td>308.54</td>\n",
       "      <td>2024-07-06 11:30:21</td>\n",
       "    </tr>\n",
       "    <tr>\n",
       "      <th>3</th>\n",
       "      <td>912436</td>\n",
       "      <td>1239</td>\n",
       "      <td>Transfer</td>\n",
       "      <td>258.19</td>\n",
       "      <td>2024-01-16 01:24:59</td>\n",
       "    </tr>\n",
       "    <tr>\n",
       "      <th>4</th>\n",
       "      <td>983966</td>\n",
       "      <td>1239</td>\n",
       "      <td>Deposit</td>\n",
       "      <td>395.92</td>\n",
       "      <td>2024-03-23 12:27:46</td>\n",
       "    </tr>\n",
       "  </tbody>\n",
       "</table>\n",
       "</div>"
      ],
      "text/plain": [
       "   transaction_id  customer_id transaction_type  transaction_amt  \\\n",
       "0          316418         3715          Deposit           510.38   \n",
       "1          696537         3715       Withdrawal           703.02   \n",
       "2          232878         1239       Withdrawal           308.54   \n",
       "3          912436         1239         Transfer           258.19   \n",
       "4          983966         1239          Deposit           395.92   \n",
       "\n",
       "      transaction_date  \n",
       "0  2024-06-14 16:06:14  \n",
       "1  2023-03-19 17:14:15  \n",
       "2  2024-07-06 11:30:21  \n",
       "3  2024-01-16 01:24:59  \n",
       "4  2024-03-23 12:27:46  "
      ]
     },
     "execution_count": 24,
     "metadata": {},
     "output_type": "execute_result"
    }
   ],
   "source": [
    "print(\"Dimensions:\", transactions.shape)\n",
    "transactions.head()"
   ]
  },
  {
   "cell_type": "code",
   "execution_count": 25,
   "metadata": {},
   "outputs": [
    {
     "name": "stdout",
     "output_type": "stream",
     "text": [
      "DataFrame Structure:\n",
      "<class 'pandas.core.frame.DataFrame'>\n",
      "RangeIndex: 6463 entries, 0 to 6462\n",
      "Data columns (total 5 columns):\n",
      " #   Column            Non-Null Count  Dtype  \n",
      "---  ------            --------------  -----  \n",
      " 0   transaction_id    6463 non-null   int64  \n",
      " 1   customer_id       6463 non-null   int64  \n",
      " 2   transaction_type  6463 non-null   object \n",
      " 3   transaction_amt   6463 non-null   float64\n",
      " 4   transaction_date  6463 non-null   object \n",
      "dtypes: float64(1), int64(2), object(2)\n",
      "memory usage: 252.6+ KB\n"
     ]
    }
   ],
   "source": [
    "print(\"DataFrame Structure:\")\n",
    "transactions.info()"
   ]
  },
  {
   "cell_type": "code",
   "execution_count": 26,
   "metadata": {},
   "outputs": [],
   "source": [
    "# Converting 'transaction_type' column to category data type\n",
    "transactions['transaction_type'] = transactions['transaction_type'].astype('category')\n",
    "\n",
    "# Extracting year-month-day from 'transaction_date' and converting to datetime format\n",
    "transactions['transaction_date'] = pd.to_datetime(transactions['transaction_date'])\n",
    "transactions['transaction_date'] = transactions['transaction_date'].dt.date\n",
    "transactions['transaction_date'] = pd.to_datetime(transactions['transaction_date'])"
   ]
  },
  {
   "cell_type": "code",
   "execution_count": 27,
   "metadata": {},
   "outputs": [
    {
     "name": "stdout",
     "output_type": "stream",
     "text": [
      "Transaction Type Distribution:\n",
      "transaction_type\n",
      "Withdrawal    1652\n",
      "Credit        1606\n",
      "Deposit       1604\n",
      "Transfer      1601\n",
      "Name: count, dtype: int64\n"
     ]
    }
   ],
   "source": [
    "print(\"Transaction Type Distribution:\")\n",
    "print(transactions['transaction_type'].value_counts())"
   ]
  },
  {
   "cell_type": "code",
   "execution_count": 28,
   "metadata": {},
   "outputs": [
    {
     "name": "stdout",
     "output_type": "stream",
     "text": [
      "       transaction_amt\n",
      "count      6463.000000\n",
      "mean        419.713956\n",
      "std         371.242034\n",
      "min           2.000000\n",
      "25%         171.065000\n",
      "50%         322.230000\n",
      "75%         555.960000\n",
      "max        3758.830000\n"
     ]
    }
   ],
   "source": [
    "print(transactions[['transaction_amt']].describe())"
   ]
  },
  {
   "cell_type": "code",
   "execution_count": 29,
   "metadata": {},
   "outputs": [],
   "source": [
    "# Categorizing transactions as 'Money In' or 'Money Out', and creating 'money_flow' column\n",
    "def classify_money_flow(tx_type):\n",
    "    if tx_type in ['Credit', 'Deposit']:\n",
    "        return 'Money In'\n",
    "    else:\n",
    "        return 'Money Out'\n",
    "\n",
    "transactions['money_flow'] = transactions['transaction_type'].apply(classify_money_flow)"
   ]
  },
  {
   "cell_type": "markdown",
   "metadata": {},
   "source": [
    "##### Digital Usage Dataset"
   ]
  },
  {
   "cell_type": "code",
   "execution_count": 30,
   "metadata": {},
   "outputs": [
    {
     "name": "stdout",
     "output_type": "stream",
     "text": [
      "Dimensions: (4000, 9)\n"
     ]
    },
    {
     "data": {
      "text/html": [
       "<div>\n",
       "<style scoped>\n",
       "    .dataframe tbody tr th:only-of-type {\n",
       "        vertical-align: middle;\n",
       "    }\n",
       "\n",
       "    .dataframe tbody tr th {\n",
       "        vertical-align: top;\n",
       "    }\n",
       "\n",
       "    .dataframe thead th {\n",
       "        text-align: right;\n",
       "    }\n",
       "</style>\n",
       "<table border=\"1\" class=\"dataframe\">\n",
       "  <thead>\n",
       "    <tr style=\"text-align: right;\">\n",
       "      <th></th>\n",
       "      <th>customer_id</th>\n",
       "      <th>has_mobile_app</th>\n",
       "      <th>has_web_account</th>\n",
       "      <th>mobile_logins_wk</th>\n",
       "      <th>web_logins_wk</th>\n",
       "      <th>avg_mobile_time</th>\n",
       "      <th>avg_web_time</th>\n",
       "      <th>last_mobile_use</th>\n",
       "      <th>last_web_use</th>\n",
       "    </tr>\n",
       "  </thead>\n",
       "  <tbody>\n",
       "    <tr>\n",
       "      <th>0</th>\n",
       "      <td>959</td>\n",
       "      <td>1</td>\n",
       "      <td>1</td>\n",
       "      <td>1.0</td>\n",
       "      <td>2.0</td>\n",
       "      <td>7.00</td>\n",
       "      <td>15.91</td>\n",
       "      <td>2024-11-08</td>\n",
       "      <td>2024-11-10</td>\n",
       "    </tr>\n",
       "    <tr>\n",
       "      <th>1</th>\n",
       "      <td>2</td>\n",
       "      <td>0</td>\n",
       "      <td>1</td>\n",
       "      <td>NaN</td>\n",
       "      <td>6.0</td>\n",
       "      <td>NaN</td>\n",
       "      <td>2.32</td>\n",
       "      <td>NaN</td>\n",
       "      <td>2024-03-06</td>\n",
       "    </tr>\n",
       "    <tr>\n",
       "      <th>2</th>\n",
       "      <td>3</td>\n",
       "      <td>1</td>\n",
       "      <td>1</td>\n",
       "      <td>12.0</td>\n",
       "      <td>9.0</td>\n",
       "      <td>1.78</td>\n",
       "      <td>1.71</td>\n",
       "      <td>2023-07-22</td>\n",
       "      <td>2024-03-26</td>\n",
       "    </tr>\n",
       "    <tr>\n",
       "      <th>3</th>\n",
       "      <td>4</td>\n",
       "      <td>1</td>\n",
       "      <td>1</td>\n",
       "      <td>12.0</td>\n",
       "      <td>3.0</td>\n",
       "      <td>1.55</td>\n",
       "      <td>8.19</td>\n",
       "      <td>2024-09-15</td>\n",
       "      <td>2024-09-25</td>\n",
       "    </tr>\n",
       "    <tr>\n",
       "      <th>4</th>\n",
       "      <td>5</td>\n",
       "      <td>1</td>\n",
       "      <td>1</td>\n",
       "      <td>4.0</td>\n",
       "      <td>0.0</td>\n",
       "      <td>5.78</td>\n",
       "      <td>0.00</td>\n",
       "      <td>2024-10-18</td>\n",
       "      <td>2023-02-17</td>\n",
       "    </tr>\n",
       "  </tbody>\n",
       "</table>\n",
       "</div>"
      ],
      "text/plain": [
       "   customer_id  has_mobile_app  has_web_account  mobile_logins_wk  \\\n",
       "0          959               1                1               1.0   \n",
       "1            2               0                1               NaN   \n",
       "2            3               1                1              12.0   \n",
       "3            4               1                1              12.0   \n",
       "4            5               1                1               4.0   \n",
       "\n",
       "   web_logins_wk  avg_mobile_time  avg_web_time last_mobile_use last_web_use  \n",
       "0            2.0             7.00         15.91      2024-11-08   2024-11-10  \n",
       "1            6.0              NaN          2.32             NaN   2024-03-06  \n",
       "2            9.0             1.78          1.71      2023-07-22   2024-03-26  \n",
       "3            3.0             1.55          8.19      2024-09-15   2024-09-25  \n",
       "4            0.0             5.78          0.00      2024-10-18   2023-02-17  "
      ]
     },
     "execution_count": 30,
     "metadata": {},
     "output_type": "execute_result"
    }
   ],
   "source": [
    "print(\"Dimensions:\", digital_usage.shape)\n",
    "digital_usage.head()"
   ]
  },
  {
   "cell_type": "code",
   "execution_count": 31,
   "metadata": {},
   "outputs": [
    {
     "name": "stdout",
     "output_type": "stream",
     "text": [
      "DataFrame Structure:\n",
      "<class 'pandas.core.frame.DataFrame'>\n",
      "RangeIndex: 4000 entries, 0 to 3999\n",
      "Data columns (total 9 columns):\n",
      " #   Column            Non-Null Count  Dtype  \n",
      "---  ------            --------------  -----  \n",
      " 0   customer_id       4000 non-null   int64  \n",
      " 1   has_mobile_app    4000 non-null   int64  \n",
      " 2   has_web_account   4000 non-null   int64  \n",
      " 3   mobile_logins_wk  2920 non-null   float64\n",
      " 4   web_logins_wk     3520 non-null   float64\n",
      " 5   avg_mobile_time   2920 non-null   float64\n",
      " 6   avg_web_time      3520 non-null   float64\n",
      " 7   last_mobile_use   2920 non-null   object \n",
      " 8   last_web_use      3520 non-null   object \n",
      "dtypes: float64(4), int64(3), object(2)\n",
      "memory usage: 281.4+ KB\n"
     ]
    }
   ],
   "source": [
    "print(\"DataFrame Structure:\")\n",
    "digital_usage.info()"
   ]
  },
  {
   "cell_type": "code",
   "execution_count": 32,
   "metadata": {},
   "outputs": [],
   "source": [
    "# Converting 'last_mobile_use' and 'last_web_use' columns to category data type\n",
    "digital_usage['last_mobile_use'] = pd.to_datetime(digital_usage['last_mobile_use'])\n",
    "digital_usage['last_web_use'] = pd.to_datetime(digital_usage['last_web_use'])\n",
    "\n",
    "# Creating 'mobile_web_ratio' column\n",
    "digital_usage['mobile_web_ratio'] = digital_usage['mobile_logins_wk'] / (digital_usage['web_logins_wk'])"
   ]
  },
  {
   "cell_type": "markdown",
   "metadata": {},
   "source": [
    "#### Merging Datasets"
   ]
  },
  {
   "cell_type": "code",
   "execution_count": 33,
   "metadata": {},
   "outputs": [],
   "source": [
    "df = df.merge(products, on = 'customer_id')\n",
    "df = df.merge(loans, on = 'customer_id')\n",
    "df = df.merge(transactions, on = 'customer_id')\n",
    "df = df.merge(digital_usage, on = 'customer_id')"
   ]
  },
  {
   "cell_type": "markdown",
   "metadata": {},
   "source": [
    "#### **NPS Across Customer Segments**"
   ]
  },
  {
   "cell_type": "code",
   "execution_count": 34,
   "metadata": {},
   "outputs": [
    {
     "name": "stdout",
     "output_type": "stream",
     "text": [
      "nps_category                  detractor    passive   promoter\n",
      "Segment                                                      \n",
      "At risk / inactive customers  28.571429  29.323308  42.105263\n",
      "Budget-conscious              32.803181  17.992048  49.204771\n",
      "High-value                    15.341309  21.604504  63.054187\n"
     ]
    }
   ],
   "source": [
    "# Calculating the percentage distribution each NPS category within each segment\n",
    "nps_segment_dist = pd.crosstab(df['Segment'], df['nps_category'], normalize='index') * 100\n",
    "print(nps_segment_dist)"
   ]
  },
  {
   "cell_type": "code",
   "execution_count": 35,
   "metadata": {},
   "outputs": [
    {
     "data": {
      "text/plain": [
       "<Figure size 800x600 with 0 Axes>"
      ]
     },
     "metadata": {},
     "output_type": "display_data"
    },
    {
     "data": {
      "image/png": "[encoded data removed]",
      "text/plain": [
       "<Figure size 640x480 with 1 Axes>"
      ]
     },
     "metadata": {},
     "output_type": "display_data"
    }
   ],
   "source": [
    "plt.figure(figsize=(8, 6))\n",
    "ax = nps_segment_dist.plot(kind='bar', stacked=True)\n",
    "plt.title('Distribution of NPS Categories Across Customer Segments')\n",
    "plt.xlabel('Customer Segment')\n",
    "plt.ylabel('Percentage (%)')\n",
    "plt.legend(title='NPS Category', bbox_to_anchor=(1.05, 1), loc='upper left')\n",
    "\n",
    "for p in ax.patches:\n",
    "    height = p.get_height()\n",
    "    width = p.get_width()\n",
    "    x = p.get_x() + width / 2\n",
    "    y = p.get_y() + height / 2\n",
    "    ax.annotate(f'{height:.2f}%', (x, y), ha='center', va='center', color='black', fontsize=10)\n",
    "\n",
    "plt.tight_layout()\n",
    "plt.show()"
   ]
  },
  {
   "cell_type": "markdown",
   "metadata": {},
   "source": [
    "**Key insights:**\n",
    "\n",
    "- **High-value** customers have the highest proportion of promoters, indicating strong brand loyalty and satisfaction. However, some customers may have unmet expectations or issues that need addressing.\n",
    "\n",
    "- **Budget-conscious** customers have a notable share of promoters, indicating moderate satisfaction. However, a significant portion are detractors, highlighting dissatisfaction.\n",
    "\n",
    "- **At-risk/inactive** customers have the lowest proportion of promoters, suggesting disengagement and dissatisfaction, possibly due to irrelevant products or lack of engagement."
   ]
  },
  {
   "cell_type": "markdown",
   "metadata": {},
   "source": [
    "#### **Financial Health Across Customer Segments**"
   ]
  },
  {
   "cell_type": "code",
   "execution_count": 36,
   "metadata": {},
   "outputs": [
    {
     "name": "stdout",
     "output_type": "stream",
     "text": [
      "                 log_balance  log_debt  log_income  debt_to_income  \\\n",
      "log_balance         1.000000 -0.175039    0.873046       -0.665540   \n",
      "log_debt           -0.175039  1.000000   -0.181037        0.801931   \n",
      "log_income          0.873046 -0.181037    1.000000       -0.723939   \n",
      "debt_to_income     -0.665540  0.801931   -0.723939        1.000000   \n",
      "balance_to_debt     0.988127 -0.298758    0.876720       -0.748174   \n",
      "\n",
      "                 balance_to_debt  \n",
      "log_balance             0.988127  \n",
      "log_debt               -0.298758  \n",
      "log_income              0.876720  \n",
      "debt_to_income         -0.748174  \n",
      "balance_to_debt         1.000000  \n"
     ]
    }
   ],
   "source": [
    "# Computing the correlation matrix for the selected variables to assess relationships between them\n",
    "variables = ['log_balance', 'log_debt', 'log_income', 'debt_to_income', 'balance_to_debt']\n",
    "correlation_matrix = df[variables].corr()\n",
    "print(correlation_matrix)"
   ]
  },
  {
   "cell_type": "code",
   "execution_count": 37,
   "metadata": {},
   "outputs": [
    {
     "data": {
      "image/png": "[encoded data removed]",
      "text/plain": [
       "<Figure size 640x480 with 2 Axes>"
      ]
     },
     "metadata": {},
     "output_type": "display_data"
    }
   ],
   "source": [
    "# Heatmap of correlation matrix for financial health metrics\n",
    "sns.heatmap(correlation_matrix, annot=True, cmap='coolwarm')\n",
    "plt.title('Correlation Matrix for Financial Health Metrics')\n",
    "plt.show()"
   ]
  },
  {
   "cell_type": "markdown",
   "metadata": {},
   "source": [
    "**Key insights:**  \n",
    "\n",
    "Higher income and savings (**log_income** and **log_balance**) strongly correlate with improved financial health metrics like **balance_to_debt**, while rising debt (**log_debt**) increases **debt_to_income** ratios. Notably, income growth and savings accumulation counteract debt burdens, suggesting that boosting income and reducing debt are critical for financial stability. The near-perfect correlation between **log_balance** and **balance_to_debt** underscores savings as a key lever for debt management."
   ]
  },
  {
   "cell_type": "code",
   "execution_count": 38,
   "metadata": {},
   "outputs": [
    {
     "data": {
      "image/png": "[encoded data removed]",
      "text/plain": [
       "<Figure size 1400x600 with 2 Axes>"
      ]
     },
     "metadata": {},
     "output_type": "display_data"
    }
   ],
   "source": [
    "fig, ax = plt.subplots(1, 2, figsize=(14, 6))\n",
    "\n",
    "# Boxplot of 'debt-to-income' ratio by customer segment\n",
    "sns.boxplot(x='Segment', y='debt_to_income', data=df, ax=ax[0])\n",
    "ax[0].set_title('Debt-to-Income Ratio by Customer Segment')\n",
    "ax[0].set_xlabel('Customer Segment')\n",
    "ax[0].set_ylabel('Debt-to-Income Ratio')\n",
    "\n",
    "# Boxplot of 'balance-to-debt' ratio by customer segment\n",
    "sns.boxplot(x='Segment', y='balance_to_debt', data=df, ax=ax[1])\n",
    "ax[1].set_title('Balance-to-Debt Ratio by Customer Segment')\n",
    "ax[1].set_xlabel('Customer Segment')\n",
    "ax[1].set_ylabel('Balance-to-Debt Ratio')\n",
    "\n",
    "plt.tight_layout()\n",
    "plt.show()"
   ]
  },
  {
   "cell_type": "markdown",
   "metadata": {},
   "source": [
    "**Key insights:**\n",
    "\n",
    "- **High-value** customers have a generally lower and more stable debt-to-income (DTI) ratio, indicating better financial management and lower reliance on debt. The positive balance-to-debt ratio with minimal variation suggests strong financial health and likely savings.\n",
    "\n",
    "- **Budget-conscious** customers have a generally moderate DTI ratio with some extreme outliers, suggesting potential financial strain for a subset. The higher balance-to-debt ratio indicates relatively higher balances compared to their debt. However, many outliers show negative ratios, possibly indicating account overdrafts or defaults.\n",
    "\n",
    "- **At-risk** customers show a broad variation of DTI ratio, with a few outliers and a median similar to budget-conscious customers, suggesting inconsistent financial stability within the group. There is a significant variation in balance-to-debt ratio, with a large proportion having negative ratios, signaling potential financial distress."
   ]
  },
  {
   "cell_type": "code",
   "execution_count": 39,
   "metadata": {},
   "outputs": [
    {
     "name": "stdout",
     "output_type": "stream",
     "text": [
      "       customer_id                       Segment  age         job   marital  \\\n",
      "0              179              Budget-conscious   32     retired    single   \n",
      "2              179              Budget-conscious   32     retired    single   \n",
      "5               81  At risk / inactive customers   20  unemployed    single   \n",
      "6               13              Budget-conscious   35     student    single   \n",
      "7               13              Budget-conscious   35     student    single   \n",
      "...            ...                           ...  ...         ...       ...   \n",
      "13707         3407                    High-value   37     unknown    single   \n",
      "13708         3407                    High-value   37     unknown    single   \n",
      "13709         3407                    High-value   37     unknown    single   \n",
      "13714         2660                    High-value   33     unknown  divorced   \n",
      "13715         2660                    High-value   33     unknown  divorced   \n",
      "\n",
      "       education  default   balance       debt    income  ...  money_flow  \\\n",
      "0      secondary        1 -16434.66   12630.49    716.15  ...   Money Out   \n",
      "2      secondary        1 -16434.66   12630.49    716.15  ...   Money Out   \n",
      "5      secondary        1 -11910.44   21609.58    539.38  ...   Money Out   \n",
      "6      secondary        1  -8003.47   36324.75    522.33  ...   Money Out   \n",
      "7      secondary        1  -8003.47   36324.75    522.33  ...   Money Out   \n",
      "...          ...      ...       ...        ...       ...  ...         ...   \n",
      "13707  secondary        0  65324.42   14372.41  22283.99  ...   Money Out   \n",
      "13708  secondary        0  65324.42   14372.41  22283.99  ...   Money Out   \n",
      "13709  secondary        0  65324.42   14372.41  22283.99  ...   Money Out   \n",
      "13714  secondary        0  68631.69  104876.33  22442.91  ...   Money Out   \n",
      "13715  secondary        0  68631.69  104876.33  22442.91  ...   Money Out   \n",
      "\n",
      "       has_mobile_app  has_web_account mobile_logins_wk  web_logins_wk  \\\n",
      "0                   1                1             12.0            1.0   \n",
      "2                   1                1             12.0            1.0   \n",
      "5                   1                1              6.0            3.0   \n",
      "6                   1                1              3.0            3.0   \n",
      "7                   1                1              3.0            3.0   \n",
      "...               ...              ...              ...            ...   \n",
      "13707               0                0              NaN            NaN   \n",
      "13708               0                0              NaN            NaN   \n",
      "13709               0                0              NaN            NaN   \n",
      "13714               1                1              3.0           10.0   \n",
      "13715               1                1              3.0           10.0   \n",
      "\n",
      "       avg_mobile_time  avg_web_time  last_mobile_use  last_web_use  \\\n",
      "0                 1.67         16.12       2024-04-12    2024-12-28   \n",
      "2                 1.67         16.12       2024-04-12    2024-12-28   \n",
      "5                 5.92          7.72       2024-07-30    2024-07-03   \n",
      "6                 5.84          7.66       2024-11-26    2024-10-09   \n",
      "7                 5.84          7.66       2024-11-26    2024-10-09   \n",
      "...                ...           ...              ...           ...   \n",
      "13707              NaN           NaN              NaT           NaT   \n",
      "13708              NaN           NaN              NaT           NaT   \n",
      "13709              NaN           NaN              NaT           NaT   \n",
      "13714             4.64          2.73       2024-07-07    2024-10-05   \n",
      "13715             4.64          2.73       2024-07-07    2024-10-05   \n",
      "\n",
      "       mobile_web_ratio  \n",
      "0                  12.0  \n",
      "2                  12.0  \n",
      "5                   2.0  \n",
      "6                   1.0  \n",
      "7                   1.0  \n",
      "...                 ...  \n",
      "13707               NaN  \n",
      "13708               NaN  \n",
      "13709               NaN  \n",
      "13714               0.3  \n",
      "13715               0.3  \n",
      "\n",
      "[11131 rows x 42 columns]\n"
     ]
    }
   ],
   "source": [
    "# Filtering data for customers with days_past_due = 0\n",
    "on_time = df[df['days_past_due'] < 0]\n",
    "print(on_time)"
   ]
  },
  {
   "cell_type": "code",
   "execution_count": 40,
   "metadata": {},
   "outputs": [
    {
     "name": "stdout",
     "output_type": "stream",
     "text": [
      "Segment\n",
      "At risk / inactive customers    80.701754\n",
      "Budget-conscious                79.776894\n",
      "High-value                      84.119165\n",
      "dtype: float64\n"
     ]
    }
   ],
   "source": [
    "# Calculating the proportion of on-time payers in each segment\n",
    "on_time_counts = on_time.groupby('Segment').size()\n",
    "total_counts = df.groupby('Segment').size()\n",
    "on_time_proportion = (on_time_counts / total_counts) * 100\n",
    "print(on_time_proportion)"
   ]
  },
  {
   "cell_type": "code",
   "execution_count": 41,
   "metadata": {},
   "outputs": [
    {
     "name": "stderr",
     "output_type": "stream",
     "text": [
      "C:\\Users\\Admin\\AppData\\Local\\Temp\\ipykernel_28884\\72201967.py:3: FutureWarning: \n",
      "\n",
      "Passing `palette` without assigning `hue` is deprecated and will be removed in v0.14.0. Assign the `x` variable to `hue` and set `legend=False` for the same effect.\n",
      "\n",
      "  ax = sns.barplot(x=on_time_proportion.index, y=on_time_proportion.values, palette='viridis')\n"
     ]
    },
    {
     "data": {
      "image/png": "[encoded data removed]",
      "text/plain": [
       "<Figure size 800x500 with 1 Axes>"
      ]
     },
     "metadata": {},
     "output_type": "display_data"
    }
   ],
   "source": [
    "# Bar plot of the proportion of customers with on-time loan payments for each segment\n",
    "plt.figure(figsize=(8, 5))\n",
    "ax = sns.barplot(x=on_time_proportion.index, y=on_time_proportion.values, palette='viridis')\n",
    "plt.title('Proportion of On-Time Loan Payments Across Customer Segments')\n",
    "plt.xlabel('Customer Segments')\n",
    "plt.ylabel('Proportion of On-Time Payments (%)')\n",
    "plt.ylim(0, 100)\n",
    "plt.grid(axis='y')\n",
    "\n",
    "for p in ax.patches:\n",
    "    ax.annotate(f'{p.get_height():.2f}%', \n",
    "                (p.get_x() + p.get_width() / 2., p.get_height()), \n",
    "                ha='center', va='center', \n",
    "                color='black', fontsize=10, \n",
    "                xytext=(0, 5), textcoords='offset points')  \n",
    "\n",
    "plt.tight_layout()\n",
    "plt.show()"
   ]
  },
  {
   "cell_type": "markdown",
   "metadata": {},
   "source": [
    "**Key insights:**  \n",
    "\n",
    "- **High-value** customers exhibit the highest on-time payment rate, indicating strong financial reliability and stability. This suggests they are ideal candidates for premium offers (e.g. lower interest rates, exclusive credit lines) to reinforce loyalty.\n",
    "\n",
    "- **Budget-conscious** customers have the lowest on-time payment rate, likely due to cash flow sensitivity. They may benefit from flexible repayment plans, automated reminders, or budgeting tools to reduce late payments.\n",
    "\n",
    "- **At-risk/inactive** customers show a moderate on-time payment rate, implying their \"risk\" may stem from inactivity (e.g. low engagement with other bank services) rather than payment defaults. Proactive re-engagement strategies (e.g. personalized incentives, reactivation campaigns) could improve retention."
   ]
  },
  {
   "cell_type": "code",
   "execution_count": 42,
   "metadata": {},
   "outputs": [
    {
     "name": "stdout",
     "output_type": "stream",
     "text": [
      "loan_category                 Asset Acquisition  Business & Education  \\\n",
      "Segment                                                                 \n",
      "At risk / inactive customers          14.786967              3.258145   \n",
      "Budget-conscious                      13.817097              4.694058   \n",
      "High-value                            35.421065             13.300493   \n",
      "\n",
      "loan_category                 Credit Product  Debt Management  \\\n",
      "Segment                                                         \n",
      "At risk / inactive customers       15.538847        53.634085   \n",
      "Budget-conscious                   19.626684        50.530152   \n",
      "High-value                         13.112831        30.987567   \n",
      "\n",
      "loan_category                 Lifestyle & Personal  Miscellaneous  \n",
      "Segment                                                            \n",
      "At risk / inactive customers              3.759398       9.022556  \n",
      "Budget-conscious                          3.688977       7.643031  \n",
      "High-value                                2.580342       4.597701  \n"
     ]
    }
   ],
   "source": [
    "# Calculating the percentage distribution of loan categories within each segment\n",
    "loan_cat_percent = pd.crosstab(df['Segment'], df['loan_category'], normalize='index') * 100\n",
    "print(loan_cat_percent)"
   ]
  },
  {
   "cell_type": "markdown",
   "metadata": {},
   "source": [
    "**Key Insights:**  \n",
    "\n",
    "- **High-value customers** have the highest asset acquisition, business and education loans, and the lowest debt management loans, indicating a focus on investments and aligning with their financial stability.\n",
    "\n",
    "- **Budget-conscious** customers show high debt Management loans, signaling potential financial stress or reliance on loans to manage existing obligations. Significant credit product usage suggests they may use credit to bridge cash flow gaps.\n",
    "\n",
    "- **At-risk/inactive** customers have the highest debt management loans, indicating severe financial strain, which likely contributes to their \"at-risk\" status."
   ]
  },
  {
   "cell_type": "markdown",
   "metadata": {},
   "source": [
    "#### **Product Usage Across Customer Segments**"
   ]
  },
  {
   "cell_type": "code",
   "execution_count": 43,
   "metadata": {},
   "outputs": [
    {
     "name": "stdout",
     "output_type": "stream",
     "text": [
      "Product Usage Proportions by Segment:\n",
      "                              has_investment_product  has_credit_card  \\\n",
      "Segment                                                                 \n",
      "At risk / inactive customers                0.586466         0.631579   \n",
      "Budget-conscious                            0.648443         0.667329   \n",
      "High-value                                  0.883885         0.909219   \n",
      "\n",
      "                              has_fixed_deposit  has_insurance  \n",
      "Segment                                                         \n",
      "At risk / inactive customers           0.714286       0.398496  \n",
      "Budget-conscious                       0.635189       0.414844  \n",
      "High-value                             0.879662       0.825475  \n"
     ]
    }
   ],
   "source": [
    "# Calculating the average product ownership for each segment across specified product columns\n",
    "product_columns = ['has_investment_product', 'has_credit_card', \n",
    "                   'has_fixed_deposit', 'has_insurance']\n",
    "\n",
    "usage_summary = df.groupby('Segment')[product_columns].mean()\n",
    "print(\"Product Usage Proportions by Segment:\")\n",
    "print(usage_summary)"
   ]
  },
  {
   "cell_type": "code",
   "execution_count": 44,
   "metadata": {},
   "outputs": [
    {
     "data": {
      "image/png": "[encoded data removed]",
      "text/plain": [
       "<Figure size 1200x600 with 1 Axes>"
      ]
     },
     "metadata": {},
     "output_type": "display_data"
    }
   ],
   "source": [
    "# Barplot of product usage proportions by customer segment\n",
    "usage_summary_reset = usage_summary.reset_index()\n",
    "usage_melted = usage_summary_reset.melt(id_vars='Segment', \n",
    "                                         var_name='Product', \n",
    "                                         value_name='Proportion')\n",
    "\n",
    "plt.figure(figsize=(12, 6))\n",
    "ax = sns.barplot(data=usage_melted, x='Product', y='Proportion', hue='Segment')\n",
    "plt.title('Product Usage Proportions by Customer Segment')\n",
    "plt.ylabel('Proportion of Customers Owning Product')\n",
    "plt.xlabel('Product')\n",
    "plt.legend(title='Segment')\n",
    "plt.xticks(rotation=45)\n",
    "\n",
    "for p in ax.patches:\n",
    "    ax.annotate(f'{p.get_height():.2f}', \n",
    "                (p.get_x() + p.get_width() / 2., p.get_height()), \n",
    "                ha='center', va='center', \n",
    "                color='black', fontsize=10, \n",
    "                xytext=(0, 5), textcoords='offset points')  \n",
    "\n",
    "plt.tight_layout()\n",
    "plt.show()"
   ]
  },
  {
   "cell_type": "code",
   "execution_count": 45,
   "metadata": {},
   "outputs": [
    {
     "name": "stdout",
     "output_type": "stream",
     "text": [
      "Chi-Square Test for has_investment_product\n",
      "Contingency Table:\n",
      "has_investment_product           0     1\n",
      "Segment                                 \n",
      "At risk / inactive customers   165   234\n",
      "Budget-conscious              3183  5871\n",
      "High-value                     495  3768\n",
      "Chi-square Statistic: 832.8562\n",
      "Degrees of Freedom: 2\n",
      "p-value: 0.0000\n",
      "Expected Frequencies:\n",
      "[[ 111.79330709  287.20669291]\n",
      " [2536.78346457 6517.21653543]\n",
      " [1194.42322835 3068.57677165]]\n",
      "=> The difference in usage across segments is statistically significant.\n",
      "Chi-Square Test for has_credit_card\n",
      "Contingency Table:\n",
      "has_credit_card                  0     1\n",
      "Segment                                 \n",
      "At risk / inactive customers   147   252\n",
      "Budget-conscious              3012  6042\n",
      "High-value                     387  3876\n",
      "Chi-square Statistic: 910.5536\n",
      "Degrees of Freedom: 2\n",
      "p-value: 0.0000\n",
      "Expected Frequencies:\n",
      "[[ 103.15354331  295.84645669]\n",
      " [2340.73228346 6713.26771654]\n",
      " [1102.11417323 3160.88582677]]\n",
      "=> The difference in usage across segments is statistically significant.\n",
      "Chi-Square Test for has_fixed_deposit\n",
      "Contingency Table:\n",
      "has_fixed_deposit                0     1\n",
      "Segment                                 \n",
      "At risk / inactive customers   114   285\n",
      "Budget-conscious              3303  5751\n",
      "High-value                     513  3750\n",
      "Chi-square Statistic: 847.3646\n",
      "Degrees of Freedom: 2\n",
      "p-value: 0.0000\n",
      "Expected Frequencies:\n",
      "[[ 114.32414698  284.67585302]\n",
      " [2594.21259843 6459.78740157]\n",
      " [1221.46325459 3041.53674541]]\n",
      "=> The difference in usage across segments is statistically significant.\n",
      "Chi-Square Test for has_insurance\n",
      "Contingency Table:\n",
      "has_insurance                    0     1\n",
      "Segment                                 \n",
      "At risk / inactive customers   240   159\n",
      "Budget-conscious              5298  3756\n",
      "High-value                     744  3519\n",
      "Chi-square Statistic: 2002.8227\n",
      "Degrees of Freedom: 2\n",
      "p-value: 0.0000\n",
      "Expected Frequencies:\n",
      "[[ 182.74409449  216.25590551]\n",
      " [4146.77952756 4907.22047244]\n",
      " [1952.47637795 2310.52362205]]\n",
      "=> The difference in usage across segments is statistically significant.\n"
     ]
    }
   ],
   "source": [
    "# Performing Chi-square test for statistical significance in product usage differences across segments\n",
    "for product in product_columns:\n",
    "    print(f\"Chi-Square Test for {product}\")\n",
    "    \n",
    "    ct = pd.crosstab(df['Segment'], df[product])\n",
    "    print(\"Contingency Table:\")\n",
    "    print(ct)\n",
    "    \n",
    "    chi2, p, dof, expected = stats.chi2_contingency(ct)\n",
    "\n",
    "    print(f\"Chi-square Statistic: {chi2:.4f}\")\n",
    "    print(f\"Degrees of Freedom: {dof}\")\n",
    "    print(f\"p-value: {p:.4f}\")\n",
    "    print(\"Expected Frequencies:\")\n",
    "    print(expected)\n",
    "    \n",
    "    if p < 0.05:\n",
    "        print(\"=> The difference in usage across segments is statistically significant.\")\n",
    "    else:\n",
    "        print(\"=> The difference in usage across segments is not statistically significant.\")"
   ]
  },
  {
   "cell_type": "markdown",
   "metadata": {},
   "source": [
    "**Summary of key findings:**\n",
    "\n",
    "- **High-value** customers show dominance in premium products with the highest adoption of investment products, credit cards, fixed deposits, and insurance. \n",
    "\n",
    "- **Budget-conscious** customers show moderate adoption of core products such as credit cards and insurance, but investment products lag behind high-value. There is also low fixed deposit usage, suggesting limited savings capacity.\n",
    "\n",
    "- **At-risk/inactive** customers show low engagement with the bank products.\n",
    "\n",
    "The chi-square tests validate that customer segments exhibit distinct financial behaviors, enabling highly targeted and data-driven marketing strategies."
   ]
  },
  {
   "cell_type": "markdown",
   "metadata": {},
   "source": [
    "#### **Transaction History Across Customer Segments**"
   ]
  },
  {
   "cell_type": "code",
   "execution_count": 46,
   "metadata": {},
   "outputs": [
    {
     "name": "stdout",
     "output_type": "stream",
     "text": [
      "Transaction count for each segment:\n",
      "                        Segment  tx_count\n",
      "0  At risk / inactive customers       399\n",
      "1              Budget-conscious      9054\n",
      "2                    High-value      4263\n",
      "\n",
      "Transaction count for each customer in each segment:\n",
      "      customer_id                       Segment  tx_count\n",
      "0               3  At risk / inactive customers         6\n",
      "1               4              Budget-conscious         6\n",
      "2               8              Budget-conscious         3\n",
      "3              13              Budget-conscious         3\n",
      "4              21              Budget-conscious         9\n",
      "...           ...                           ...       ...\n",
      "1264         3984              Budget-conscious         9\n",
      "1265         3990                    High-value         6\n",
      "1266         3996              Budget-conscious        21\n",
      "1267         3997              Budget-conscious        12\n",
      "1268         3999                    High-value        27\n",
      "\n",
      "[1269 rows x 3 columns]\n",
      "\n",
      "Average transaction count per segment:\n",
      "                        Segment   tx_count\n",
      "0  At risk / inactive customers   3.594595\n",
      "1              Budget-conscious  10.540163\n",
      "2                    High-value  14.257525\n"
     ]
    }
   ],
   "source": [
    "# Calculating the count of transactions for each segment\n",
    "tx_counts = df.groupby('Segment').size().reset_index(name='tx_count')\n",
    "print('Transaction count for each segment:')\n",
    "print(tx_counts)\n",
    "\n",
    "# Calculating the count of transactions for each customer in each segment\n",
    "customer_tx = df.groupby(['customer_id', 'Segment']).size().reset_index(name='tx_count')\n",
    "print('\\nTransaction count for each customer in each segment:')\n",
    "print(customer_tx)\n",
    "\n",
    "# Calculating the average transaction count per segment\n",
    "avg_tx_count_by_segment = customer_tx.groupby('Segment')['tx_count'].mean().reset_index()\n",
    "print('\\nAverage transaction count per segment:')\n",
    "print(avg_tx_count_by_segment)"
   ]
  },
  {
   "cell_type": "code",
   "execution_count": 47,
   "metadata": {},
   "outputs": [
    {
     "name": "stdout",
     "output_type": "stream",
     "text": [
      "transaction_type              Credit  Deposit  Transfer  Withdrawal\n",
      "Segment                                                            \n",
      "At risk / inactive customers     120       93        87          99\n",
      "Budget-conscious                2283     2181      2202        2388\n",
      "High-value                       984     1152      1092        1035\n"
     ]
    }
   ],
   "source": [
    "tx_type_distribution = pd.crosstab(df['Segment'], df['transaction_type'])\n",
    "print(tx_type_distribution)"
   ]
  },
  {
   "cell_type": "code",
   "execution_count": 48,
   "metadata": {},
   "outputs": [
    {
     "name": "stdout",
     "output_type": "stream",
     "text": [
      "money_flow                    Money In  Money Out\n",
      "Segment                                          \n",
      "At risk / inactive customers       213        186\n",
      "Budget-conscious                  4464       4590\n",
      "High-value                        2136       2127\n"
     ]
    }
   ],
   "source": [
    "# Calculating the distribution of money flow across segments\n",
    "flow_distribution = pd.crosstab(df['Segment'], df['money_flow'])\n",
    "print(flow_distribution)"
   ]
  },
  {
   "cell_type": "code",
   "execution_count": 49,
   "metadata": {},
   "outputs": [
    {
     "name": "stderr",
     "output_type": "stream",
     "text": [
      "C:\\Users\\Admin\\AppData\\Local\\Temp\\ipykernel_28884\\2538517884.py:4: FutureWarning: \n",
      "\n",
      "Passing `palette` without assigning `hue` is deprecated and will be removed in v0.14.0. Assign the `x` variable to `hue` and set `legend=False` for the same effect.\n",
      "\n",
      "  sns.barplot(data=avg_tx_count_by_segment, x='Segment', y='tx_count', palette='viridis', ax=ax[0])\n"
     ]
    },
    {
     "data": {
      "image/png": "[encoded data removed]",
      "text/plain": [
       "<Figure size 1600x600 with 2 Axes>"
      ]
     },
     "metadata": {},
     "output_type": "display_data"
    }
   ],
   "source": [
    "fig, ax = plt.subplots(1, 2, figsize=(16, 6))\n",
    "\n",
    "# Barplot of the average transaction count by customer segment\n",
    "sns.barplot(data=avg_tx_count_by_segment, x='Segment', y='tx_count', palette='viridis', ax=ax[0])\n",
    "ax[0].set_xlabel('Customer Segment')\n",
    "ax[0].set_ylabel('Average Transaction Count')\n",
    "ax[0].set_title('Average Transaction Count by Customer Segment')\n",
    "\n",
    "for p in ax[0].patches:\n",
    "    ax[0].annotate(f'{p.get_height():.2f}', \n",
    "                   (p.get_x() + p.get_width() / 2., p.get_height()), \n",
    "                   ha='center', va='center', \n",
    "                   color='black', fontsize=10, \n",
    "                   xytext=(0, 5), textcoords='offset points') \n",
    "\n",
    "# Barplot of the average transaction value by customer segment\n",
    "avg_transaction_value = df.groupby('Segment')['transaction_amt'].mean().reset_index()\n",
    "bars = ax[1].bar(avg_transaction_value['Segment'], avg_transaction_value['transaction_amt'], \n",
    "                 color=['skyblue', 'lightgreen', 'lightcoral'])\n",
    "ax[1].set_xlabel('Customer Segment')\n",
    "ax[1].set_ylabel('Average Transaction Value')\n",
    "ax[1].set_title('Average Transaction Value by Customer Segment')\n",
    "\n",
    "for bar in bars:\n",
    "    ax[1].text(bar.get_x() + bar.get_width() / 2, \n",
    "               bar.get_height(), \n",
    "               f'{bar.get_height():.2f}', \n",
    "               ha='center', \n",
    "               va='bottom', \n",
    "               fontsize=10, \n",
    "               color='black')\n",
    "\n",
    "plt.tight_layout()\n",
    "plt.show()"
   ]
  },
  {
   "cell_type": "code",
   "execution_count": 50,
   "metadata": {},
   "outputs": [
    {
     "name": "stdout",
     "output_type": "stream",
     "text": [
      "                        Segment money_flow  transaction_amt\n",
      "0  At risk / inactive customers   Money In         31712.43\n",
      "1  At risk / inactive customers  Money Out         28744.62\n",
      "2              Budget-conscious   Money In       1307123.76\n",
      "3              Budget-conscious  Money Out       1400718.81\n",
      "4                    High-value   Money In       1663566.78\n",
      "5                    High-value  Money Out       1613486.76\n"
     ]
    }
   ],
   "source": [
    "# Grouping by segment and money flow, and summing the transaction amount within each combination\n",
    "money_summary = df.groupby(['Segment', 'money_flow'])['transaction_amt'].sum().reset_index()\n",
    "print(money_summary)"
   ]
  },
  {
   "cell_type": "code",
   "execution_count": 51,
   "metadata": {},
   "outputs": [
    {
     "data": {
      "image/png": "[encoded data removed]",
      "text/plain": [
       "<Figure size 1800x600 with 2 Axes>"
      ]
     },
     "metadata": {},
     "output_type": "display_data"
    }
   ],
   "source": [
    "fig, ax = plt.subplots(1, 2, figsize=(18, 6))\n",
    "\n",
    "# Barplot of transaction amount (money_summary)\n",
    "sns.barplot(data=money_summary, x='Segment', y='transaction_amt', hue='money_flow', palette='viridis', ax=ax[0])\n",
    "\n",
    "for container in ax[0].containers:\n",
    "    ax[0].bar_label(container, fmt='%.2f', padding=3)\n",
    "\n",
    "ax[0].set_xlabel('Customer Segment')\n",
    "ax[0].set_ylabel('Transaction Amount')\n",
    "ax[0].set_title('Transaction Amount by Money Flow Across Customer Segments')\n",
    "ax[0].legend(title='Money Flow')\n",
    "\n",
    "# Barplot of transaction count for money flow across segments\n",
    "flow_distribution_reset = flow_distribution.reset_index()\n",
    "flow_melted = flow_distribution_reset.melt(id_vars='Segment', var_name='money_flow', value_name='Count')\n",
    "sns.barplot(data=flow_melted, x='Segment', y='Count', hue='money_flow', palette='viridis', ax=ax[1])\n",
    "\n",
    "for container in ax[1].containers:\n",
    "    ax[1].bar_label(container, padding=3)\n",
    "\n",
    "ax[1].set_xlabel('Customer Segment')\n",
    "ax[1].set_ylabel('Transaction Count')\n",
    "ax[1].set_title('Transaction Count by Money Flow Across Customer Segments')\n",
    "ax[1].legend(title='Money Flow')\n",
    "\n",
    "plt.tight_layout()\n",
    "plt.show()\n"
   ]
  },
  {
   "cell_type": "markdown",
   "metadata": {},
   "source": [
    "**Summary of key findings:**\n",
    "\n",
    "- **High-value** customers lead in transaction frequency and value, indicating frequent and high-value financial activities (e.g. investments, large purchases). Combined with their net depositor status (strong cash inflow) and premium product dominance, this reflects wealth-building behavior.\n",
    "\n",
    "- **Budget-conscious** customers show moderate transaction frequency and value, indicating cautious spending. This aligns with their net spender status (higher cash outflow) and reliance on core products.\n",
    "\n",
    "- **At-risk** customers exhibit the lowest transaction frequency, value, and activity, indicating low engagement rate."
   ]
  },
  {
   "cell_type": "markdown",
   "metadata": {},
   "source": [
    "#### **Digital Engagement Across Customer Segments**"
   ]
  },
  {
   "cell_type": "code",
   "execution_count": 52,
   "metadata": {},
   "outputs": [
    {
     "data": {
      "image/png": "[encoded data removed]",
      "text/plain": [
       "<Figure size 1400x700 with 2 Axes>"
      ]
     },
     "metadata": {},
     "output_type": "display_data"
    }
   ],
   "source": [
    "# Barplot of the engagement rate for each customer segment\n",
    "fig, ax = plt.subplots(1, 2, figsize=(14, 7))\n",
    "sns.barplot(x='Segment', y='has_mobile_app', data=df, ax=ax[0])\n",
    "ax[0].set_title('Mobile App Usage Across Segments')\n",
    "\n",
    "for p in ax[0].patches:\n",
    "    ax[0].annotate(f'{p.get_height():.2f}', \n",
    "                   (p.get_x() + p.get_width() / 2., p.get_height()), \n",
    "                   ha='center', va='center', \n",
    "                   color='black', fontsize=10, \n",
    "                   xytext=(0, 20), textcoords='offset points')\n",
    "\n",
    "sns.barplot(x='Segment', y='has_web_account', data=df, ax=ax[1])\n",
    "ax[1].set_title('Web Account Usage Across Segments')\n",
    "\n",
    "for p in ax[1].patches:\n",
    "    ax[1].annotate(f'{p.get_height():.2f}', \n",
    "                   (p.get_x() + p.get_width() / 2., p.get_height()), \n",
    "                   ha='center', va='center', \n",
    "                   color='black', fontsize=10, \n",
    "                   xytext=(0, 20), textcoords='offset points')\n",
    "\n",
    "plt.tight_layout()\n",
    "plt.show()"
   ]
  },
  {
   "cell_type": "code",
   "execution_count": 53,
   "metadata": {},
   "outputs": [
    {
     "name": "stdout",
     "output_type": "stream",
     "text": [
      "                             last_mobile_use last_web_use\n",
      "Segment                                                  \n",
      "At risk / inactive customers      2024-11-30   2024-12-29\n",
      "Budget-conscious                  2024-12-31   2024-12-31\n",
      "High-value                        2024-12-29   2024-12-31\n"
     ]
    }
   ],
   "source": [
    "# Grouping by segment and computing the most recent usage date for mobile and web\n",
    "recency_metrics = df.groupby('Segment').agg({\n",
    "    'last_mobile_use': 'max',\n",
    "    'last_web_use': 'max'\n",
    "})\n",
    "\n",
    "print(recency_metrics)"
   ]
  },
  {
   "cell_type": "code",
   "execution_count": 54,
   "metadata": {},
   "outputs": [
    {
     "data": {
      "image/png": "[encoded data removed]",
      "text/plain": [
       "<Figure size 640x480 with 1 Axes>"
      ]
     },
     "metadata": {},
     "output_type": "display_data"
    }
   ],
   "source": [
    "# Boxplot of mobile and web engagement ratio across customer segments\n",
    "sns.boxplot(x='Segment', y='mobile_web_ratio', data=df)\n",
    "plt.title('Mobile vs Web Engagement Ratio Across Segments')\n",
    "plt.show()"
   ]
  },
  {
   "cell_type": "code",
   "execution_count": 55,
   "metadata": {},
   "outputs": [
    {
     "name": "stdout",
     "output_type": "stream",
     "text": [
      "Segment\n",
      "Budget-conscious    36\n",
      "High-value           6\n",
      "dtype: int64\n"
     ]
    }
   ],
   "source": [
    "# Identifying inactive users (those with no mobile or web logins)\n",
    "inactive_users = df[(df['mobile_logins_wk'] == 0) & (df['web_logins_wk'] == 0)]\n",
    "inactive_by_segment = inactive_users.groupby('Segment').size()\n",
    "print(inactive_by_segment)"
   ]
  },
  {
   "cell_type": "markdown",
   "metadata": {},
   "source": [
    "**Summary of key insights:**  \n",
    "\n",
    "- **High-value** customers have the highest mobile app adoption and mobile-web ratio, indicating a strong preference for mobile platforms. \n",
    "\n",
    "- **Budget-conscious** customers have moderate engagement but include inactive users requiring re-engagement. \n",
    "\n",
    "- **At-risk/inactive** customers have the lowest mobile app and web account usage, signaling limited digital interaction."
   ]
  },
  {
   "cell_type": "markdown",
   "metadata": {},
   "source": [
    "#### **Targeted Marketing Approaches for each Customer Segment**"
   ]
  },
  {
   "cell_type": "markdown",
   "metadata": {},
   "source": [
    "##### **1. High-value Customers**\n",
    "\n",
    "**Key Characteristics:**  \n",
    "- **High Loyalty:** High percentage of promoters and on-time loan payments  \n",
    "- **Strong Financial Health:** Lower debt-to-income ratios and high balance-to-debt ratios\n",
    "- **Premium Product Behavior:** High adoption of investment products, fixed deposits, insurance, and credit cards \n",
    "- **Active Digital Engagement:** High mobile app adoption and high transaction values and frequency\n",
    "\n",
    "**Targeted Marketing Approaches:**  \n",
    "- **Retention & Loyalty Programmes:**  \n",
    "  - Offer exclusive rewards, premium services, and personalized offers (e.g. tailored wealth management bundles, investment + insurance packages)\n",
    "  - Develop loyalty initiatives that include benefits like cashback on large transactions and bonus interest rates on deposits\n",
    "\n",
    "- **Upsell Premium Financial Services:**  \n",
    "  - Promote wealth management services such as high-yield savings, portfolio diversification, and asset-backed loans\n",
    "  - Leverage their digital engagement by offering advanced mobile app features (e.g. AI-driven insights, instant investment alerts)\n",
    "\n",
    "- **Proactive Engagement:**  \n",
    "  - Use personalized push notifications and tailored mobile alerts to highlight exclusive offers and upcoming premium products\n",
    "\n",
    "#### **2. Budget-Conscious Customers**\n",
    "\n",
    "**Key Characteristics:**  \n",
    "- **Mixed Satisfaction:** Moderate number of promoters and detractors\n",
    "- **Financial Constraints:** Moderate debt-to-income ratios with some outliers and higher instances of debt management usage\n",
    "- **Core Product Reliance:** Frequent use of credit cards and insurance but lower engagement with savings products like fixed deposits\n",
    "- **Cautious Transaction Behavior:** Fewer and lower-value transactions with a slight net spending profile  \n",
    "- **Digital Challenges:** Moderate mobile adoption but highest observed inactivity among digital users\n",
    "\n",
    "**Targeted Marketing Approaches:**  \n",
    "- **Value-Driven Financial Solutions:**  \n",
    "  - Introduce cost-effective value propositions like micro-investment platforms and low-entry fixed deposits to encourage savings\n",
    "  - Roll out debt relief programmes, debt consolidation options, and refinancing offers to alleviate debt stress\n",
    "\n",
    "- **Educational & Financial Wellness Programmes:**  \n",
    "  - Offer content and workshops on debt management, budgeting tools, and financial literacy \n",
    "  - Provide automated savings tools to help transition spending to saving\n",
    "\n",
    "- **Digital Engagement Incentives:**  \n",
    "  - Launch app onboarding campaigns with incentives (e.g. cash rewards for first login or bill-payment discounts)  \n",
    "  - Simplify app user experience with guided tutorials and educational content that address everyday financial needs\n",
    "\n",
    "#### **3. At-Risk/Inactive Customers**\n",
    "\n",
    "**Key Characteristics:**  \n",
    "- **High Dissatisfaction:** Lowest promoter scores and highest percentage of detractors, reflecting disengagement \n",
    "- **Financial Stress:** High debt management usage, significant negative balance-to-debt ratios, and inconsistent financial stability\n",
    "- **Loan Dependence:** Higher reliance on debt management and miscellaneous borrowing, indicating emergency-driven needs  \n",
    "- **Low Transactional Activity:** Lowest average transaction frequency and value\n",
    "- **Digital Disengagement:** Lowest mobile adoption and overall lower digital interaction\n",
    "\n",
    "**Targeted Marketing Approaches:**  \n",
    "- **Reactivation & Outreach Campaigns:**  \n",
    "  - Develop personalized re-engagement initiatives such as targeted emails, SMS reminders, and one-on-one consultations to understand their needs\n",
    "  - Offer exclusive reactivation incentives like small, short-term loans or debt consolidation programmes to rebuild trust\n",
    "\n",
    "- **Tailored Debt & Financial Recovery Solutions:**  \n",
    "  - Introduce debt restructuring, credit counseling, and hardship programmes to address their acute financial challenges \n",
    "  - Provide low-risk digital products (e.g. secured credit cards, small fixed deposit options) to gently reintroduce them to the bank’s services\n",
    "\n",
    "- **Simplify and Support Digital Adoption:**  \n",
    "  - Run digital re-engagement campaigns with step-by-step guides for using mobile apps, along with perks such as fee waivers for app-based balance checks\n",
    "  - Create a simplified, user-friendly digital interface to reduce friction and build confidence in digital banking"
   ]
  }
 ],
 "metadata": {
  "kernelspec": {
   "display_name": "Python 3",
   "language": "python",
   "name": "python3"
  },
  "language_info": {
   "codemirror_mode": {
    "name": "ipython",
    "version": 3
   },
   "file_extension": ".py",
   "mimetype": "text/x-python",
   "name": "python",
   "nbconvert_exporter": "python",
   "pygments_lexer": "ipython3",
   "version": "3.10.6"
  }
 },
 "nbformat": 4,
 "nbformat_minor": 2
}
